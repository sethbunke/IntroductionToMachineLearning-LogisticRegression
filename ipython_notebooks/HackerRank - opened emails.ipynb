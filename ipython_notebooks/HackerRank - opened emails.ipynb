{
 "cells": [
  {
   "cell_type": "code",
   "execution_count": 1,
   "metadata": {
    "collapsed": false
   },
   "outputs": [],
   "source": [
    "%matplotlib inline\n",
    "import pandas as pd\n",
    "import numpy\n",
    "import scipy\n",
    "from sklearn.preprocessing import MinMaxScaler\n",
    "import matplotlib.pyplot as plt\n",
    "from sklearn import cross_validation\n",
    "from sklearn.metrics import confusion_matrix\n",
    "from sklearn.metrics import classification_report\n",
    "from sklearn.linear_model import LogisticRegression\n",
    "from sklearn.feature_selection import SelectKBest\n",
    "from sklearn.feature_selection import chi2\n",
    "import seaborn as sns"
   ]
  },
  {
   "cell_type": "code",
   "execution_count": 2,
   "metadata": {
    "collapsed": true
   },
   "outputs": [],
   "source": [
    "pd.set_option('display.width', 100)\n",
    "pd.set_option('precision', 3)"
   ]
  },
  {
   "cell_type": "code",
   "execution_count": 3,
   "metadata": {
    "collapsed": false
   },
   "outputs": [
    {
     "name": "stdout",
     "output_type": "stream",
     "text": [
      "(486048, 54)\n"
     ]
    }
   ],
   "source": [
    "file_name = r'data/hackerrank_email/training_dataset.csv'\n",
    "data = pd.read_csv(file_name)\n",
    "print(data.shape)"
   ]
  },
  {
   "cell_type": "code",
   "execution_count": 4,
   "metadata": {
    "collapsed": false
   },
   "outputs": [
    {
     "data": {
      "text/html": [
       "<div>\n",
       "<table border=\"1\" class=\"dataframe\">\n",
       "  <thead>\n",
       "    <tr style=\"text-align: right;\">\n",
       "      <th></th>\n",
       "      <th>user_id</th>\n",
       "      <th>mail_id</th>\n",
       "      <th>mail_category</th>\n",
       "      <th>mail_type</th>\n",
       "      <th>sent_time</th>\n",
       "      <th>open_time</th>\n",
       "      <th>click_time</th>\n",
       "      <th>unsubscribe_time</th>\n",
       "      <th>last_online</th>\n",
       "      <th>hacker_created_at</th>\n",
       "      <th>...</th>\n",
       "      <th>submissions_count_contest_1_days</th>\n",
       "      <th>submissions_count_contest_30_days</th>\n",
       "      <th>submissions_count_contest_365_days</th>\n",
       "      <th>submissions_count_contest_7_days</th>\n",
       "      <th>submissions_count_master</th>\n",
       "      <th>submissions_count_master_1_days</th>\n",
       "      <th>submissions_count_master_30_days</th>\n",
       "      <th>submissions_count_master_365_days</th>\n",
       "      <th>submissions_count_master_7_days</th>\n",
       "      <th>unsubscribed</th>\n",
       "    </tr>\n",
       "  </thead>\n",
       "  <tbody>\n",
       "    <tr>\n",
       "      <th>0</th>\n",
       "      <td>AR+tMy3H/E+Re8Id20zUIz+amJkv6KU12o+BrgIDin0=</td>\n",
       "      <td>DQ/4I+GIOz2ZoIiK0Lg0AkwnI35XotghgUK/MYc101I=</td>\n",
       "      <td>mail_category_2</td>\n",
       "      <td>mail_type_1</td>\n",
       "      <td>1463497837</td>\n",
       "      <td>1.464e+09</td>\n",
       "      <td>NaN</td>\n",
       "      <td>NaN</td>\n",
       "      <td>1.460e+09</td>\n",
       "      <td>1432533023</td>\n",
       "      <td>...</td>\n",
       "      <td>0</td>\n",
       "      <td>0</td>\n",
       "      <td>0</td>\n",
       "      <td>0</td>\n",
       "      <td>13</td>\n",
       "      <td>0</td>\n",
       "      <td>0</td>\n",
       "      <td>13</td>\n",
       "      <td>0</td>\n",
       "      <td>False</td>\n",
       "    </tr>\n",
       "    <tr>\n",
       "      <th>1</th>\n",
       "      <td>1P4AOvdzJzhDSHi7jJ3udWv4ajpKxOn4T/rCLv4PrXU=</td>\n",
       "      <td>BL3z4RtiyfIDydaRYWX2ZXL6IX10QH1yG5ak1s/8Lls=</td>\n",
       "      <td>mail_category_1</td>\n",
       "      <td>mail_type_1</td>\n",
       "      <td>1461357640</td>\n",
       "      <td>NaN</td>\n",
       "      <td>NaN</td>\n",
       "      <td>NaN</td>\n",
       "      <td>1.461e+09</td>\n",
       "      <td>1432184291</td>\n",
       "      <td>...</td>\n",
       "      <td>0</td>\n",
       "      <td>3</td>\n",
       "      <td>16</td>\n",
       "      <td>0</td>\n",
       "      <td>83</td>\n",
       "      <td>0</td>\n",
       "      <td>43</td>\n",
       "      <td>83</td>\n",
       "      <td>4</td>\n",
       "      <td>False</td>\n",
       "    </tr>\n",
       "    <tr>\n",
       "      <th>2</th>\n",
       "      <td>OEfFUcsTAGInCfsHuLZuIgdSNtuNsg8EdfN98VUZVTs=</td>\n",
       "      <td>BL3z4RtiyfIDydaRYWX2ZXL6IX10QH1yG5ak1s/8Lls=</td>\n",
       "      <td>mail_category_1</td>\n",
       "      <td>mail_type_1</td>\n",
       "      <td>1463499639</td>\n",
       "      <td>NaN</td>\n",
       "      <td>NaN</td>\n",
       "      <td>NaN</td>\n",
       "      <td>1.463e+09</td>\n",
       "      <td>1433045937</td>\n",
       "      <td>...</td>\n",
       "      <td>0</td>\n",
       "      <td>0</td>\n",
       "      <td>0</td>\n",
       "      <td>0</td>\n",
       "      <td>16</td>\n",
       "      <td>0</td>\n",
       "      <td>3</td>\n",
       "      <td>16</td>\n",
       "      <td>0</td>\n",
       "      <td>False</td>\n",
       "    </tr>\n",
       "    <tr>\n",
       "      <th>3</th>\n",
       "      <td>1P4AOvdzJzhDSHi7jJ3udWv4ajpKxOn4T/rCLv4PrXU=</td>\n",
       "      <td>EHNBRbi6i9KO6cMHsuDPFjZVp2cY3RH+BiOKwPwzLQs=</td>\n",
       "      <td>mail_category_1</td>\n",
       "      <td>mail_type_1</td>\n",
       "      <td>1463182983</td>\n",
       "      <td>NaN</td>\n",
       "      <td>NaN</td>\n",
       "      <td>NaN</td>\n",
       "      <td>1.463e+09</td>\n",
       "      <td>1432184291</td>\n",
       "      <td>...</td>\n",
       "      <td>0</td>\n",
       "      <td>0</td>\n",
       "      <td>16</td>\n",
       "      <td>0</td>\n",
       "      <td>85</td>\n",
       "      <td>0</td>\n",
       "      <td>9</td>\n",
       "      <td>85</td>\n",
       "      <td>0</td>\n",
       "      <td>False</td>\n",
       "    </tr>\n",
       "    <tr>\n",
       "      <th>4</th>\n",
       "      <td>CYRcuV0cR0algMZJ1N6+3uKcqi8iu+6tJNzmBbmgN7o=</td>\n",
       "      <td>K0y/NW59TJkYc5y0HUwDeAXrewYT0JQlkcozz0s2V5Q=</td>\n",
       "      <td>mail_category_4</td>\n",
       "      <td>mail_type_1</td>\n",
       "      <td>1461855019</td>\n",
       "      <td>NaN</td>\n",
       "      <td>NaN</td>\n",
       "      <td>NaN</td>\n",
       "      <td>1.461e+09</td>\n",
       "      <td>1432998058</td>\n",
       "      <td>...</td>\n",
       "      <td>0</td>\n",
       "      <td>1</td>\n",
       "      <td>17</td>\n",
       "      <td>0</td>\n",
       "      <td>43</td>\n",
       "      <td>0</td>\n",
       "      <td>0</td>\n",
       "      <td>43</td>\n",
       "      <td>0</td>\n",
       "      <td>False</td>\n",
       "    </tr>\n",
       "    <tr>\n",
       "      <th>5</th>\n",
       "      <td>UREtRIcAzBFKmMt9ZSkFLofOWKAKmzsDD7BwrdxcPuk=</td>\n",
       "      <td>UGATDXARg7jMEInKH7oXgty2nwxnwD2l0OW/8Nsa0MI=</td>\n",
       "      <td>mail_category_6</td>\n",
       "      <td>mail_type_1</td>\n",
       "      <td>1459927021</td>\n",
       "      <td>NaN</td>\n",
       "      <td>NaN</td>\n",
       "      <td>NaN</td>\n",
       "      <td>1.458e+09</td>\n",
       "      <td>1431945704</td>\n",
       "      <td>...</td>\n",
       "      <td>0</td>\n",
       "      <td>0</td>\n",
       "      <td>13</td>\n",
       "      <td>0</td>\n",
       "      <td>88</td>\n",
       "      <td>0</td>\n",
       "      <td>0</td>\n",
       "      <td>88</td>\n",
       "      <td>0</td>\n",
       "      <td>False</td>\n",
       "    </tr>\n",
       "    <tr>\n",
       "      <th>6</th>\n",
       "      <td>NiDHS4AU/QOs3ppF618O6bUg8BxJd+EV4Ek26KWrDc0=</td>\n",
       "      <td>qE9zgWiITYA97RUiN4X/t9IVWLViLz+lKijaYegyBiQ=</td>\n",
       "      <td>mail_category_1</td>\n",
       "      <td>mail_type_1</td>\n",
       "      <td>1460230930</td>\n",
       "      <td>1.460e+09</td>\n",
       "      <td>NaN</td>\n",
       "      <td>NaN</td>\n",
       "      <td>1.460e+09</td>\n",
       "      <td>1432658834</td>\n",
       "      <td>...</td>\n",
       "      <td>0</td>\n",
       "      <td>0</td>\n",
       "      <td>0</td>\n",
       "      <td>0</td>\n",
       "      <td>20</td>\n",
       "      <td>0</td>\n",
       "      <td>12</td>\n",
       "      <td>20</td>\n",
       "      <td>12</td>\n",
       "      <td>False</td>\n",
       "    </tr>\n",
       "    <tr>\n",
       "      <th>7</th>\n",
       "      <td>sGNmP4gGVwh3YBpXtq6ZI05PIa3Z0iUaF+ujKonctu0=</td>\n",
       "      <td>BL3z4RtiyfIDydaRYWX2ZXL6IX10QH1yG5ak1s/8Lls=</td>\n",
       "      <td>mail_category_1</td>\n",
       "      <td>mail_type_1</td>\n",
       "      <td>1462282973</td>\n",
       "      <td>NaN</td>\n",
       "      <td>NaN</td>\n",
       "      <td>NaN</td>\n",
       "      <td>1.462e+09</td>\n",
       "      <td>1432294499</td>\n",
       "      <td>...</td>\n",
       "      <td>0</td>\n",
       "      <td>0</td>\n",
       "      <td>0</td>\n",
       "      <td>0</td>\n",
       "      <td>14</td>\n",
       "      <td>0</td>\n",
       "      <td>14</td>\n",
       "      <td>14</td>\n",
       "      <td>14</td>\n",
       "      <td>False</td>\n",
       "    </tr>\n",
       "    <tr>\n",
       "      <th>8</th>\n",
       "      <td>nyoFu8qU0B5viJDXfrVRQ65ytOSSSY3c7okcjo1Z76M=</td>\n",
       "      <td>4+EEK8RbNYwuFCHznY9XSRCV4Yek60bHVgnP3jtjjzk=</td>\n",
       "      <td>mail_category_13</td>\n",
       "      <td>mail_type_2</td>\n",
       "      <td>1462888545</td>\n",
       "      <td>1.463e+09</td>\n",
       "      <td>NaN</td>\n",
       "      <td>NaN</td>\n",
       "      <td>1.463e+09</td>\n",
       "      <td>1432795707</td>\n",
       "      <td>...</td>\n",
       "      <td>0</td>\n",
       "      <td>19</td>\n",
       "      <td>265</td>\n",
       "      <td>0</td>\n",
       "      <td>129</td>\n",
       "      <td>0</td>\n",
       "      <td>0</td>\n",
       "      <td>129</td>\n",
       "      <td>0</td>\n",
       "      <td>False</td>\n",
       "    </tr>\n",
       "    <tr>\n",
       "      <th>9</th>\n",
       "      <td>A2EUbD7QN5SXpJ7FhPY5Ne7zwjwYhRvAheGskLl0Os8=</td>\n",
       "      <td>4+EEK8RbNYwuFCHznY9XSRCV4Yek60bHVgnP3jtjjzk=</td>\n",
       "      <td>mail_category_13</td>\n",
       "      <td>mail_type_2</td>\n",
       "      <td>1462888549</td>\n",
       "      <td>NaN</td>\n",
       "      <td>NaN</td>\n",
       "      <td>NaN</td>\n",
       "      <td>1.462e+09</td>\n",
       "      <td>1432059719</td>\n",
       "      <td>...</td>\n",
       "      <td>0</td>\n",
       "      <td>0</td>\n",
       "      <td>0</td>\n",
       "      <td>0</td>\n",
       "      <td>3</td>\n",
       "      <td>0</td>\n",
       "      <td>0</td>\n",
       "      <td>3</td>\n",
       "      <td>0</td>\n",
       "      <td>False</td>\n",
       "    </tr>\n",
       "  </tbody>\n",
       "</table>\n",
       "<p>10 rows × 54 columns</p>\n",
       "</div>"
      ],
      "text/plain": [
       "                                        user_id                                       mail_id  \\\n",
       "0  AR+tMy3H/E+Re8Id20zUIz+amJkv6KU12o+BrgIDin0=  DQ/4I+GIOz2ZoIiK0Lg0AkwnI35XotghgUK/MYc101I=   \n",
       "1  1P4AOvdzJzhDSHi7jJ3udWv4ajpKxOn4T/rCLv4PrXU=  BL3z4RtiyfIDydaRYWX2ZXL6IX10QH1yG5ak1s/8Lls=   \n",
       "2  OEfFUcsTAGInCfsHuLZuIgdSNtuNsg8EdfN98VUZVTs=  BL3z4RtiyfIDydaRYWX2ZXL6IX10QH1yG5ak1s/8Lls=   \n",
       "3  1P4AOvdzJzhDSHi7jJ3udWv4ajpKxOn4T/rCLv4PrXU=  EHNBRbi6i9KO6cMHsuDPFjZVp2cY3RH+BiOKwPwzLQs=   \n",
       "4  CYRcuV0cR0algMZJ1N6+3uKcqi8iu+6tJNzmBbmgN7o=  K0y/NW59TJkYc5y0HUwDeAXrewYT0JQlkcozz0s2V5Q=   \n",
       "5  UREtRIcAzBFKmMt9ZSkFLofOWKAKmzsDD7BwrdxcPuk=  UGATDXARg7jMEInKH7oXgty2nwxnwD2l0OW/8Nsa0MI=   \n",
       "6  NiDHS4AU/QOs3ppF618O6bUg8BxJd+EV4Ek26KWrDc0=  qE9zgWiITYA97RUiN4X/t9IVWLViLz+lKijaYegyBiQ=   \n",
       "7  sGNmP4gGVwh3YBpXtq6ZI05PIa3Z0iUaF+ujKonctu0=  BL3z4RtiyfIDydaRYWX2ZXL6IX10QH1yG5ak1s/8Lls=   \n",
       "8  nyoFu8qU0B5viJDXfrVRQ65ytOSSSY3c7okcjo1Z76M=  4+EEK8RbNYwuFCHznY9XSRCV4Yek60bHVgnP3jtjjzk=   \n",
       "9  A2EUbD7QN5SXpJ7FhPY5Ne7zwjwYhRvAheGskLl0Os8=  4+EEK8RbNYwuFCHznY9XSRCV4Yek60bHVgnP3jtjjzk=   \n",
       "\n",
       "      mail_category    mail_type   sent_time  open_time  click_time  unsubscribe_time  \\\n",
       "0   mail_category_2  mail_type_1  1463497837  1.464e+09         NaN               NaN   \n",
       "1   mail_category_1  mail_type_1  1461357640        NaN         NaN               NaN   \n",
       "2   mail_category_1  mail_type_1  1463499639        NaN         NaN               NaN   \n",
       "3   mail_category_1  mail_type_1  1463182983        NaN         NaN               NaN   \n",
       "4   mail_category_4  mail_type_1  1461855019        NaN         NaN               NaN   \n",
       "5   mail_category_6  mail_type_1  1459927021        NaN         NaN               NaN   \n",
       "6   mail_category_1  mail_type_1  1460230930  1.460e+09         NaN               NaN   \n",
       "7   mail_category_1  mail_type_1  1462282973        NaN         NaN               NaN   \n",
       "8  mail_category_13  mail_type_2  1462888545  1.463e+09         NaN               NaN   \n",
       "9  mail_category_13  mail_type_2  1462888549        NaN         NaN               NaN   \n",
       "\n",
       "   last_online  hacker_created_at      ...       submissions_count_contest_1_days  \\\n",
       "0    1.460e+09         1432533023      ...                                      0   \n",
       "1    1.461e+09         1432184291      ...                                      0   \n",
       "2    1.463e+09         1433045937      ...                                      0   \n",
       "3    1.463e+09         1432184291      ...                                      0   \n",
       "4    1.461e+09         1432998058      ...                                      0   \n",
       "5    1.458e+09         1431945704      ...                                      0   \n",
       "6    1.460e+09         1432658834      ...                                      0   \n",
       "7    1.462e+09         1432294499      ...                                      0   \n",
       "8    1.463e+09         1432795707      ...                                      0   \n",
       "9    1.462e+09         1432059719      ...                                      0   \n",
       "\n",
       "  submissions_count_contest_30_days  submissions_count_contest_365_days  \\\n",
       "0                                 0                                   0   \n",
       "1                                 3                                  16   \n",
       "2                                 0                                   0   \n",
       "3                                 0                                  16   \n",
       "4                                 1                                  17   \n",
       "5                                 0                                  13   \n",
       "6                                 0                                   0   \n",
       "7                                 0                                   0   \n",
       "8                                19                                 265   \n",
       "9                                 0                                   0   \n",
       "\n",
       "   submissions_count_contest_7_days  submissions_count_master  submissions_count_master_1_days  \\\n",
       "0                                 0                        13                                0   \n",
       "1                                 0                        83                                0   \n",
       "2                                 0                        16                                0   \n",
       "3                                 0                        85                                0   \n",
       "4                                 0                        43                                0   \n",
       "5                                 0                        88                                0   \n",
       "6                                 0                        20                                0   \n",
       "7                                 0                        14                                0   \n",
       "8                                 0                       129                                0   \n",
       "9                                 0                         3                                0   \n",
       "\n",
       "   submissions_count_master_30_days  submissions_count_master_365_days  \\\n",
       "0                                 0                                 13   \n",
       "1                                43                                 83   \n",
       "2                                 3                                 16   \n",
       "3                                 9                                 85   \n",
       "4                                 0                                 43   \n",
       "5                                 0                                 88   \n",
       "6                                12                                 20   \n",
       "7                                14                                 14   \n",
       "8                                 0                                129   \n",
       "9                                 0                                  3   \n",
       "\n",
       "   submissions_count_master_7_days  unsubscribed  \n",
       "0                                0         False  \n",
       "1                                4         False  \n",
       "2                                0         False  \n",
       "3                                0         False  \n",
       "4                                0         False  \n",
       "5                                0         False  \n",
       "6                               12         False  \n",
       "7                               14         False  \n",
       "8                                0         False  \n",
       "9                                0         False  \n",
       "\n",
       "[10 rows x 54 columns]"
      ]
     },
     "execution_count": 4,
     "metadata": {},
     "output_type": "execute_result"
    }
   ],
   "source": [
    "data.head(10)"
   ]
  },
  {
   "cell_type": "code",
   "execution_count": 5,
   "metadata": {
    "collapsed": false
   },
   "outputs": [
    {
     "data": {
      "text/plain": [
       "<matplotlib.axes._subplots.AxesSubplot at 0x19def710>"
      ]
     },
     "execution_count": 5,
     "metadata": {},
     "output_type": "execute_result"
    },
    {
     "data": {
      "image/png": "[encoded data removed]",
      "text/plain": [
       "<matplotlib.figure.Figure at 0x17d5c898>"
      ]
     },
     "metadata": {},
     "output_type": "display_data"
    }
   ],
   "source": [
    "correlations = data.corr(method='pearson')\n",
    "sns.heatmap(correlations, cmap='RdYlGn_r', vmax=1.0, vmin=-1.0, linewidths=2.5)"
   ]
  },
  {
   "cell_type": "code",
   "execution_count": 6,
   "metadata": {
    "collapsed": false
   },
   "outputs": [
    {
     "name": "stdout",
     "output_type": "stream",
     "text": [
      "486048\n",
      "Opened: 161347; Unopened: 324701\n"
     ]
    }
   ],
   "source": [
    "print(data.shape[0])\n",
    "opened = (len(data[data['opened'] == True])) \n",
    "not_opened = (len(data[data['opened'] == False]))\n",
    "print ('Opened: ' + str(opened) + '; Unopened: ' + str(not_opened) + '')"
   ]
  },
  {
   "cell_type": "code",
   "execution_count": 7,
   "metadata": {
    "collapsed": false
   },
   "outputs": [
    {
     "data": {
      "text/html": [
       "<div>\n",
       "<table border=\"1\" class=\"dataframe\">\n",
       "  <thead>\n",
       "    <tr style=\"text-align: right;\">\n",
       "      <th></th>\n",
       "      <th>clicked</th>\n",
       "      <th>unsubscribed</th>\n",
       "      <th>submissions_count_master_7_days</th>\n",
       "      <th>contest_login_count_30_days</th>\n",
       "      <th>contest_login_count_7_days</th>\n",
       "      <th>hacker_confirmation</th>\n",
       "      <th>opened</th>\n",
       "    </tr>\n",
       "  </thead>\n",
       "  <tbody>\n",
       "    <tr>\n",
       "      <th>clicked</th>\n",
       "      <td>1.000</td>\n",
       "      <td>-0.006</td>\n",
       "      <td>0.064</td>\n",
       "      <td>0.062</td>\n",
       "      <td>0.062</td>\n",
       "      <td>0.026</td>\n",
       "      <td>0.308</td>\n",
       "    </tr>\n",
       "    <tr>\n",
       "      <th>unsubscribed</th>\n",
       "      <td>-0.006</td>\n",
       "      <td>1.000</td>\n",
       "      <td>-0.003</td>\n",
       "      <td>-0.002</td>\n",
       "      <td>0.007</td>\n",
       "      <td>0.002</td>\n",
       "      <td>0.075</td>\n",
       "    </tr>\n",
       "    <tr>\n",
       "      <th>submissions_count_master_7_days</th>\n",
       "      <td>0.064</td>\n",
       "      <td>-0.003</td>\n",
       "      <td>1.000</td>\n",
       "      <td>0.176</td>\n",
       "      <td>0.223</td>\n",
       "      <td>0.047</td>\n",
       "      <td>0.055</td>\n",
       "    </tr>\n",
       "    <tr>\n",
       "      <th>contest_login_count_30_days</th>\n",
       "      <td>0.062</td>\n",
       "      <td>-0.002</td>\n",
       "      <td>0.176</td>\n",
       "      <td>1.000</td>\n",
       "      <td>0.547</td>\n",
       "      <td>0.004</td>\n",
       "      <td>0.049</td>\n",
       "    </tr>\n",
       "    <tr>\n",
       "      <th>contest_login_count_7_days</th>\n",
       "      <td>0.062</td>\n",
       "      <td>0.007</td>\n",
       "      <td>0.223</td>\n",
       "      <td>0.547</td>\n",
       "      <td>1.000</td>\n",
       "      <td>-0.025</td>\n",
       "      <td>0.043</td>\n",
       "    </tr>\n",
       "    <tr>\n",
       "      <th>hacker_confirmation</th>\n",
       "      <td>0.026</td>\n",
       "      <td>0.002</td>\n",
       "      <td>0.047</td>\n",
       "      <td>0.004</td>\n",
       "      <td>-0.025</td>\n",
       "      <td>1.000</td>\n",
       "      <td>0.076</td>\n",
       "    </tr>\n",
       "    <tr>\n",
       "      <th>opened</th>\n",
       "      <td>0.308</td>\n",
       "      <td>0.075</td>\n",
       "      <td>0.055</td>\n",
       "      <td>0.049</td>\n",
       "      <td>0.043</td>\n",
       "      <td>0.076</td>\n",
       "      <td>1.000</td>\n",
       "    </tr>\n",
       "  </tbody>\n",
       "</table>\n",
       "</div>"
      ],
      "text/plain": [
       "                                 clicked  unsubscribed  submissions_count_master_7_days  \\\n",
       "clicked                            1.000        -0.006                            0.064   \n",
       "unsubscribed                      -0.006         1.000                           -0.003   \n",
       "submissions_count_master_7_days    0.064        -0.003                            1.000   \n",
       "contest_login_count_30_days        0.062        -0.002                            0.176   \n",
       "contest_login_count_7_days         0.062         0.007                            0.223   \n",
       "hacker_confirmation                0.026         0.002                            0.047   \n",
       "opened                             0.308         0.075                            0.055   \n",
       "\n",
       "                                 contest_login_count_30_days  contest_login_count_7_days  \\\n",
       "clicked                                                0.062                       0.062   \n",
       "unsubscribed                                          -0.002                       0.007   \n",
       "submissions_count_master_7_days                        0.176                       0.223   \n",
       "contest_login_count_30_days                            1.000                       0.547   \n",
       "contest_login_count_7_days                             0.547                       1.000   \n",
       "hacker_confirmation                                    0.004                      -0.025   \n",
       "opened                                                 0.049                       0.043   \n",
       "\n",
       "                                 hacker_confirmation  opened  \n",
       "clicked                                        0.026   0.308  \n",
       "unsubscribed                                   0.002   0.075  \n",
       "submissions_count_master_7_days                0.047   0.055  \n",
       "contest_login_count_30_days                    0.004   0.049  \n",
       "contest_login_count_7_days                    -0.025   0.043  \n",
       "hacker_confirmation                            1.000   0.076  \n",
       "opened                                         0.076   1.000  "
      ]
     },
     "execution_count": 7,
     "metadata": {},
     "output_type": "execute_result"
    }
   ],
   "source": [
    "data_sub = data[['clicked', 'unsubscribed', 'submissions_count_master_7_days', 'contest_login_count_30_days', 'contest_login_count_7_days',\n",
    "'hacker_confirmation','opened']]\n",
    "data_sub.corr(method='pearson')"
   ]
  },
  {
   "cell_type": "code",
   "execution_count": 8,
   "metadata": {
    "collapsed": false
   },
   "outputs": [
    {
     "data": {
      "text/plain": [
       "<matplotlib.axes._subplots.AxesSubplot at 0x2276fd30>"
      ]
     },
     "execution_count": 8,
     "metadata": {},
     "output_type": "execute_result"
    },
    {
     "data": {
      "image/png": "[encoded data removed]",
      "text/plain": [
       "<matplotlib.figure.Figure at 0x2276fc50>"
      ]
     },
     "metadata": {},
     "output_type": "display_data"
    }
   ],
   "source": [
    "correlations_sub = data_sub.corr(method='pearson')\n",
    "sns.heatmap(correlations_sub, cmap='RdYlGn_r', vmax=1.0, vmin=-1.0, linewidths=2.5)"
   ]
  },
  {
   "cell_type": "code",
   "execution_count": 9,
   "metadata": {
    "collapsed": false
   },
   "outputs": [
    {
     "name": "stderr",
     "output_type": "stream",
     "text": [
      "C:\\Anaconda2\\lib\\site-packages\\ipykernel\\__main__.py:3: SettingWithCopyWarning: \n",
      "A value is trying to be set on a copy of a slice from a DataFrame.\n",
      "Try using .loc[row_indexer,col_indexer] = value instead\n",
      "\n",
      "See the caveats in the documentation: http://pandas.pydata.org/pandas-docs/stable/indexing.html#indexing-view-versus-copy\n",
      "  app.launch_new_instance()\n",
      "C:\\Anaconda2\\lib\\site-packages\\ipykernel\\__main__.py:4: SettingWithCopyWarning: \n",
      "A value is trying to be set on a copy of a slice from a DataFrame.\n",
      "Try using .loc[row_indexer,col_indexer] = value instead\n",
      "\n",
      "See the caveats in the documentation: http://pandas.pydata.org/pandas-docs/stable/indexing.html#indexing-view-versus-copy\n",
      "C:\\Anaconda2\\lib\\site-packages\\ipykernel\\__main__.py:5: SettingWithCopyWarning: \n",
      "A value is trying to be set on a copy of a slice from a DataFrame.\n",
      "Try using .loc[row_indexer,col_indexer] = value instead\n",
      "\n",
      "See the caveats in the documentation: http://pandas.pydata.org/pandas-docs/stable/indexing.html#indexing-view-versus-copy\n",
      "C:\\Anaconda2\\lib\\site-packages\\ipykernel\\__main__.py:6: SettingWithCopyWarning: \n",
      "A value is trying to be set on a copy of a slice from a DataFrame.\n",
      "Try using .loc[row_indexer,col_indexer] = value instead\n",
      "\n",
      "See the caveats in the documentation: http://pandas.pydata.org/pandas-docs/stable/indexing.html#indexing-view-versus-copy\n"
     ]
    }
   ],
   "source": [
    "# opened_map = {True:1,False:0} #opened = 1, unopened = 0\n",
    "# data_sub['opened'] = data_sub['opened'].map(opened_map)\n",
    "data_sub['opened'] = data_sub['opened'].astype(int)\n",
    "data_sub['clicked'] = data_sub['clicked'].astype(int)\n",
    "data_sub['unsubscribed'] = data_sub['unsubscribed'].astype(int)\n",
    "data_sub['hacker_confirmation'] = data_sub['hacker_confirmation'].astype(int)"
   ]
  },
  {
   "cell_type": "code",
   "execution_count": 10,
   "metadata": {
    "collapsed": false
   },
   "outputs": [
    {
     "data": {
      "text/html": [
       "<div>\n",
       "<table border=\"1\" class=\"dataframe\">\n",
       "  <thead>\n",
       "    <tr style=\"text-align: right;\">\n",
       "      <th></th>\n",
       "      <th>clicked</th>\n",
       "      <th>unsubscribed</th>\n",
       "      <th>submissions_count_master_7_days</th>\n",
       "      <th>contest_login_count_30_days</th>\n",
       "      <th>contest_login_count_7_days</th>\n",
       "      <th>hacker_confirmation</th>\n",
       "      <th>opened</th>\n",
       "    </tr>\n",
       "  </thead>\n",
       "  <tbody>\n",
       "    <tr>\n",
       "      <th>0</th>\n",
       "      <td>0</td>\n",
       "      <td>0</td>\n",
       "      <td>0</td>\n",
       "      <td>0</td>\n",
       "      <td>0</td>\n",
       "      <td>1</td>\n",
       "      <td>1</td>\n",
       "    </tr>\n",
       "    <tr>\n",
       "      <th>1</th>\n",
       "      <td>0</td>\n",
       "      <td>0</td>\n",
       "      <td>4</td>\n",
       "      <td>1</td>\n",
       "      <td>0</td>\n",
       "      <td>1</td>\n",
       "      <td>0</td>\n",
       "    </tr>\n",
       "    <tr>\n",
       "      <th>2</th>\n",
       "      <td>0</td>\n",
       "      <td>0</td>\n",
       "      <td>0</td>\n",
       "      <td>0</td>\n",
       "      <td>0</td>\n",
       "      <td>1</td>\n",
       "      <td>0</td>\n",
       "    </tr>\n",
       "    <tr>\n",
       "      <th>3</th>\n",
       "      <td>0</td>\n",
       "      <td>0</td>\n",
       "      <td>0</td>\n",
       "      <td>0</td>\n",
       "      <td>0</td>\n",
       "      <td>1</td>\n",
       "      <td>0</td>\n",
       "    </tr>\n",
       "    <tr>\n",
       "      <th>4</th>\n",
       "      <td>0</td>\n",
       "      <td>0</td>\n",
       "      <td>0</td>\n",
       "      <td>0</td>\n",
       "      <td>0</td>\n",
       "      <td>1</td>\n",
       "      <td>0</td>\n",
       "    </tr>\n",
       "  </tbody>\n",
       "</table>\n",
       "</div>"
      ],
      "text/plain": [
       "   clicked  unsubscribed  submissions_count_master_7_days  contest_login_count_30_days  \\\n",
       "0        0             0                                0                            0   \n",
       "1        0             0                                4                            1   \n",
       "2        0             0                                0                            0   \n",
       "3        0             0                                0                            0   \n",
       "4        0             0                                0                            0   \n",
       "\n",
       "   contest_login_count_7_days  hacker_confirmation  opened  \n",
       "0                           0                    1       1  \n",
       "1                           0                    1       0  \n",
       "2                           0                    1       0  \n",
       "3                           0                    1       0  \n",
       "4                           0                    1       0  "
      ]
     },
     "execution_count": 10,
     "metadata": {},
     "output_type": "execute_result"
    }
   ],
   "source": [
    "data_sub.head(5)"
   ]
  },
  {
   "cell_type": "code",
   "execution_count": 11,
   "metadata": {
    "collapsed": false
   },
   "outputs": [],
   "source": [
    "#list(data.columns.values)"
   ]
  },
  {
   "cell_type": "code",
   "execution_count": 12,
   "metadata": {
    "collapsed": false
   },
   "outputs": [],
   "source": [
    "#data.dtypes"
   ]
  },
  {
   "cell_type": "code",
   "execution_count": 13,
   "metadata": {
    "collapsed": true
   },
   "outputs": [],
   "source": [
    "num_folds = 10\n",
    "num_instances = len(data_sub)\n",
    "kfold_seed = 7\n",
    "kfold = cross_validation.KFold(n=num_instances, n_folds=num_folds, random_state=kfold_seed) \n",
    "model = LogisticRegression()"
   ]
  },
  {
   "cell_type": "code",
   "execution_count": 14,
   "metadata": {
    "collapsed": false
   },
   "outputs": [
    {
     "name": "stdout",
     "output_type": "stream",
     "text": [
      "[0 0 4 1 0 1]\n",
      "0\n"
     ]
    }
   ],
   "source": [
    "X = data_sub.values[:,0:6]\n",
    "Y = data_sub.values[:,6]\n",
    "print(X[1])\n",
    "print(Y[1])"
   ]
  },
  {
   "cell_type": "code",
   "execution_count": 15,
   "metadata": {
    "collapsed": true
   },
   "outputs": [],
   "source": [
    "def cross_validation_score(mod, X, Y, kfold, scoring):\n",
    "    score = cross_validation.cross_val_score(mod, X, Y, cv=kfold, scoring=scoring) \n",
    "    return ((\"Scoring: %s; Accuracy: %.3f (%.3f)\") % (scoring, score.mean(), score.std()), score)"
   ]
  },
  {
   "cell_type": "code",
   "execution_count": 16,
   "metadata": {
    "collapsed": false
   },
   "outputs": [
    {
     "name": "stdout",
     "output_type": "stream",
     "text": [
      "Scoring: accuracy; Accuracy: 0.719 (0.021)\n",
      "Scoring: log_loss; Accuracy: -0.582 (0.020)\n",
      "Scoring: roc_auc; Accuracy: 0.622 (0.023)\n"
     ]
    }
   ],
   "source": [
    "cross_val_scoring = ['accuracy','log_loss', 'roc_auc' ]\n",
    "for scoring in cross_val_scoring:    \n",
    "    result = cross_validation_score(model, X, Y, kfold, scoring)\n",
    "    print(result[0])"
   ]
  },
  {
   "cell_type": "code",
   "execution_count": 17,
   "metadata": {
    "collapsed": true
   },
   "outputs": [],
   "source": [
    "test_size = 0.33\n",
    "train_test_seed = 7\n",
    "X_train, X_test, Y_train, Y_test = cross_validation.train_test_split(X, Y, test_size=test_size, random_state=train_test_seed)\n",
    "model.fit(X_train, Y_train)\n",
    "predicted = model.predict(X_test)\n",
    "matrix = confusion_matrix(Y_test, predicted)"
   ]
  },
  {
   "cell_type": "code",
   "execution_count": 18,
   "metadata": {
    "collapsed": false
   },
   "outputs": [
    {
     "data": {
      "text/html": [
       "<div>\n",
       "<table border=\"1\" class=\"dataframe\">\n",
       "  <thead>\n",
       "    <tr style=\"text-align: right;\">\n",
       "      <th></th>\n",
       "      <th>0 (Predicted)</th>\n",
       "      <th>1 (Predicted)</th>\n",
       "    </tr>\n",
       "  </thead>\n",
       "  <tbody>\n",
       "    <tr>\n",
       "      <th>0 (Actual)</th>\n",
       "      <td>106640</td>\n",
       "      <td>764</td>\n",
       "    </tr>\n",
       "    <tr>\n",
       "      <th>1 (Actual)</th>\n",
       "      <td>44119</td>\n",
       "      <td>8873</td>\n",
       "    </tr>\n",
       "  </tbody>\n",
       "</table>\n",
       "</div>"
      ],
      "text/plain": [
       "            0 (Predicted)  1 (Predicted)\n",
       "0 (Actual)         106640            764\n",
       "1 (Actual)          44119           8873"
      ]
     },
     "execution_count": 18,
     "metadata": {},
     "output_type": "execute_result"
    }
   ],
   "source": [
    "pd.DataFrame(matrix, index=['0 (Actual)', '1 (Actual)'], columns=['0 (Predicted)', '1 (Predicted)'])"
   ]
  },
  {
   "cell_type": "code",
   "execution_count": 19,
   "metadata": {
    "collapsed": false
   },
   "outputs": [
    {
     "name": "stdout",
     "output_type": "stream",
     "text": [
      "             precision    recall  f1-score   support\n",
      "\n",
      "          0       0.71      0.99      0.83    107404\n",
      "          1       0.92      0.17      0.28     52992\n",
      "\n",
      "avg / total       0.78      0.72      0.65    160396\n",
      "\n"
     ]
    }
   ],
   "source": [
    "report = classification_report(Y_test, predicted)\n",
    "print(report)"
   ]
  },
  {
   "cell_type": "code",
   "execution_count": 20,
   "metadata": {
    "collapsed": false
   },
   "outputs": [],
   "source": [
    "# import xgboost\n",
    "# from sklearn.metrics import accuracy_score\n",
    "\n",
    "# seed = 7\n",
    "# test_size = 0.33\n",
    "# X_train, X_test, y_train, y_test = cross_validation.train_test_split(X, Y, test_size=test_size, random_state=seed)\n",
    "# # fit model no training data\n",
    "# model = xgboost.XGBClassifier()\n",
    "# model.fit(X_train, y_train)\n",
    "# # make predictions for test data\n",
    "# y_pred = model.predict(X_test)\n",
    "# predictions = [round(value) for value in y_pred]\n",
    "# # evaluate predictions\n",
    "# accuracy = accuracy_score(y_test, predictions)\n",
    "# print(\"Accuracy: %.2f%%\" % (accuracy * 100.0))"
   ]
  },
  {
   "cell_type": "code",
   "execution_count": 21,
   "metadata": {
    "collapsed": true
   },
   "outputs": [],
   "source": [
    "from sklearn.discriminant_analysis import LinearDiscriminantAnalysis\n",
    "from sklearn.neighbors import KNeighborsClassifier\n",
    "from sklearn.naive_bayes import GaussianNB\n",
    "from sklearn.tree import DecisionTreeClassifier\n",
    "from sklearn.svm import SVC\n",
    "from sklearn.ensemble import RandomForestClassifier\n",
    "\n",
    "models = [LogisticRegression(), LinearDiscriminantAnalysis(), RandomForestClassifier(n_estimators=100)] \n",
    "#DecisionTreeClassifier(),  SVC()] #KNeighborsClassifier(),"
   ]
  },
  {
   "cell_type": "code",
   "execution_count": 22,
   "metadata": {
    "collapsed": true
   },
   "outputs": [],
   "source": [
    "def assess_models(model, X, Y):\n",
    "    seed = 7\n",
    "    num_instances = len(X)\n",
    "    test_size = 0.33\n",
    "    kfold = cross_validation.KFold(n=num_instances, n_folds=num_folds, random_state=seed)\n",
    "    #model = LinearDiscriminantAnalysis()\n",
    "    results = cross_validation.cross_val_score(model, X, Y, cv=kfold)\n",
    "    print(results.mean())\n",
    "\n",
    "#     X_train, X_test, y_train, y_test = cross_validation.train_test_split(X, Y, test_size=test_size, random_state=seed)\n",
    "#     # fit model no training data\n",
    "#     #model = xgboost.XGBClassifier()\n",
    "#     model.fit(X_train, y_train)\n",
    "#     # make predictions for test data\n",
    "#     y_pred = model.predict(X_test)\n",
    "#     predictions = [round(value) for value in y_pred]\n",
    "#     # evaluate predictions\n",
    "#     accuracy = accuracy_score(y_test, predictions)\n",
    "#     print(\"Accuracy: %.2f%%\" % (accuracy * 100.0))"
   ]
  },
  {
   "cell_type": "code",
   "execution_count": 23,
   "metadata": {
    "collapsed": false
   },
   "outputs": [],
   "source": [
    "# for mod in models:\n",
    "#     assess_models(mod,X,Y)"
   ]
  },
  {
   "cell_type": "code",
   "execution_count": 29,
   "metadata": {
    "collapsed": false
   },
   "outputs": [
    {
     "name": "stdout",
     "output_type": "stream",
     "text": [
      "0.718750138874\n"
     ]
    }
   ],
   "source": [
    "#LogisticRegression\n",
    "assess_models(models[0],X,Y)"
   ]
  },
  {
   "cell_type": "code",
   "execution_count": 25,
   "metadata": {
    "collapsed": false
   },
   "outputs": [
    {
     "name": "stdout",
     "output_type": "stream",
     "text": [
      "0.718828320681\n"
     ]
    }
   ],
   "source": [
    "#LinearDiscriminantAnalysis\n",
    "#assess_models(models[1],X,Y) #0.718828320681"
   ]
  },
  {
   "cell_type": "code",
   "execution_count": 26,
   "metadata": {
    "collapsed": false
   },
   "outputs": [
    {
     "name": "stdout",
     "output_type": "stream",
     "text": [
      "0.717124781147\n"
     ]
    }
   ],
   "source": [
    "#RandomForest\n",
    "#assess_models(models[2],X,Y) 0.717124781147"
   ]
  },
  {
   "cell_type": "code",
   "execution_count": 27,
   "metadata": {
    "collapsed": true
   },
   "outputs": [],
   "source": [
    "#assess_models(models[3],X,Y)"
   ]
  },
  {
   "cell_type": "code",
   "execution_count": 28,
   "metadata": {
    "collapsed": true
   },
   "outputs": [],
   "source": [
    "#assess_models(models[1],X,Y)"
   ]
  }
 ],
 "metadata": {
  "anaconda-cloud": {},
  "kernelspec": {
   "display_name": "Python [Root]",
   "language": "python",
   "name": "Python [Root]"
  },
  "language_info": {
   "codemirror_mode": {
    "name": "ipython",
    "version": 2
   },
   "file_extension": ".py",
   "mimetype": "text/x-python",
   "name": "python",
   "nbconvert_exporter": "python",
   "pygments_lexer": "ipython2",
   "version": "2.7.12"
  }
 },
 "nbformat": 4,
 "nbformat_minor": 0
}
