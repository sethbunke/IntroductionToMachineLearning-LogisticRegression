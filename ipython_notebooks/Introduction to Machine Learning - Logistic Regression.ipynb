{
 "cells": [
  {
   "cell_type": "markdown",
   "metadata": {},
   "source": [
    "## Import the necessary modules"
   ]
  },
  {
   "cell_type": "code",
   "execution_count": 155,
   "metadata": {
    "collapsed": true
   },
   "outputs": [],
   "source": [
    "%matplotlib inline\n",
    "import pandas as pd\n",
    "import numpy\n",
    "import scipy\n",
    "from sklearn.preprocessing import MinMaxScaler\n",
    "import matplotlib.pyplot as plt\n",
    "from sklearn import cross_validation\n",
    "from sklearn.linear_model import LogisticRegression\n",
    "from sklearn.feature_selection import SelectKBest\n",
    "from sklearn.feature_selection import chi2\n",
    "import seaborn as sns"
   ]
  },
  {
   "cell_type": "markdown",
   "metadata": {},
   "source": [
    "## Retrieve necessary data and load into Pandas DataFrame"
   ]
  },
  {
   "cell_type": "code",
   "execution_count": 156,
   "metadata": {
    "collapsed": false
   },
   "outputs": [],
   "source": [
    "url = \"http://archive.ics.uci.edu/ml/machine-learning-databases/breast-cancer-wisconsin/breast-cancer-wisconsin.data\"\n",
    "names=['code', 'cl_thick', 'c_size', 'c_shape', 'marg_adh', 's_ep_c_size', \n",
    "       'b_nuclei', 'b_chromatin', 'n_nucleoli', 'mitoses', 'diag'] \n",
    "data = pd.read_csv(url, names=names)\n",
    "array = data.values"
   ]
  },
  {
   "cell_type": "markdown",
   "metadata": {},
   "source": [
    "Please note that this data is publicly available from the UCI Machine Learning Repository. Access to the dataset and details of the dataset are avilable here: https://archive.ics.uci.edu/ml/datasets/Breast+Cancer+Wisconsin+%28Diagnostic%29"
   ]
  },
  {
   "cell_type": "markdown",
   "metadata": {},
   "source": [
    "Let's take an initial look at the data"
   ]
  },
  {
   "cell_type": "code",
   "execution_count": 157,
   "metadata": {
    "collapsed": false
   },
   "outputs": [
    {
     "data": {
      "text/html": [
       "<div>\n",
       "<table border=\"1\" class=\"dataframe\">\n",
       "  <thead>\n",
       "    <tr style=\"text-align: right;\">\n",
       "      <th></th>\n",
       "      <th>code</th>\n",
       "      <th>cl_thick</th>\n",
       "      <th>c_size</th>\n",
       "      <th>c_shape</th>\n",
       "      <th>marg_adh</th>\n",
       "      <th>s_ep_c_size</th>\n",
       "      <th>b_nuclei</th>\n",
       "      <th>b_chromatin</th>\n",
       "      <th>n_nucleoli</th>\n",
       "      <th>mitoses</th>\n",
       "      <th>diag</th>\n",
       "    </tr>\n",
       "  </thead>\n",
       "  <tbody>\n",
       "    <tr>\n",
       "      <th>0</th>\n",
       "      <td>1000025</td>\n",
       "      <td>5</td>\n",
       "      <td>1</td>\n",
       "      <td>1</td>\n",
       "      <td>1</td>\n",
       "      <td>2</td>\n",
       "      <td>1</td>\n",
       "      <td>3</td>\n",
       "      <td>1</td>\n",
       "      <td>1</td>\n",
       "      <td>2</td>\n",
       "    </tr>\n",
       "    <tr>\n",
       "      <th>1</th>\n",
       "      <td>1002945</td>\n",
       "      <td>5</td>\n",
       "      <td>4</td>\n",
       "      <td>4</td>\n",
       "      <td>5</td>\n",
       "      <td>7</td>\n",
       "      <td>10</td>\n",
       "      <td>3</td>\n",
       "      <td>2</td>\n",
       "      <td>1</td>\n",
       "      <td>2</td>\n",
       "    </tr>\n",
       "    <tr>\n",
       "      <th>2</th>\n",
       "      <td>1015425</td>\n",
       "      <td>3</td>\n",
       "      <td>1</td>\n",
       "      <td>1</td>\n",
       "      <td>1</td>\n",
       "      <td>2</td>\n",
       "      <td>2</td>\n",
       "      <td>3</td>\n",
       "      <td>1</td>\n",
       "      <td>1</td>\n",
       "      <td>2</td>\n",
       "    </tr>\n",
       "    <tr>\n",
       "      <th>3</th>\n",
       "      <td>1016277</td>\n",
       "      <td>6</td>\n",
       "      <td>8</td>\n",
       "      <td>8</td>\n",
       "      <td>1</td>\n",
       "      <td>3</td>\n",
       "      <td>4</td>\n",
       "      <td>3</td>\n",
       "      <td>7</td>\n",
       "      <td>1</td>\n",
       "      <td>2</td>\n",
       "    </tr>\n",
       "    <tr>\n",
       "      <th>4</th>\n",
       "      <td>1017023</td>\n",
       "      <td>4</td>\n",
       "      <td>1</td>\n",
       "      <td>1</td>\n",
       "      <td>3</td>\n",
       "      <td>2</td>\n",
       "      <td>1</td>\n",
       "      <td>3</td>\n",
       "      <td>1</td>\n",
       "      <td>1</td>\n",
       "      <td>2</td>\n",
       "    </tr>\n",
       "  </tbody>\n",
       "</table>\n",
       "</div>"
      ],
      "text/plain": [
       "      code  cl_thick  c_size  c_shape  marg_adh  s_ep_c_size b_nuclei  b_chromatin  n_nucleoli  \\\n",
       "0  1000025         5       1        1         1            2        1            3           1   \n",
       "1  1002945         5       4        4         5            7       10            3           2   \n",
       "2  1015425         3       1        1         1            2        2            3           1   \n",
       "3  1016277         6       8        8         1            3        4            3           7   \n",
       "4  1017023         4       1        1         3            2        1            3           1   \n",
       "\n",
       "   mitoses  diag  \n",
       "0        1     2  \n",
       "1        1     2  \n",
       "2        1     2  \n",
       "3        1     2  \n",
       "4        1     2  "
      ]
     },
     "execution_count": 157,
     "metadata": {},
     "output_type": "execute_result"
    }
   ],
   "source": [
    "data.head()"
   ]
  },
  {
   "cell_type": "markdown",
   "metadata": {},
   "source": [
    "Since the \"code\" column is just an arbitrary identifier, let's remove it"
   ]
  },
  {
   "cell_type": "code",
   "execution_count": 158,
   "metadata": {
    "collapsed": false
   },
   "outputs": [
    {
     "data": {
      "text/html": [
       "<div>\n",
       "<table border=\"1\" class=\"dataframe\">\n",
       "  <thead>\n",
       "    <tr style=\"text-align: right;\">\n",
       "      <th></th>\n",
       "      <th>cl_thick</th>\n",
       "      <th>c_size</th>\n",
       "      <th>c_shape</th>\n",
       "      <th>marg_adh</th>\n",
       "      <th>s_ep_c_size</th>\n",
       "      <th>b_nuclei</th>\n",
       "      <th>b_chromatin</th>\n",
       "      <th>n_nucleoli</th>\n",
       "      <th>mitoses</th>\n",
       "      <th>diag</th>\n",
       "    </tr>\n",
       "  </thead>\n",
       "  <tbody>\n",
       "    <tr>\n",
       "      <th>0</th>\n",
       "      <td>5</td>\n",
       "      <td>1</td>\n",
       "      <td>1</td>\n",
       "      <td>1</td>\n",
       "      <td>2</td>\n",
       "      <td>1</td>\n",
       "      <td>3</td>\n",
       "      <td>1</td>\n",
       "      <td>1</td>\n",
       "      <td>2</td>\n",
       "    </tr>\n",
       "    <tr>\n",
       "      <th>1</th>\n",
       "      <td>5</td>\n",
       "      <td>4</td>\n",
       "      <td>4</td>\n",
       "      <td>5</td>\n",
       "      <td>7</td>\n",
       "      <td>10</td>\n",
       "      <td>3</td>\n",
       "      <td>2</td>\n",
       "      <td>1</td>\n",
       "      <td>2</td>\n",
       "    </tr>\n",
       "    <tr>\n",
       "      <th>2</th>\n",
       "      <td>3</td>\n",
       "      <td>1</td>\n",
       "      <td>1</td>\n",
       "      <td>1</td>\n",
       "      <td>2</td>\n",
       "      <td>2</td>\n",
       "      <td>3</td>\n",
       "      <td>1</td>\n",
       "      <td>1</td>\n",
       "      <td>2</td>\n",
       "    </tr>\n",
       "    <tr>\n",
       "      <th>3</th>\n",
       "      <td>6</td>\n",
       "      <td>8</td>\n",
       "      <td>8</td>\n",
       "      <td>1</td>\n",
       "      <td>3</td>\n",
       "      <td>4</td>\n",
       "      <td>3</td>\n",
       "      <td>7</td>\n",
       "      <td>1</td>\n",
       "      <td>2</td>\n",
       "    </tr>\n",
       "    <tr>\n",
       "      <th>4</th>\n",
       "      <td>4</td>\n",
       "      <td>1</td>\n",
       "      <td>1</td>\n",
       "      <td>3</td>\n",
       "      <td>2</td>\n",
       "      <td>1</td>\n",
       "      <td>3</td>\n",
       "      <td>1</td>\n",
       "      <td>1</td>\n",
       "      <td>2</td>\n",
       "    </tr>\n",
       "  </tbody>\n",
       "</table>\n",
       "</div>"
      ],
      "text/plain": [
       "   cl_thick  c_size  c_shape  marg_adh  s_ep_c_size b_nuclei  b_chromatin  n_nucleoli  mitoses  \\\n",
       "0         5       1        1         1            2        1            3           1        1   \n",
       "1         5       4        4         5            7       10            3           2        1   \n",
       "2         3       1        1         1            2        2            3           1        1   \n",
       "3         6       8        8         1            3        4            3           7        1   \n",
       "4         4       1        1         3            2        1            3           1        1   \n",
       "\n",
       "   diag  \n",
       "0     2  \n",
       "1     2  \n",
       "2     2  \n",
       "3     2  \n",
       "4     2  "
      ]
     },
     "execution_count": 158,
     "metadata": {},
     "output_type": "execute_result"
    }
   ],
   "source": [
    "data.drop('code', axis=1, inplace=True)\n",
    "data.head()"
   ]
  },
  {
   "cell_type": "markdown",
   "metadata": {},
   "source": [
    "...and take a look at the shape of the data (699 rows, 10 columns)"
   ]
  },
  {
   "cell_type": "code",
   "execution_count": 159,
   "metadata": {
    "collapsed": false
   },
   "outputs": [
    {
     "data": {
      "text/plain": [
       "(699, 10)"
      ]
     },
     "execution_count": 159,
     "metadata": {},
     "output_type": "execute_result"
    }
   ],
   "source": [
    "data.shape #(rows, columns)"
   ]
  },
  {
   "cell_type": "markdown",
   "metadata": {},
   "source": [
    "Now, let's take a deeper look a the data"
   ]
  },
  {
   "cell_type": "code",
   "execution_count": 160,
   "metadata": {
    "collapsed": false
   },
   "outputs": [],
   "source": [
    "#helper method for displaying the description of the data\n",
    "def describe_data(input_data):\n",
    "    pd.set_option('display.width', 100)\n",
    "    pd.set_option('precision', 3)\n",
    "    description = data.describe()\n",
    "    print(description)"
   ]
  },
  {
   "cell_type": "code",
   "execution_count": 161,
   "metadata": {
    "collapsed": false
   },
   "outputs": [
    {
     "name": "stdout",
     "output_type": "stream",
     "text": [
      "       cl_thick   c_size  c_shape  marg_adh  s_ep_c_size  b_chromatin  n_nucleoli  mitoses  \\\n",
      "count   699.000  699.000  699.000   699.000      699.000      699.000     699.000  699.000   \n",
      "mean      4.418    3.134    3.207     2.807        3.216        3.438       2.867    1.589   \n",
      "std       2.816    3.051    2.972     2.855        2.214        2.438       3.054    1.715   \n",
      "min       1.000    1.000    1.000     1.000        1.000        1.000       1.000    1.000   \n",
      "25%       2.000    1.000    1.000     1.000        2.000        2.000       1.000    1.000   \n",
      "50%       4.000    1.000    1.000     1.000        2.000        3.000       1.000    1.000   \n",
      "75%       6.000    5.000    5.000     4.000        4.000        5.000       4.000    1.000   \n",
      "max      10.000   10.000   10.000    10.000       10.000       10.000      10.000   10.000   \n",
      "\n",
      "          diag  \n",
      "count  699.000  \n",
      "mean     2.690  \n",
      "std      0.951  \n",
      "min      2.000  \n",
      "25%      2.000  \n",
      "50%      2.000  \n",
      "75%      4.000  \n",
      "max      4.000  \n"
     ]
    }
   ],
   "source": [
    "describe_data(data)"
   ]
  },
  {
   "cell_type": "markdown",
   "metadata": {},
   "source": [
    "Did you notice something? The b_nuclei column was excluded. Let's dig a bit to see why..."
   ]
  },
  {
   "cell_type": "code",
   "execution_count": 162,
   "metadata": {
    "collapsed": false
   },
   "outputs": [
    {
     "data": {
      "text/plain": [
       "cl_thick        int64\n",
       "c_size          int64\n",
       "c_shape         int64\n",
       "marg_adh        int64\n",
       "s_ep_c_size     int64\n",
       "b_nuclei       object\n",
       "b_chromatin     int64\n",
       "n_nucleoli      int64\n",
       "mitoses         int64\n",
       "diag            int64\n",
       "dtype: object"
      ]
     },
     "execution_count": 162,
     "metadata": {},
     "output_type": "execute_result"
    }
   ],
   "source": [
    "data.dtypes #dtypes shows us the data type for each column in the dataset"
   ]
  },
  {
   "cell_type": "markdown",
   "metadata": {},
   "source": [
    "It looks like Pandas has identified the b_nuclei column as an 'object' instead of as a number - here's why:"
   ]
  },
  {
   "cell_type": "code",
   "execution_count": 163,
   "metadata": {
    "collapsed": false
   },
   "outputs": [
    {
     "data": {
      "text/plain": [
       "array(['1', '10', '2', '4', '3', '9', '7', '?', '5', '8', '6'], dtype=object)"
      ]
     },
     "execution_count": 163,
     "metadata": {},
     "output_type": "execute_result"
    }
   ],
   "source": [
    "pd.unique(data.b_nuclei.ravel()) #this shows us the unique values in the column and its type"
   ]
  },
  {
   "cell_type": "markdown",
   "metadata": {},
   "source": [
    "The '?'s in that column made it treat the whole column as an object. In order to use this column we will have to convert the\n",
    "non-numeric values to numeric values and convert this column type to a numeric one. "
   ]
  },
  {
   "cell_type": "code",
   "execution_count": 164,
   "metadata": {
    "collapsed": true
   },
   "outputs": [],
   "source": [
    "#data['b_nuclei'] = data['b_nuclei'].apply(lambda x: x if x != '?' else '-1')"
   ]
  },
  {
   "cell_type": "code",
   "execution_count": 165,
   "metadata": {
    "collapsed": false
   },
   "outputs": [],
   "source": [
    "#Convert the '?' to some easily identified value that can be converted to an integer\n",
    "data.b_nuclei.replace(['?'],['-1'],inplace=True)\n",
    "#convert the column to an integer type\n",
    "data.b_nuclei = data.b_nuclei.astype('int')"
   ]
  },
  {
   "cell_type": "code",
   "execution_count": 166,
   "metadata": {
    "collapsed": false
   },
   "outputs": [
    {
     "name": "stdout",
     "output_type": "stream",
     "text": [
      "The mean of the column is: 4\n"
     ]
    }
   ],
   "source": [
    "#get the mean of all of the values, EXCEPT for the value that we used in place of the '?'\n",
    "mean = int(round(data[data.b_nuclei != -1].b_nuclei.mean()))\n",
    "print('The mean of the column is: ' + str(mean))\n",
    "#replace the -1 with the mean\n",
    "data['b_nuclei'] = data['b_nuclei'].apply(lambda x: x if x != -1 else mean)"
   ]
  },
  {
   "cell_type": "markdown",
   "metadata": {},
   "source": [
    "If we take another look at all of the unique values in the b_nuclei column, we can see that '?' is gone and the data type is an\n",
    "int64."
   ]
  },
  {
   "cell_type": "code",
   "execution_count": 167,
   "metadata": {
    "collapsed": false
   },
   "outputs": [
    {
     "data": {
      "text/plain": [
       "array([ 1, 10,  2,  4,  3,  9,  7,  5,  8,  6], dtype=int64)"
      ]
     },
     "execution_count": 167,
     "metadata": {},
     "output_type": "execute_result"
    }
   ],
   "source": [
    "pd.unique(data.b_nuclei.ravel())"
   ]
  },
  {
   "cell_type": "markdown",
   "metadata": {},
   "source": [
    "When we describe the data again, we will see that the b_nuclei is included in the results"
   ]
  },
  {
   "cell_type": "code",
   "execution_count": 168,
   "metadata": {
    "collapsed": false
   },
   "outputs": [
    {
     "name": "stdout",
     "output_type": "stream",
     "text": [
      "       cl_thick   c_size  c_shape  marg_adh  s_ep_c_size  b_nuclei  b_chromatin  n_nucleoli  \\\n",
      "count   699.000  699.000  699.000   699.000      699.000   699.000      699.000     699.000   \n",
      "mean      4.418    3.134    3.207     2.807        3.216     3.555        3.438       2.867   \n",
      "std       2.816    3.051    2.972     2.855        2.214     3.602        2.438       3.054   \n",
      "min       1.000    1.000    1.000     1.000        1.000     1.000        1.000       1.000   \n",
      "25%       2.000    1.000    1.000     1.000        2.000     1.000        2.000       1.000   \n",
      "50%       4.000    1.000    1.000     1.000        2.000     1.000        3.000       1.000   \n",
      "75%       6.000    5.000    5.000     4.000        4.000     5.000        5.000       4.000   \n",
      "max      10.000   10.000   10.000    10.000       10.000    10.000       10.000      10.000   \n",
      "\n",
      "       mitoses     diag  \n",
      "count  699.000  699.000  \n",
      "mean     1.589    2.690  \n",
      "std      1.715    0.951  \n",
      "min      1.000    2.000  \n",
      "25%      1.000    2.000  \n",
      "50%      1.000    2.000  \n",
      "75%      1.000    4.000  \n",
      "max     10.000    4.000  \n"
     ]
    }
   ],
   "source": [
    "describe_data(data)"
   ]
  },
  {
   "cell_type": "markdown",
   "metadata": {},
   "source": [
    "The next step is to look a the corrleation beteen the columns and the dianosis to identify which ones should be used to train\n",
    "our model"
   ]
  },
  {
   "cell_type": "code",
   "execution_count": 169,
   "metadata": {
    "collapsed": false
   },
   "outputs": [
    {
     "data": {
      "text/html": [
       "<div>\n",
       "<table border=\"1\" class=\"dataframe\">\n",
       "  <thead>\n",
       "    <tr style=\"text-align: right;\">\n",
       "      <th></th>\n",
       "      <th>cl_thick</th>\n",
       "      <th>c_size</th>\n",
       "      <th>c_shape</th>\n",
       "      <th>marg_adh</th>\n",
       "      <th>s_ep_c_size</th>\n",
       "      <th>b_nuclei</th>\n",
       "      <th>b_chromatin</th>\n",
       "      <th>n_nucleoli</th>\n",
       "      <th>mitoses</th>\n",
       "      <th>diag</th>\n",
       "    </tr>\n",
       "  </thead>\n",
       "  <tbody>\n",
       "    <tr>\n",
       "      <th>cl_thick</th>\n",
       "      <td>1.000</td>\n",
       "      <td>0.645</td>\n",
       "      <td>0.655</td>\n",
       "      <td>0.486</td>\n",
       "      <td>0.522</td>\n",
       "      <td>0.586</td>\n",
       "      <td>0.558</td>\n",
       "      <td>0.536</td>\n",
       "      <td>0.350</td>\n",
       "      <td>0.716</td>\n",
       "    </tr>\n",
       "    <tr>\n",
       "      <th>c_size</th>\n",
       "      <td>0.645</td>\n",
       "      <td>1.000</td>\n",
       "      <td>0.907</td>\n",
       "      <td>0.706</td>\n",
       "      <td>0.752</td>\n",
       "      <td>0.686</td>\n",
       "      <td>0.756</td>\n",
       "      <td>0.723</td>\n",
       "      <td>0.459</td>\n",
       "      <td>0.818</td>\n",
       "    </tr>\n",
       "    <tr>\n",
       "      <th>c_shape</th>\n",
       "      <td>0.655</td>\n",
       "      <td>0.907</td>\n",
       "      <td>1.000</td>\n",
       "      <td>0.683</td>\n",
       "      <td>0.720</td>\n",
       "      <td>0.709</td>\n",
       "      <td>0.736</td>\n",
       "      <td>0.719</td>\n",
       "      <td>0.439</td>\n",
       "      <td>0.819</td>\n",
       "    </tr>\n",
       "    <tr>\n",
       "      <th>marg_adh</th>\n",
       "      <td>0.486</td>\n",
       "      <td>0.706</td>\n",
       "      <td>0.683</td>\n",
       "      <td>1.000</td>\n",
       "      <td>0.600</td>\n",
       "      <td>0.664</td>\n",
       "      <td>0.667</td>\n",
       "      <td>0.603</td>\n",
       "      <td>0.418</td>\n",
       "      <td>0.697</td>\n",
       "    </tr>\n",
       "    <tr>\n",
       "      <th>s_ep_c_size</th>\n",
       "      <td>0.522</td>\n",
       "      <td>0.752</td>\n",
       "      <td>0.720</td>\n",
       "      <td>0.600</td>\n",
       "      <td>1.000</td>\n",
       "      <td>0.580</td>\n",
       "      <td>0.616</td>\n",
       "      <td>0.629</td>\n",
       "      <td>0.479</td>\n",
       "      <td>0.683</td>\n",
       "    </tr>\n",
       "    <tr>\n",
       "      <th>b_nuclei</th>\n",
       "      <td>0.586</td>\n",
       "      <td>0.686</td>\n",
       "      <td>0.709</td>\n",
       "      <td>0.664</td>\n",
       "      <td>0.580</td>\n",
       "      <td>1.000</td>\n",
       "      <td>0.675</td>\n",
       "      <td>0.577</td>\n",
       "      <td>0.338</td>\n",
       "      <td>0.815</td>\n",
       "    </tr>\n",
       "    <tr>\n",
       "      <th>b_chromatin</th>\n",
       "      <td>0.558</td>\n",
       "      <td>0.756</td>\n",
       "      <td>0.736</td>\n",
       "      <td>0.667</td>\n",
       "      <td>0.616</td>\n",
       "      <td>0.675</td>\n",
       "      <td>1.000</td>\n",
       "      <td>0.666</td>\n",
       "      <td>0.344</td>\n",
       "      <td>0.757</td>\n",
       "    </tr>\n",
       "    <tr>\n",
       "      <th>n_nucleoli</th>\n",
       "      <td>0.536</td>\n",
       "      <td>0.723</td>\n",
       "      <td>0.719</td>\n",
       "      <td>0.603</td>\n",
       "      <td>0.629</td>\n",
       "      <td>0.577</td>\n",
       "      <td>0.666</td>\n",
       "      <td>1.000</td>\n",
       "      <td>0.428</td>\n",
       "      <td>0.712</td>\n",
       "    </tr>\n",
       "    <tr>\n",
       "      <th>mitoses</th>\n",
       "      <td>0.350</td>\n",
       "      <td>0.459</td>\n",
       "      <td>0.439</td>\n",
       "      <td>0.418</td>\n",
       "      <td>0.479</td>\n",
       "      <td>0.338</td>\n",
       "      <td>0.344</td>\n",
       "      <td>0.428</td>\n",
       "      <td>1.000</td>\n",
       "      <td>0.423</td>\n",
       "    </tr>\n",
       "    <tr>\n",
       "      <th>diag</th>\n",
       "      <td>0.716</td>\n",
       "      <td>0.818</td>\n",
       "      <td>0.819</td>\n",
       "      <td>0.697</td>\n",
       "      <td>0.683</td>\n",
       "      <td>0.815</td>\n",
       "      <td>0.757</td>\n",
       "      <td>0.712</td>\n",
       "      <td>0.423</td>\n",
       "      <td>1.000</td>\n",
       "    </tr>\n",
       "  </tbody>\n",
       "</table>\n",
       "</div>"
      ],
      "text/plain": [
       "             cl_thick  c_size  c_shape  marg_adh  s_ep_c_size  b_nuclei  b_chromatin  n_nucleoli  \\\n",
       "cl_thick        1.000   0.645    0.655     0.486        0.522     0.586        0.558       0.536   \n",
       "c_size          0.645   1.000    0.907     0.706        0.752     0.686        0.756       0.723   \n",
       "c_shape         0.655   0.907    1.000     0.683        0.720     0.709        0.736       0.719   \n",
       "marg_adh        0.486   0.706    0.683     1.000        0.600     0.664        0.667       0.603   \n",
       "s_ep_c_size     0.522   0.752    0.720     0.600        1.000     0.580        0.616       0.629   \n",
       "b_nuclei        0.586   0.686    0.709     0.664        0.580     1.000        0.675       0.577   \n",
       "b_chromatin     0.558   0.756    0.736     0.667        0.616     0.675        1.000       0.666   \n",
       "n_nucleoli      0.536   0.723    0.719     0.603        0.629     0.577        0.666       1.000   \n",
       "mitoses         0.350   0.459    0.439     0.418        0.479     0.338        0.344       0.428   \n",
       "diag            0.716   0.818    0.819     0.697        0.683     0.815        0.757       0.712   \n",
       "\n",
       "             mitoses   diag  \n",
       "cl_thick       0.350  0.716  \n",
       "c_size         0.459  0.818  \n",
       "c_shape        0.439  0.819  \n",
       "marg_adh       0.418  0.697  \n",
       "s_ep_c_size    0.479  0.683  \n",
       "b_nuclei       0.338  0.815  \n",
       "b_chromatin    0.344  0.757  \n",
       "n_nucleoli     0.428  0.712  \n",
       "mitoses        1.000  0.423  \n",
       "diag           0.423  1.000  "
      ]
     },
     "execution_count": 169,
     "metadata": {},
     "output_type": "execute_result"
    }
   ],
   "source": [
    "#correlations = \n",
    "data.corr(method='pearson')\n",
    "#print(correlations)"
   ]
  },
  {
   "cell_type": "markdown",
   "metadata": {},
   "source": [
    "This is easier to understand using a graph - in this case a heatmap. Using the scale on the right, we can see that colors that are darker read are closer to 1.0 (meaning a perfect correlation between the the row and the column), colors that are yellower are closer to 0.0 (no correlation), and colors that are darker green are closer to -1.0 (meaning a negative correlation - as one goes up the other goes down)."
   ]
  },
  {
   "cell_type": "code",
   "execution_count": 170,
   "metadata": {
    "collapsed": false
   },
   "outputs": [
    {
     "data": {
      "text/plain": [
       "<matplotlib.axes._subplots.AxesSubplot at 0xb96fe10>"
      ]
     },
     "execution_count": 170,
     "metadata": {},
     "output_type": "execute_result"
    },
    {
     "data": {
      "image/png": "[encoded data removed]",
      "text/plain": [
       "<matplotlib.figure.Figure at 0xc478470>"
      ]
     },
     "metadata": {},
     "output_type": "display_data"
    }
   ],
   "source": [
    "correlations = data.corr(method='pearson')\n",
    "sns.heatmap(correlations, cmap='RdYlGn_r', vmax=1.0, vmin=-1.0, linewidths=2.5)"
   ]
  },
  {
   "cell_type": "markdown",
   "metadata": {},
   "source": [
    "It looks like c_size (0.818), c_shape (0.819), and b_nuclei (0.815) have the strongest correlation with the diagnosis while marg_adh (0.697) and mitoes (0.423) have the least strong correlation (numbers taken from the printed correlation above). "
   ]
  },
  {
   "cell_type": "markdown",
   "metadata": {},
   "source": [
    "For now, since this is a small dataset and all of the correlations are \"pretty good\" we will keep all of them for now and look at the accuracy of our model. "
   ]
  },
  {
   "cell_type": "markdown",
   "metadata": {
    "collapsed": true
   },
   "source": [
    "The next step is to look at the accuracy of our model."
   ]
  },
  {
   "cell_type": "code",
   "execution_count": null,
   "metadata": {
    "collapsed": true
   },
   "outputs": [],
   "source": []
  },
  {
   "cell_type": "code",
   "execution_count": null,
   "metadata": {
    "collapsed": true
   },
   "outputs": [],
   "source": []
  },
  {
   "cell_type": "code",
   "execution_count": 171,
   "metadata": {
    "collapsed": false
   },
   "outputs": [
    {
     "data": {
      "text/plain": [
       "[458, 241]"
      ]
     },
     "execution_count": 171,
     "metadata": {},
     "output_type": "execute_result"
    }
   ],
   "source": [
    "[data[data.diag == 2].shape[0],data[data.diag != 2].shape[0]]"
   ]
  },
  {
   "cell_type": "code",
   "execution_count": 172,
   "metadata": {
    "collapsed": false
   },
   "outputs": [
    {
     "data": {
      "image/png": "[encoded data removed]",
      "text/plain": [
       "<matplotlib.figure.Figure at 0xc8647f0>"
      ]
     },
     "metadata": {},
     "output_type": "display_data"
    }
   ],
   "source": [
    "data.hist()\n",
    "plt.show()"
   ]
  },
  {
   "cell_type": "code",
   "execution_count": 173,
   "metadata": {
    "collapsed": false
   },
   "outputs": [
    {
     "data": {
      "image/png": "[encoded data removed]",
      "text/plain": [
       "<matplotlib.figure.Figure at 0xc7b2908>"
      ]
     },
     "metadata": {},
     "output_type": "display_data"
    }
   ],
   "source": [
    "data.plot(kind= 'density' , subplots=True, layout=(5,2), sharex=False)\n",
    "plt.show()"
   ]
  },
  {
   "cell_type": "code",
   "execution_count": 174,
   "metadata": {
    "collapsed": false
   },
   "outputs": [],
   "source": [
    "# calculate the correlations\n",
    "# coefficients = ['pearson'] #, 'kendall', 'spearman']\n",
    "\n",
    "# csv_corr = {}\n",
    "\n",
    "# for coefficient in coefficients:\n",
    "#     csv_corr[coefficient] = data \\\n",
    "#         .corr(method=coefficient) \\\n",
    "#         .transpose()\n",
    "        \n",
    "# print(csv_corr)"
   ]
  },
  {
   "cell_type": "code",
   "execution_count": 175,
   "metadata": {
    "collapsed": false
   },
   "outputs": [
    {
     "data": {
      "text/html": [
       "<div>\n",
       "<table border=\"1\" class=\"dataframe\">\n",
       "  <thead>\n",
       "    <tr style=\"text-align: right;\">\n",
       "      <th></th>\n",
       "      <th>cl_thick</th>\n",
       "      <th>c_size</th>\n",
       "      <th>c_shape</th>\n",
       "      <th>marg_adh</th>\n",
       "      <th>s_ep_c_size</th>\n",
       "      <th>b_nuclei</th>\n",
       "      <th>b_chromatin</th>\n",
       "      <th>n_nucleoli</th>\n",
       "      <th>mitoses</th>\n",
       "      <th>diag</th>\n",
       "    </tr>\n",
       "  </thead>\n",
       "  <tbody>\n",
       "    <tr>\n",
       "      <th>cl_thick</th>\n",
       "      <td>1.000</td>\n",
       "      <td>0.645</td>\n",
       "      <td>0.655</td>\n",
       "      <td>0.486</td>\n",
       "      <td>0.522</td>\n",
       "      <td>0.586</td>\n",
       "      <td>0.558</td>\n",
       "      <td>0.536</td>\n",
       "      <td>0.350</td>\n",
       "      <td>0.716</td>\n",
       "    </tr>\n",
       "    <tr>\n",
       "      <th>c_size</th>\n",
       "      <td>0.645</td>\n",
       "      <td>1.000</td>\n",
       "      <td>0.907</td>\n",
       "      <td>0.706</td>\n",
       "      <td>0.752</td>\n",
       "      <td>0.686</td>\n",
       "      <td>0.756</td>\n",
       "      <td>0.723</td>\n",
       "      <td>0.459</td>\n",
       "      <td>0.818</td>\n",
       "    </tr>\n",
       "    <tr>\n",
       "      <th>c_shape</th>\n",
       "      <td>0.655</td>\n",
       "      <td>0.907</td>\n",
       "      <td>1.000</td>\n",
       "      <td>0.683</td>\n",
       "      <td>0.720</td>\n",
       "      <td>0.709</td>\n",
       "      <td>0.736</td>\n",
       "      <td>0.719</td>\n",
       "      <td>0.439</td>\n",
       "      <td>0.819</td>\n",
       "    </tr>\n",
       "    <tr>\n",
       "      <th>marg_adh</th>\n",
       "      <td>0.486</td>\n",
       "      <td>0.706</td>\n",
       "      <td>0.683</td>\n",
       "      <td>1.000</td>\n",
       "      <td>0.600</td>\n",
       "      <td>0.664</td>\n",
       "      <td>0.667</td>\n",
       "      <td>0.603</td>\n",
       "      <td>0.418</td>\n",
       "      <td>0.697</td>\n",
       "    </tr>\n",
       "    <tr>\n",
       "      <th>s_ep_c_size</th>\n",
       "      <td>0.522</td>\n",
       "      <td>0.752</td>\n",
       "      <td>0.720</td>\n",
       "      <td>0.600</td>\n",
       "      <td>1.000</td>\n",
       "      <td>0.580</td>\n",
       "      <td>0.616</td>\n",
       "      <td>0.629</td>\n",
       "      <td>0.479</td>\n",
       "      <td>0.683</td>\n",
       "    </tr>\n",
       "    <tr>\n",
       "      <th>b_nuclei</th>\n",
       "      <td>0.586</td>\n",
       "      <td>0.686</td>\n",
       "      <td>0.709</td>\n",
       "      <td>0.664</td>\n",
       "      <td>0.580</td>\n",
       "      <td>1.000</td>\n",
       "      <td>0.675</td>\n",
       "      <td>0.577</td>\n",
       "      <td>0.338</td>\n",
       "      <td>0.815</td>\n",
       "    </tr>\n",
       "    <tr>\n",
       "      <th>b_chromatin</th>\n",
       "      <td>0.558</td>\n",
       "      <td>0.756</td>\n",
       "      <td>0.736</td>\n",
       "      <td>0.667</td>\n",
       "      <td>0.616</td>\n",
       "      <td>0.675</td>\n",
       "      <td>1.000</td>\n",
       "      <td>0.666</td>\n",
       "      <td>0.344</td>\n",
       "      <td>0.757</td>\n",
       "    </tr>\n",
       "    <tr>\n",
       "      <th>n_nucleoli</th>\n",
       "      <td>0.536</td>\n",
       "      <td>0.723</td>\n",
       "      <td>0.719</td>\n",
       "      <td>0.603</td>\n",
       "      <td>0.629</td>\n",
       "      <td>0.577</td>\n",
       "      <td>0.666</td>\n",
       "      <td>1.000</td>\n",
       "      <td>0.428</td>\n",
       "      <td>0.712</td>\n",
       "    </tr>\n",
       "    <tr>\n",
       "      <th>mitoses</th>\n",
       "      <td>0.350</td>\n",
       "      <td>0.459</td>\n",
       "      <td>0.439</td>\n",
       "      <td>0.418</td>\n",
       "      <td>0.479</td>\n",
       "      <td>0.338</td>\n",
       "      <td>0.344</td>\n",
       "      <td>0.428</td>\n",
       "      <td>1.000</td>\n",
       "      <td>0.423</td>\n",
       "    </tr>\n",
       "    <tr>\n",
       "      <th>diag</th>\n",
       "      <td>0.716</td>\n",
       "      <td>0.818</td>\n",
       "      <td>0.819</td>\n",
       "      <td>0.697</td>\n",
       "      <td>0.683</td>\n",
       "      <td>0.815</td>\n",
       "      <td>0.757</td>\n",
       "      <td>0.712</td>\n",
       "      <td>0.423</td>\n",
       "      <td>1.000</td>\n",
       "    </tr>\n",
       "  </tbody>\n",
       "</table>\n",
       "</div>"
      ],
      "text/plain": [
       "             cl_thick  c_size  c_shape  marg_adh  s_ep_c_size  b_nuclei  b_chromatin  n_nucleoli  \\\n",
       "cl_thick        1.000   0.645    0.655     0.486        0.522     0.586        0.558       0.536   \n",
       "c_size          0.645   1.000    0.907     0.706        0.752     0.686        0.756       0.723   \n",
       "c_shape         0.655   0.907    1.000     0.683        0.720     0.709        0.736       0.719   \n",
       "marg_adh        0.486   0.706    0.683     1.000        0.600     0.664        0.667       0.603   \n",
       "s_ep_c_size     0.522   0.752    0.720     0.600        1.000     0.580        0.616       0.629   \n",
       "b_nuclei        0.586   0.686    0.709     0.664        0.580     1.000        0.675       0.577   \n",
       "b_chromatin     0.558   0.756    0.736     0.667        0.616     0.675        1.000       0.666   \n",
       "n_nucleoli      0.536   0.723    0.719     0.603        0.629     0.577        0.666       1.000   \n",
       "mitoses         0.350   0.459    0.439     0.418        0.479     0.338        0.344       0.428   \n",
       "diag            0.716   0.818    0.819     0.697        0.683     0.815        0.757       0.712   \n",
       "\n",
       "             mitoses   diag  \n",
       "cl_thick       0.350  0.716  \n",
       "c_size         0.459  0.818  \n",
       "c_shape        0.439  0.819  \n",
       "marg_adh       0.418  0.697  \n",
       "s_ep_c_size    0.479  0.683  \n",
       "b_nuclei       0.338  0.815  \n",
       "b_chromatin    0.344  0.757  \n",
       "n_nucleoli     0.428  0.712  \n",
       "mitoses        1.000  0.423  \n",
       "diag           0.423  1.000  "
      ]
     },
     "execution_count": 175,
     "metadata": {},
     "output_type": "execute_result"
    }
   ],
   "source": [
    "# calculate the correlations\n",
    "#coefficients = ['pearson'] #, 'kendall', 'spearman']\n",
    "\n",
    "data.corr(method='pearson').transpose()"
   ]
  },
  {
   "cell_type": "code",
   "execution_count": 176,
   "metadata": {
    "collapsed": false
   },
   "outputs": [
    {
     "data": {
      "text/plain": [
       "array([2, 4], dtype=int64)"
      ]
     },
     "execution_count": 176,
     "metadata": {},
     "output_type": "execute_result"
    }
   ],
   "source": [
    "pd.unique(data.diag)"
   ]
  },
  {
   "cell_type": "code",
   "execution_count": 177,
   "metadata": {
    "collapsed": true
   },
   "outputs": [],
   "source": [
    "daignosis_map = {2:0,4:1}\n",
    "data['diag'] = data['diag'].map(daignosis_map)"
   ]
  },
  {
   "cell_type": "code",
   "execution_count": 178,
   "metadata": {
    "collapsed": false
   },
   "outputs": [
    {
     "data": {
      "text/plain": [
       "array([ 5,  4,  4,  5,  7, 10,  3,  2,  1], dtype=int64)"
      ]
     },
     "execution_count": 178,
     "metadata": {},
     "output_type": "execute_result"
    }
   ],
   "source": [
    "array = data.values\n",
    "X = array[:,0:9]\n",
    "Y = array[:,9]\n",
    "X[1]\n",
    "# # feature extraction\n",
    "# test = SelectKBest(score_func=chi2, k=4)\n",
    "# fit = test.fit(X, Y)\n",
    "# # summarize scores\n",
    "# numpy.set_printoptions(precision=3)\n",
    "# print(fit.scores_)\n",
    "# features = fit.transform(X)\n",
    "# # summarize selected features\n",
    "# #print(features[0:5,:])"
   ]
  },
  {
   "cell_type": "code",
   "execution_count": 179,
   "metadata": {
    "collapsed": false
   },
   "outputs": [],
   "source": [
    "#data.head(5)\n",
    "#print(len(Y))"
   ]
  },
  {
   "cell_type": "markdown",
   "metadata": {},
   "source": [
    "K-fold evaluation"
   ]
  },
  {
   "cell_type": "code",
   "execution_count": 180,
   "metadata": {
    "collapsed": true
   },
   "outputs": [],
   "source": [
    "num_folds = 10\n",
    "num_instances = len(X)\n",
    "seed = 7\n",
    "kfold = cross_validation.KFold(n=num_instances, n_folds=num_folds, random_state=seed) \n",
    "model = LogisticRegression()"
   ]
  },
  {
   "cell_type": "code",
   "execution_count": 181,
   "metadata": {
    "collapsed": true
   },
   "outputs": [],
   "source": [
    "def cross_validation_score(mod, X, Y, kfold, scoring):\n",
    "    score = cross_validation.cross_val_score(mod, X, Y, cv=kfold, scoring=scoring) \n",
    "    return ((\"Scoring: %s; Accuracy: %.3f (%.3f)\") % (scoring, score.mean(), score.std()), score)"
   ]
  },
  {
   "cell_type": "code",
   "execution_count": 183,
   "metadata": {
    "collapsed": false
   },
   "outputs": [
    {
     "name": "stdout",
     "output_type": "stream",
     "text": [
      "Scoring: accuracy; Accuracy: 0.966 (0.039)\n",
      "Scoring: log_loss; Accuracy: -0.107 (0.072)\n",
      "Scoring: roc_auc; Accuracy: 0.992 (0.013)\n"
     ]
    }
   ],
   "source": [
    "cross_val_scoring = ['accuracy','log_loss', 'roc_auc' ] #classifiction metrics\n",
    "#['r2','mean_absolute_error','mean_squared_error'] - regression metrics\n",
    "for scoring in cross_val_scoring:    \n",
    "    result = cross_validation_score(model, X, Y, kfold, scoring)\n",
    "    print(result[0])"
   ]
  },
  {
   "cell_type": "markdown",
   "metadata": {},
   "source": [
    "Train"
   ]
  }
 ],
 "metadata": {
  "anaconda-cloud": {},
  "kernelspec": {
   "display_name": "Python [Root]",
   "language": "python",
   "name": "Python [Root]"
  },
  "language_info": {
   "codemirror_mode": {
    "name": "ipython",
    "version": 2
   },
   "file_extension": ".py",
   "mimetype": "text/x-python",
   "name": "python",
   "nbconvert_exporter": "python",
   "pygments_lexer": "ipython2",
   "version": "2.7.12"
  }
 },
 "nbformat": 4,
 "nbformat_minor": 0
}
