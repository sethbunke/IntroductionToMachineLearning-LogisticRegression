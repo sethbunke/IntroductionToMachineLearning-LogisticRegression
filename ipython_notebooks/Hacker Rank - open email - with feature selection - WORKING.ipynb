{
 "cells": [
  {
   "cell_type": "code",
   "execution_count": 1,
   "metadata": {
    "collapsed": true
   },
   "outputs": [],
   "source": [
    "import pandas as pd\n",
    "from pandas import read_csv\n",
    "from sklearn.cross_validation import KFold\n",
    "from sklearn.cross_validation import cross_val_score\n",
    "from sklearn.preprocessing import StandardScaler\n",
    "from sklearn.pipeline import Pipeline\n",
    "from sklearn.discriminant_analysis import LinearDiscriminantAnalysis\n",
    "from sklearn.linear_model import LogisticRegression\n",
    "import seaborn as sns\n",
    "import sklearn.cross_validation\n",
    "from sklearn.pipeline import FeatureUnion\n",
    "from sklearn.linear_model import LogisticRegression\n",
    "from sklearn.decomposition import PCA\n",
    "from sklearn.feature_selection import SelectKBest\n",
    "from sklearn import cross_validation\n",
    "from sklearn.metrics import confusion_matrix\n",
    "from sklearn.tree import DecisionTreeClassifier\n",
    "from sklearn.ensemble import RandomForestClassifier"
   ]
  },
  {
   "cell_type": "code",
   "execution_count": 2,
   "metadata": {
    "collapsed": true
   },
   "outputs": [],
   "source": [
    "pd.set_option('display.width', 100)\n",
    "pd.set_option('precision', 3)"
   ]
  },
  {
   "cell_type": "code",
   "execution_count": 3,
   "metadata": {
    "collapsed": false
   },
   "outputs": [
    {
     "name": "stdout",
     "output_type": "stream",
     "text": [
      "(486048, 54)\n"
     ]
    },
    {
     "data": {
      "text/html": [
       "<div>\n",
       "<table border=\"1\" class=\"dataframe\">\n",
       "  <thead>\n",
       "    <tr style=\"text-align: right;\">\n",
       "      <th></th>\n",
       "      <th>user_id</th>\n",
       "      <th>mail_id</th>\n",
       "      <th>mail_category</th>\n",
       "      <th>mail_type</th>\n",
       "      <th>sent_time</th>\n",
       "      <th>open_time</th>\n",
       "      <th>click_time</th>\n",
       "      <th>unsubscribe_time</th>\n",
       "      <th>last_online</th>\n",
       "      <th>hacker_created_at</th>\n",
       "      <th>...</th>\n",
       "      <th>submissions_count_contest_1_days</th>\n",
       "      <th>submissions_count_contest_30_days</th>\n",
       "      <th>submissions_count_contest_365_days</th>\n",
       "      <th>submissions_count_contest_7_days</th>\n",
       "      <th>submissions_count_master</th>\n",
       "      <th>submissions_count_master_1_days</th>\n",
       "      <th>submissions_count_master_30_days</th>\n",
       "      <th>submissions_count_master_365_days</th>\n",
       "      <th>submissions_count_master_7_days</th>\n",
       "      <th>unsubscribed</th>\n",
       "    </tr>\n",
       "  </thead>\n",
       "  <tbody>\n",
       "    <tr>\n",
       "      <th>0</th>\n",
       "      <td>AR+tMy3H/E+Re8Id20zUIz+amJkv6KU12o+BrgIDin0=</td>\n",
       "      <td>DQ/4I+GIOz2ZoIiK0Lg0AkwnI35XotghgUK/MYc101I=</td>\n",
       "      <td>mail_category_2</td>\n",
       "      <td>mail_type_1</td>\n",
       "      <td>1463497837</td>\n",
       "      <td>1.464e+09</td>\n",
       "      <td>NaN</td>\n",
       "      <td>NaN</td>\n",
       "      <td>1.460e+09</td>\n",
       "      <td>1432533023</td>\n",
       "      <td>...</td>\n",
       "      <td>0</td>\n",
       "      <td>0</td>\n",
       "      <td>0</td>\n",
       "      <td>0</td>\n",
       "      <td>13</td>\n",
       "      <td>0</td>\n",
       "      <td>0</td>\n",
       "      <td>13</td>\n",
       "      <td>0</td>\n",
       "      <td>False</td>\n",
       "    </tr>\n",
       "    <tr>\n",
       "      <th>1</th>\n",
       "      <td>1P4AOvdzJzhDSHi7jJ3udWv4ajpKxOn4T/rCLv4PrXU=</td>\n",
       "      <td>BL3z4RtiyfIDydaRYWX2ZXL6IX10QH1yG5ak1s/8Lls=</td>\n",
       "      <td>mail_category_1</td>\n",
       "      <td>mail_type_1</td>\n",
       "      <td>1461357640</td>\n",
       "      <td>NaN</td>\n",
       "      <td>NaN</td>\n",
       "      <td>NaN</td>\n",
       "      <td>1.461e+09</td>\n",
       "      <td>1432184291</td>\n",
       "      <td>...</td>\n",
       "      <td>0</td>\n",
       "      <td>3</td>\n",
       "      <td>16</td>\n",
       "      <td>0</td>\n",
       "      <td>83</td>\n",
       "      <td>0</td>\n",
       "      <td>43</td>\n",
       "      <td>83</td>\n",
       "      <td>4</td>\n",
       "      <td>False</td>\n",
       "    </tr>\n",
       "    <tr>\n",
       "      <th>2</th>\n",
       "      <td>OEfFUcsTAGInCfsHuLZuIgdSNtuNsg8EdfN98VUZVTs=</td>\n",
       "      <td>BL3z4RtiyfIDydaRYWX2ZXL6IX10QH1yG5ak1s/8Lls=</td>\n",
       "      <td>mail_category_1</td>\n",
       "      <td>mail_type_1</td>\n",
       "      <td>1463499639</td>\n",
       "      <td>NaN</td>\n",
       "      <td>NaN</td>\n",
       "      <td>NaN</td>\n",
       "      <td>1.463e+09</td>\n",
       "      <td>1433045937</td>\n",
       "      <td>...</td>\n",
       "      <td>0</td>\n",
       "      <td>0</td>\n",
       "      <td>0</td>\n",
       "      <td>0</td>\n",
       "      <td>16</td>\n",
       "      <td>0</td>\n",
       "      <td>3</td>\n",
       "      <td>16</td>\n",
       "      <td>0</td>\n",
       "      <td>False</td>\n",
       "    </tr>\n",
       "    <tr>\n",
       "      <th>3</th>\n",
       "      <td>1P4AOvdzJzhDSHi7jJ3udWv4ajpKxOn4T/rCLv4PrXU=</td>\n",
       "      <td>EHNBRbi6i9KO6cMHsuDPFjZVp2cY3RH+BiOKwPwzLQs=</td>\n",
       "      <td>mail_category_1</td>\n",
       "      <td>mail_type_1</td>\n",
       "      <td>1463182983</td>\n",
       "      <td>NaN</td>\n",
       "      <td>NaN</td>\n",
       "      <td>NaN</td>\n",
       "      <td>1.463e+09</td>\n",
       "      <td>1432184291</td>\n",
       "      <td>...</td>\n",
       "      <td>0</td>\n",
       "      <td>0</td>\n",
       "      <td>16</td>\n",
       "      <td>0</td>\n",
       "      <td>85</td>\n",
       "      <td>0</td>\n",
       "      <td>9</td>\n",
       "      <td>85</td>\n",
       "      <td>0</td>\n",
       "      <td>False</td>\n",
       "    </tr>\n",
       "    <tr>\n",
       "      <th>4</th>\n",
       "      <td>CYRcuV0cR0algMZJ1N6+3uKcqi8iu+6tJNzmBbmgN7o=</td>\n",
       "      <td>K0y/NW59TJkYc5y0HUwDeAXrewYT0JQlkcozz0s2V5Q=</td>\n",
       "      <td>mail_category_4</td>\n",
       "      <td>mail_type_1</td>\n",
       "      <td>1461855019</td>\n",
       "      <td>NaN</td>\n",
       "      <td>NaN</td>\n",
       "      <td>NaN</td>\n",
       "      <td>1.461e+09</td>\n",
       "      <td>1432998058</td>\n",
       "      <td>...</td>\n",
       "      <td>0</td>\n",
       "      <td>1</td>\n",
       "      <td>17</td>\n",
       "      <td>0</td>\n",
       "      <td>43</td>\n",
       "      <td>0</td>\n",
       "      <td>0</td>\n",
       "      <td>43</td>\n",
       "      <td>0</td>\n",
       "      <td>False</td>\n",
       "    </tr>\n",
       "    <tr>\n",
       "      <th>5</th>\n",
       "      <td>UREtRIcAzBFKmMt9ZSkFLofOWKAKmzsDD7BwrdxcPuk=</td>\n",
       "      <td>UGATDXARg7jMEInKH7oXgty2nwxnwD2l0OW/8Nsa0MI=</td>\n",
       "      <td>mail_category_6</td>\n",
       "      <td>mail_type_1</td>\n",
       "      <td>1459927021</td>\n",
       "      <td>NaN</td>\n",
       "      <td>NaN</td>\n",
       "      <td>NaN</td>\n",
       "      <td>1.458e+09</td>\n",
       "      <td>1431945704</td>\n",
       "      <td>...</td>\n",
       "      <td>0</td>\n",
       "      <td>0</td>\n",
       "      <td>13</td>\n",
       "      <td>0</td>\n",
       "      <td>88</td>\n",
       "      <td>0</td>\n",
       "      <td>0</td>\n",
       "      <td>88</td>\n",
       "      <td>0</td>\n",
       "      <td>False</td>\n",
       "    </tr>\n",
       "    <tr>\n",
       "      <th>6</th>\n",
       "      <td>NiDHS4AU/QOs3ppF618O6bUg8BxJd+EV4Ek26KWrDc0=</td>\n",
       "      <td>qE9zgWiITYA97RUiN4X/t9IVWLViLz+lKijaYegyBiQ=</td>\n",
       "      <td>mail_category_1</td>\n",
       "      <td>mail_type_1</td>\n",
       "      <td>1460230930</td>\n",
       "      <td>1.460e+09</td>\n",
       "      <td>NaN</td>\n",
       "      <td>NaN</td>\n",
       "      <td>1.460e+09</td>\n",
       "      <td>1432658834</td>\n",
       "      <td>...</td>\n",
       "      <td>0</td>\n",
       "      <td>0</td>\n",
       "      <td>0</td>\n",
       "      <td>0</td>\n",
       "      <td>20</td>\n",
       "      <td>0</td>\n",
       "      <td>12</td>\n",
       "      <td>20</td>\n",
       "      <td>12</td>\n",
       "      <td>False</td>\n",
       "    </tr>\n",
       "    <tr>\n",
       "      <th>7</th>\n",
       "      <td>sGNmP4gGVwh3YBpXtq6ZI05PIa3Z0iUaF+ujKonctu0=</td>\n",
       "      <td>BL3z4RtiyfIDydaRYWX2ZXL6IX10QH1yG5ak1s/8Lls=</td>\n",
       "      <td>mail_category_1</td>\n",
       "      <td>mail_type_1</td>\n",
       "      <td>1462282973</td>\n",
       "      <td>NaN</td>\n",
       "      <td>NaN</td>\n",
       "      <td>NaN</td>\n",
       "      <td>1.462e+09</td>\n",
       "      <td>1432294499</td>\n",
       "      <td>...</td>\n",
       "      <td>0</td>\n",
       "      <td>0</td>\n",
       "      <td>0</td>\n",
       "      <td>0</td>\n",
       "      <td>14</td>\n",
       "      <td>0</td>\n",
       "      <td>14</td>\n",
       "      <td>14</td>\n",
       "      <td>14</td>\n",
       "      <td>False</td>\n",
       "    </tr>\n",
       "    <tr>\n",
       "      <th>8</th>\n",
       "      <td>nyoFu8qU0B5viJDXfrVRQ65ytOSSSY3c7okcjo1Z76M=</td>\n",
       "      <td>4+EEK8RbNYwuFCHznY9XSRCV4Yek60bHVgnP3jtjjzk=</td>\n",
       "      <td>mail_category_13</td>\n",
       "      <td>mail_type_2</td>\n",
       "      <td>1462888545</td>\n",
       "      <td>1.463e+09</td>\n",
       "      <td>NaN</td>\n",
       "      <td>NaN</td>\n",
       "      <td>1.463e+09</td>\n",
       "      <td>1432795707</td>\n",
       "      <td>...</td>\n",
       "      <td>0</td>\n",
       "      <td>19</td>\n",
       "      <td>265</td>\n",
       "      <td>0</td>\n",
       "      <td>129</td>\n",
       "      <td>0</td>\n",
       "      <td>0</td>\n",
       "      <td>129</td>\n",
       "      <td>0</td>\n",
       "      <td>False</td>\n",
       "    </tr>\n",
       "    <tr>\n",
       "      <th>9</th>\n",
       "      <td>A2EUbD7QN5SXpJ7FhPY5Ne7zwjwYhRvAheGskLl0Os8=</td>\n",
       "      <td>4+EEK8RbNYwuFCHznY9XSRCV4Yek60bHVgnP3jtjjzk=</td>\n",
       "      <td>mail_category_13</td>\n",
       "      <td>mail_type_2</td>\n",
       "      <td>1462888549</td>\n",
       "      <td>NaN</td>\n",
       "      <td>NaN</td>\n",
       "      <td>NaN</td>\n",
       "      <td>1.462e+09</td>\n",
       "      <td>1432059719</td>\n",
       "      <td>...</td>\n",
       "      <td>0</td>\n",
       "      <td>0</td>\n",
       "      <td>0</td>\n",
       "      <td>0</td>\n",
       "      <td>3</td>\n",
       "      <td>0</td>\n",
       "      <td>0</td>\n",
       "      <td>3</td>\n",
       "      <td>0</td>\n",
       "      <td>False</td>\n",
       "    </tr>\n",
       "  </tbody>\n",
       "</table>\n",
       "<p>10 rows × 54 columns</p>\n",
       "</div>"
      ],
      "text/plain": [
       "                                        user_id                                       mail_id  \\\n",
       "0  AR+tMy3H/E+Re8Id20zUIz+amJkv6KU12o+BrgIDin0=  DQ/4I+GIOz2ZoIiK0Lg0AkwnI35XotghgUK/MYc101I=   \n",
       "1  1P4AOvdzJzhDSHi7jJ3udWv4ajpKxOn4T/rCLv4PrXU=  BL3z4RtiyfIDydaRYWX2ZXL6IX10QH1yG5ak1s/8Lls=   \n",
       "2  OEfFUcsTAGInCfsHuLZuIgdSNtuNsg8EdfN98VUZVTs=  BL3z4RtiyfIDydaRYWX2ZXL6IX10QH1yG5ak1s/8Lls=   \n",
       "3  1P4AOvdzJzhDSHi7jJ3udWv4ajpKxOn4T/rCLv4PrXU=  EHNBRbi6i9KO6cMHsuDPFjZVp2cY3RH+BiOKwPwzLQs=   \n",
       "4  CYRcuV0cR0algMZJ1N6+3uKcqi8iu+6tJNzmBbmgN7o=  K0y/NW59TJkYc5y0HUwDeAXrewYT0JQlkcozz0s2V5Q=   \n",
       "5  UREtRIcAzBFKmMt9ZSkFLofOWKAKmzsDD7BwrdxcPuk=  UGATDXARg7jMEInKH7oXgty2nwxnwD2l0OW/8Nsa0MI=   \n",
       "6  NiDHS4AU/QOs3ppF618O6bUg8BxJd+EV4Ek26KWrDc0=  qE9zgWiITYA97RUiN4X/t9IVWLViLz+lKijaYegyBiQ=   \n",
       "7  sGNmP4gGVwh3YBpXtq6ZI05PIa3Z0iUaF+ujKonctu0=  BL3z4RtiyfIDydaRYWX2ZXL6IX10QH1yG5ak1s/8Lls=   \n",
       "8  nyoFu8qU0B5viJDXfrVRQ65ytOSSSY3c7okcjo1Z76M=  4+EEK8RbNYwuFCHznY9XSRCV4Yek60bHVgnP3jtjjzk=   \n",
       "9  A2EUbD7QN5SXpJ7FhPY5Ne7zwjwYhRvAheGskLl0Os8=  4+EEK8RbNYwuFCHznY9XSRCV4Yek60bHVgnP3jtjjzk=   \n",
       "\n",
       "      mail_category    mail_type   sent_time  open_time  click_time  unsubscribe_time  \\\n",
       "0   mail_category_2  mail_type_1  1463497837  1.464e+09         NaN               NaN   \n",
       "1   mail_category_1  mail_type_1  1461357640        NaN         NaN               NaN   \n",
       "2   mail_category_1  mail_type_1  1463499639        NaN         NaN               NaN   \n",
       "3   mail_category_1  mail_type_1  1463182983        NaN         NaN               NaN   \n",
       "4   mail_category_4  mail_type_1  1461855019        NaN         NaN               NaN   \n",
       "5   mail_category_6  mail_type_1  1459927021        NaN         NaN               NaN   \n",
       "6   mail_category_1  mail_type_1  1460230930  1.460e+09         NaN               NaN   \n",
       "7   mail_category_1  mail_type_1  1462282973        NaN         NaN               NaN   \n",
       "8  mail_category_13  mail_type_2  1462888545  1.463e+09         NaN               NaN   \n",
       "9  mail_category_13  mail_type_2  1462888549        NaN         NaN               NaN   \n",
       "\n",
       "   last_online  hacker_created_at      ...       submissions_count_contest_1_days  \\\n",
       "0    1.460e+09         1432533023      ...                                      0   \n",
       "1    1.461e+09         1432184291      ...                                      0   \n",
       "2    1.463e+09         1433045937      ...                                      0   \n",
       "3    1.463e+09         1432184291      ...                                      0   \n",
       "4    1.461e+09         1432998058      ...                                      0   \n",
       "5    1.458e+09         1431945704      ...                                      0   \n",
       "6    1.460e+09         1432658834      ...                                      0   \n",
       "7    1.462e+09         1432294499      ...                                      0   \n",
       "8    1.463e+09         1432795707      ...                                      0   \n",
       "9    1.462e+09         1432059719      ...                                      0   \n",
       "\n",
       "  submissions_count_contest_30_days  submissions_count_contest_365_days  \\\n",
       "0                                 0                                   0   \n",
       "1                                 3                                  16   \n",
       "2                                 0                                   0   \n",
       "3                                 0                                  16   \n",
       "4                                 1                                  17   \n",
       "5                                 0                                  13   \n",
       "6                                 0                                   0   \n",
       "7                                 0                                   0   \n",
       "8                                19                                 265   \n",
       "9                                 0                                   0   \n",
       "\n",
       "   submissions_count_contest_7_days  submissions_count_master  submissions_count_master_1_days  \\\n",
       "0                                 0                        13                                0   \n",
       "1                                 0                        83                                0   \n",
       "2                                 0                        16                                0   \n",
       "3                                 0                        85                                0   \n",
       "4                                 0                        43                                0   \n",
       "5                                 0                        88                                0   \n",
       "6                                 0                        20                                0   \n",
       "7                                 0                        14                                0   \n",
       "8                                 0                       129                                0   \n",
       "9                                 0                         3                                0   \n",
       "\n",
       "   submissions_count_master_30_days  submissions_count_master_365_days  \\\n",
       "0                                 0                                 13   \n",
       "1                                43                                 83   \n",
       "2                                 3                                 16   \n",
       "3                                 9                                 85   \n",
       "4                                 0                                 43   \n",
       "5                                 0                                 88   \n",
       "6                                12                                 20   \n",
       "7                                14                                 14   \n",
       "8                                 0                                129   \n",
       "9                                 0                                  3   \n",
       "\n",
       "   submissions_count_master_7_days  unsubscribed  \n",
       "0                                0         False  \n",
       "1                                4         False  \n",
       "2                                0         False  \n",
       "3                                0         False  \n",
       "4                                0         False  \n",
       "5                                0         False  \n",
       "6                               12         False  \n",
       "7                               14         False  \n",
       "8                                0         False  \n",
       "9                                0         False  \n",
       "\n",
       "[10 rows x 54 columns]"
      ]
     },
     "execution_count": 3,
     "metadata": {},
     "output_type": "execute_result"
    }
   ],
   "source": [
    "train_file_name = r'data/hackerrank_email/training_dataset.csv'\n",
    "data = pd.read_csv(train_file_name)\n",
    "print(data.shape)\n",
    "data.head(10)"
   ]
  },
  {
   "cell_type": "code",
   "execution_count": 4,
   "metadata": {
    "collapsed": false
   },
   "outputs": [
    {
     "data": {
      "text/plain": [
       "(207424, 48)"
      ]
     },
     "execution_count": 4,
     "metadata": {},
     "output_type": "execute_result"
    }
   ],
   "source": [
    "test_file_name = r'data/hackerrank_email/test_dataset.csv'\n",
    "test_data = pd.read_csv(test_file_name)\n",
    "test_data.shape"
   ]
  },
  {
   "cell_type": "code",
   "execution_count": 5,
   "metadata": {
    "collapsed": false
   },
   "outputs": [
    {
     "data": {
      "text/plain": [
       "['clicked',\n",
       " 'unsubscribe_time',\n",
       " 'click_time',\n",
       " 'opened',\n",
       " 'unsubscribed',\n",
       " 'open_time']"
      ]
     },
     "execution_count": 5,
     "metadata": {},
     "output_type": "execute_result"
    }
   ],
   "source": [
    "list(set(data.columns) - set(test_data.columns))"
   ]
  },
  {
   "cell_type": "code",
   "execution_count": 6,
   "metadata": {
    "collapsed": false
   },
   "outputs": [],
   "source": [
    "for col in ['user_id','mail_id','clicked','unsubscribe_time','click_time','unsubscribed','open_time']:\n",
    "    data.drop(col, axis=1, inplace=True)"
   ]
  },
  {
   "cell_type": "code",
   "execution_count": 7,
   "metadata": {
    "collapsed": true
   },
   "outputs": [],
   "source": [
    "data['mail_category'] = pd.Categorical(data.mail_category).codes\n",
    "data['mail_type'] = pd.Categorical(data.mail_type).codes"
   ]
  },
  {
   "cell_type": "code",
   "execution_count": 8,
   "metadata": {
    "collapsed": true
   },
   "outputs": [],
   "source": [
    "data.opened = data.opened.astype('int')\n",
    "data.hacker_confirmation = data.hacker_confirmation.astype('int')"
   ]
  },
  {
   "cell_type": "code",
   "execution_count": 9,
   "metadata": {
    "collapsed": true
   },
   "outputs": [],
   "source": [
    "data.fillna(0, inplace=True)"
   ]
  },
  {
   "cell_type": "code",
   "execution_count": 10,
   "metadata": {
    "collapsed": false
   },
   "outputs": [
    {
     "data": {
      "text/html": [
       "<div>\n",
       "<table border=\"1\" class=\"dataframe\">\n",
       "  <thead>\n",
       "    <tr style=\"text-align: right;\">\n",
       "      <th></th>\n",
       "      <th>mail_category</th>\n",
       "      <th>mail_type</th>\n",
       "      <th>sent_time</th>\n",
       "      <th>last_online</th>\n",
       "      <th>hacker_created_at</th>\n",
       "      <th>hacker_timezone</th>\n",
       "      <th>contest_login_count</th>\n",
       "      <th>contest_login_count_1_days</th>\n",
       "      <th>contest_login_count_30_days</th>\n",
       "      <th>contest_login_count_365_days</th>\n",
       "      <th>...</th>\n",
       "      <th>submissions_count_contest</th>\n",
       "      <th>submissions_count_contest_1_days</th>\n",
       "      <th>submissions_count_contest_30_days</th>\n",
       "      <th>submissions_count_contest_365_days</th>\n",
       "      <th>submissions_count_contest_7_days</th>\n",
       "      <th>submissions_count_master</th>\n",
       "      <th>submissions_count_master_1_days</th>\n",
       "      <th>submissions_count_master_30_days</th>\n",
       "      <th>submissions_count_master_365_days</th>\n",
       "      <th>submissions_count_master_7_days</th>\n",
       "    </tr>\n",
       "  </thead>\n",
       "  <tbody>\n",
       "    <tr>\n",
       "      <th>0</th>\n",
       "      <td>10</td>\n",
       "      <td>0</td>\n",
       "      <td>1463497837</td>\n",
       "      <td>1.460e+09</td>\n",
       "      <td>1432533023</td>\n",
       "      <td>18000.0</td>\n",
       "      <td>1</td>\n",
       "      <td>0</td>\n",
       "      <td>0</td>\n",
       "      <td>1</td>\n",
       "      <td>...</td>\n",
       "      <td>0</td>\n",
       "      <td>0</td>\n",
       "      <td>0</td>\n",
       "      <td>0</td>\n",
       "      <td>0</td>\n",
       "      <td>13</td>\n",
       "      <td>0</td>\n",
       "      <td>0</td>\n",
       "      <td>13</td>\n",
       "      <td>0</td>\n",
       "    </tr>\n",
       "    <tr>\n",
       "      <th>1</th>\n",
       "      <td>0</td>\n",
       "      <td>0</td>\n",
       "      <td>1461357640</td>\n",
       "      <td>1.461e+09</td>\n",
       "      <td>1432184291</td>\n",
       "      <td>-25200.0</td>\n",
       "      <td>3</td>\n",
       "      <td>0</td>\n",
       "      <td>1</td>\n",
       "      <td>3</td>\n",
       "      <td>...</td>\n",
       "      <td>16</td>\n",
       "      <td>0</td>\n",
       "      <td>3</td>\n",
       "      <td>16</td>\n",
       "      <td>0</td>\n",
       "      <td>83</td>\n",
       "      <td>0</td>\n",
       "      <td>43</td>\n",
       "      <td>83</td>\n",
       "      <td>4</td>\n",
       "    </tr>\n",
       "    <tr>\n",
       "      <th>2</th>\n",
       "      <td>0</td>\n",
       "      <td>0</td>\n",
       "      <td>1463499639</td>\n",
       "      <td>1.463e+09</td>\n",
       "      <td>1433045937</td>\n",
       "      <td>18000.0</td>\n",
       "      <td>3</td>\n",
       "      <td>0</td>\n",
       "      <td>0</td>\n",
       "      <td>3</td>\n",
       "      <td>...</td>\n",
       "      <td>0</td>\n",
       "      <td>0</td>\n",
       "      <td>0</td>\n",
       "      <td>0</td>\n",
       "      <td>0</td>\n",
       "      <td>16</td>\n",
       "      <td>0</td>\n",
       "      <td>3</td>\n",
       "      <td>16</td>\n",
       "      <td>0</td>\n",
       "    </tr>\n",
       "    <tr>\n",
       "      <th>3</th>\n",
       "      <td>0</td>\n",
       "      <td>0</td>\n",
       "      <td>1463182983</td>\n",
       "      <td>1.463e+09</td>\n",
       "      <td>1432184291</td>\n",
       "      <td>-25200.0</td>\n",
       "      <td>3</td>\n",
       "      <td>0</td>\n",
       "      <td>0</td>\n",
       "      <td>3</td>\n",
       "      <td>...</td>\n",
       "      <td>16</td>\n",
       "      <td>0</td>\n",
       "      <td>0</td>\n",
       "      <td>16</td>\n",
       "      <td>0</td>\n",
       "      <td>85</td>\n",
       "      <td>0</td>\n",
       "      <td>9</td>\n",
       "      <td>85</td>\n",
       "      <td>0</td>\n",
       "    </tr>\n",
       "    <tr>\n",
       "      <th>4</th>\n",
       "      <td>12</td>\n",
       "      <td>0</td>\n",
       "      <td>1461855019</td>\n",
       "      <td>1.461e+09</td>\n",
       "      <td>1432998058</td>\n",
       "      <td>18000.0</td>\n",
       "      <td>5</td>\n",
       "      <td>0</td>\n",
       "      <td>0</td>\n",
       "      <td>5</td>\n",
       "      <td>...</td>\n",
       "      <td>17</td>\n",
       "      <td>0</td>\n",
       "      <td>1</td>\n",
       "      <td>17</td>\n",
       "      <td>0</td>\n",
       "      <td>43</td>\n",
       "      <td>0</td>\n",
       "      <td>0</td>\n",
       "      <td>43</td>\n",
       "      <td>0</td>\n",
       "    </tr>\n",
       "    <tr>\n",
       "      <th>5</th>\n",
       "      <td>14</td>\n",
       "      <td>0</td>\n",
       "      <td>1459927021</td>\n",
       "      <td>1.458e+09</td>\n",
       "      <td>1431945704</td>\n",
       "      <td>18000.0</td>\n",
       "      <td>2</td>\n",
       "      <td>0</td>\n",
       "      <td>0</td>\n",
       "      <td>2</td>\n",
       "      <td>...</td>\n",
       "      <td>13</td>\n",
       "      <td>0</td>\n",
       "      <td>0</td>\n",
       "      <td>13</td>\n",
       "      <td>0</td>\n",
       "      <td>88</td>\n",
       "      <td>0</td>\n",
       "      <td>0</td>\n",
       "      <td>88</td>\n",
       "      <td>0</td>\n",
       "    </tr>\n",
       "    <tr>\n",
       "      <th>6</th>\n",
       "      <td>0</td>\n",
       "      <td>0</td>\n",
       "      <td>1460230930</td>\n",
       "      <td>1.460e+09</td>\n",
       "      <td>1432658834</td>\n",
       "      <td>3600.0</td>\n",
       "      <td>1</td>\n",
       "      <td>0</td>\n",
       "      <td>0</td>\n",
       "      <td>1</td>\n",
       "      <td>...</td>\n",
       "      <td>0</td>\n",
       "      <td>0</td>\n",
       "      <td>0</td>\n",
       "      <td>0</td>\n",
       "      <td>0</td>\n",
       "      <td>20</td>\n",
       "      <td>0</td>\n",
       "      <td>12</td>\n",
       "      <td>20</td>\n",
       "      <td>12</td>\n",
       "    </tr>\n",
       "    <tr>\n",
       "      <th>7</th>\n",
       "      <td>0</td>\n",
       "      <td>0</td>\n",
       "      <td>1462282973</td>\n",
       "      <td>1.462e+09</td>\n",
       "      <td>1432294499</td>\n",
       "      <td>18000.0</td>\n",
       "      <td>1</td>\n",
       "      <td>0</td>\n",
       "      <td>0</td>\n",
       "      <td>1</td>\n",
       "      <td>...</td>\n",
       "      <td>0</td>\n",
       "      <td>0</td>\n",
       "      <td>0</td>\n",
       "      <td>0</td>\n",
       "      <td>0</td>\n",
       "      <td>14</td>\n",
       "      <td>0</td>\n",
       "      <td>14</td>\n",
       "      <td>14</td>\n",
       "      <td>14</td>\n",
       "    </tr>\n",
       "    <tr>\n",
       "      <th>8</th>\n",
       "      <td>4</td>\n",
       "      <td>1</td>\n",
       "      <td>1462888545</td>\n",
       "      <td>1.463e+09</td>\n",
       "      <td>1432795707</td>\n",
       "      <td>18000.0</td>\n",
       "      <td>53</td>\n",
       "      <td>1</td>\n",
       "      <td>5</td>\n",
       "      <td>53</td>\n",
       "      <td>...</td>\n",
       "      <td>265</td>\n",
       "      <td>0</td>\n",
       "      <td>19</td>\n",
       "      <td>265</td>\n",
       "      <td>0</td>\n",
       "      <td>129</td>\n",
       "      <td>0</td>\n",
       "      <td>0</td>\n",
       "      <td>129</td>\n",
       "      <td>0</td>\n",
       "    </tr>\n",
       "    <tr>\n",
       "      <th>9</th>\n",
       "      <td>4</td>\n",
       "      <td>1</td>\n",
       "      <td>1462888549</td>\n",
       "      <td>1.462e+09</td>\n",
       "      <td>1432059719</td>\n",
       "      <td>-25200.0</td>\n",
       "      <td>1</td>\n",
       "      <td>0</td>\n",
       "      <td>0</td>\n",
       "      <td>1</td>\n",
       "      <td>...</td>\n",
       "      <td>0</td>\n",
       "      <td>0</td>\n",
       "      <td>0</td>\n",
       "      <td>0</td>\n",
       "      <td>0</td>\n",
       "      <td>3</td>\n",
       "      <td>0</td>\n",
       "      <td>0</td>\n",
       "      <td>3</td>\n",
       "      <td>0</td>\n",
       "    </tr>\n",
       "  </tbody>\n",
       "</table>\n",
       "<p>10 rows × 47 columns</p>\n",
       "</div>"
      ],
      "text/plain": [
       "   mail_category  mail_type   sent_time  last_online  hacker_created_at  hacker_timezone  \\\n",
       "0             10          0  1463497837    1.460e+09         1432533023          18000.0   \n",
       "1              0          0  1461357640    1.461e+09         1432184291         -25200.0   \n",
       "2              0          0  1463499639    1.463e+09         1433045937          18000.0   \n",
       "3              0          0  1463182983    1.463e+09         1432184291         -25200.0   \n",
       "4             12          0  1461855019    1.461e+09         1432998058          18000.0   \n",
       "5             14          0  1459927021    1.458e+09         1431945704          18000.0   \n",
       "6              0          0  1460230930    1.460e+09         1432658834           3600.0   \n",
       "7              0          0  1462282973    1.462e+09         1432294499          18000.0   \n",
       "8              4          1  1462888545    1.463e+09         1432795707          18000.0   \n",
       "9              4          1  1462888549    1.462e+09         1432059719         -25200.0   \n",
       "\n",
       "   contest_login_count  contest_login_count_1_days  contest_login_count_30_days  \\\n",
       "0                    1                           0                            0   \n",
       "1                    3                           0                            1   \n",
       "2                    3                           0                            0   \n",
       "3                    3                           0                            0   \n",
       "4                    5                           0                            0   \n",
       "5                    2                           0                            0   \n",
       "6                    1                           0                            0   \n",
       "7                    1                           0                            0   \n",
       "8                   53                           1                            5   \n",
       "9                    1                           0                            0   \n",
       "\n",
       "   contest_login_count_365_days               ...                 submissions_count_contest  \\\n",
       "0                             1               ...                                         0   \n",
       "1                             3               ...                                        16   \n",
       "2                             3               ...                                         0   \n",
       "3                             3               ...                                        16   \n",
       "4                             5               ...                                        17   \n",
       "5                             2               ...                                        13   \n",
       "6                             1               ...                                         0   \n",
       "7                             1               ...                                         0   \n",
       "8                            53               ...                                       265   \n",
       "9                             1               ...                                         0   \n",
       "\n",
       "   submissions_count_contest_1_days  submissions_count_contest_30_days  \\\n",
       "0                                 0                                  0   \n",
       "1                                 0                                  3   \n",
       "2                                 0                                  0   \n",
       "3                                 0                                  0   \n",
       "4                                 0                                  1   \n",
       "5                                 0                                  0   \n",
       "6                                 0                                  0   \n",
       "7                                 0                                  0   \n",
       "8                                 0                                 19   \n",
       "9                                 0                                  0   \n",
       "\n",
       "   submissions_count_contest_365_days  submissions_count_contest_7_days  submissions_count_master  \\\n",
       "0                                   0                                 0                        13   \n",
       "1                                  16                                 0                        83   \n",
       "2                                   0                                 0                        16   \n",
       "3                                  16                                 0                        85   \n",
       "4                                  17                                 0                        43   \n",
       "5                                  13                                 0                        88   \n",
       "6                                   0                                 0                        20   \n",
       "7                                   0                                 0                        14   \n",
       "8                                 265                                 0                       129   \n",
       "9                                   0                                 0                         3   \n",
       "\n",
       "   submissions_count_master_1_days  submissions_count_master_30_days  \\\n",
       "0                                0                                 0   \n",
       "1                                0                                43   \n",
       "2                                0                                 3   \n",
       "3                                0                                 9   \n",
       "4                                0                                 0   \n",
       "5                                0                                 0   \n",
       "6                                0                                12   \n",
       "7                                0                                14   \n",
       "8                                0                                 0   \n",
       "9                                0                                 0   \n",
       "\n",
       "   submissions_count_master_365_days  submissions_count_master_7_days  \n",
       "0                                 13                                0  \n",
       "1                                 83                                4  \n",
       "2                                 16                                0  \n",
       "3                                 85                                0  \n",
       "4                                 43                                0  \n",
       "5                                 88                                0  \n",
       "6                                 20                               12  \n",
       "7                                 14                               14  \n",
       "8                                129                                0  \n",
       "9                                  3                                0  \n",
       "\n",
       "[10 rows x 47 columns]"
      ]
     },
     "execution_count": 10,
     "metadata": {},
     "output_type": "execute_result"
    }
   ],
   "source": [
    "data.head(10)"
   ]
  },
  {
   "cell_type": "code",
   "execution_count": 11,
   "metadata": {
    "collapsed": false
   },
   "outputs": [],
   "source": [
    "#cols = [col for col in data.columns if col not in ['opened']]\n",
    "#print(cols)\n",
    "array = data.values\n",
    "#X = array[:,:]\n",
    "Y = data['opened'].values\n",
    "data.drop('opened', axis=1, inplace=True)\n",
    "X = data.values\n",
    "#temp = data[cols]\n",
    "\n",
    "\n",
    "#temp = data['~opened']\n",
    "#temp.drop('opened', axis=1, inplace=True)\n",
    "#X = temp.values[:,:]\n",
    "#remove opened before assigning x"
   ]
  },
  {
   "cell_type": "code",
   "execution_count": 12,
   "metadata": {
    "collapsed": false
   },
   "outputs": [
    {
     "data": {
      "text/plain": [
       "Index([u'mail_category', u'mail_type', u'sent_time', u'last_online', u'hacker_created_at',\n",
       "       u'hacker_timezone', u'contest_login_count', u'contest_login_count_1_days',\n",
       "       u'contest_login_count_30_days', u'contest_login_count_365_days',\n",
       "       u'contest_login_count_7_days', u'contest_participation_count',\n",
       "       u'contest_participation_count_1_days', u'contest_participation_count_30_days',\n",
       "       u'contest_participation_count_365_days', u'contest_participation_count_7_days',\n",
       "       u'forum_comments_count', u'forum_count', u'forum_expert_count', u'forum_questions_count',\n",
       "       u'hacker_confirmation', u'ipn_count', u'ipn_count_1_days', u'ipn_count_30_days',\n",
       "       u'ipn_count_365_days', u'ipn_count_7_days', u'ipn_read', u'ipn_read_1_days',\n",
       "       u'ipn_read_30_days', u'ipn_read_365_days', u'ipn_read_7_days', u'submissions_count',\n",
       "       u'submissions_count_1_days', u'submissions_count_30_days', u'submissions_count_365_days',\n",
       "       u'submissions_count_7_days', u'submissions_count_contest',\n",
       "       u'submissions_count_contest_1_days', u'submissions_count_contest_30_days',\n",
       "       u'submissions_count_contest_365_days', u'submissions_count_contest_7_days',\n",
       "       u'submissions_count_master', u'submissions_count_master_1_days',\n",
       "       u'submissions_count_master_30_days', u'submissions_count_master_365_days',\n",
       "       u'submissions_count_master_7_days'],\n",
       "      dtype='object')"
      ]
     },
     "execution_count": 12,
     "metadata": {},
     "output_type": "execute_result"
    }
   ],
   "source": [
    "data.columns"
   ]
  },
  {
   "cell_type": "code",
   "execution_count": 13,
   "metadata": {
    "collapsed": true
   },
   "outputs": [],
   "source": [
    "features = []\n",
    "features.append(('pca', PCA(n_components=3)))\n",
    "features.append(('select_best', SelectKBest(k=6)))\n",
    "feature_union = FeatureUnion(features)"
   ]
  },
  {
   "cell_type": "code",
   "execution_count": 14,
   "metadata": {
    "collapsed": false
   },
   "outputs": [],
   "source": [
    "estimators = []\n",
    "estimators.append(('feature_union', feature_union))\n",
    "#estimators.append(('logistic', LogisticRegression()))\n",
    "#estimators.append(('dtc', DecisionTreeClassifier()))\n",
    "estimators.append(('rfc', RandomForestClassifier(n_estimators=100, max_features=6)))\n",
    "#model = Pipeline(estimators)"
   ]
  },
  {
   "cell_type": "code",
   "execution_count": 15,
   "metadata": {
    "collapsed": true
   },
   "outputs": [],
   "source": [
    "model = RandomForestClassifier(n_estimators=20, max_features=6)"
   ]
  },
  {
   "cell_type": "code",
   "execution_count": 16,
   "metadata": {
    "collapsed": false
   },
   "outputs": [
    {
     "name": "stdout",
     "output_type": "stream",
     "text": [
      "[ 0.6866166   0.65201111  0.63923465  0.646559    0.65415081  0.64532456\n",
      "  0.62328979  0.64106573  0.69813184  0.6785244 ]\n"
     ]
    }
   ],
   "source": [
    "num_folds = 10\n",
    "num_instances = len(X)\n",
    "seed = 7\n",
    "kfold = KFold(n=num_instances, n_folds=num_folds, random_state=seed)\n",
    "results = cross_val_score(model, X, Y, cv=kfold)\n",
    "print(results)"
   ]
  },
  {
   "cell_type": "code",
   "execution_count": 17,
   "metadata": {
    "collapsed": false
   },
   "outputs": [
    {
     "name": "stdout",
     "output_type": "stream",
     "text": [
      "Scoring - Accuracy: 0.656 (0.022)\n"
     ]
    }
   ],
   "source": [
    "print(\"Scoring - Accuracy: %.3f (%.3f)\") % (results.mean(), results.std())"
   ]
  },
  {
   "cell_type": "code",
   "execution_count": 18,
   "metadata": {
    "collapsed": false
   },
   "outputs": [],
   "source": [
    "test_size = 0.33\n",
    "train_test_seed = 7\n",
    "X_train, X_test, Y_train, Y_test = cross_validation.train_test_split(X, Y, test_size=test_size, random_state=train_test_seed)\n",
    "model.fit(X_train, Y_train)\n",
    "predicted = model.predict(X_test)\n",
    "matrix = confusion_matrix(Y_test, predicted)"
   ]
  },
  {
   "cell_type": "code",
   "execution_count": 19,
   "metadata": {
    "collapsed": false
   },
   "outputs": [
    {
     "data": {
      "text/html": [
       "<div>\n",
       "<table border=\"1\" class=\"dataframe\">\n",
       "  <thead>\n",
       "    <tr style=\"text-align: right;\">\n",
       "      <th></th>\n",
       "      <th>0 (Predicted)</th>\n",
       "      <th>1 (Predicted)</th>\n",
       "    </tr>\n",
       "  </thead>\n",
       "  <tbody>\n",
       "    <tr>\n",
       "      <th>0 (Actual)</th>\n",
       "      <td>94939</td>\n",
       "      <td>12465</td>\n",
       "    </tr>\n",
       "    <tr>\n",
       "      <th>1 (Actual)</th>\n",
       "      <td>28399</td>\n",
       "      <td>24593</td>\n",
       "    </tr>\n",
       "  </tbody>\n",
       "</table>\n",
       "</div>"
      ],
      "text/plain": [
       "            0 (Predicted)  1 (Predicted)\n",
       "0 (Actual)          94939          12465\n",
       "1 (Actual)          28399          24593"
      ]
     },
     "execution_count": 19,
     "metadata": {},
     "output_type": "execute_result"
    }
   ],
   "source": [
    "pd.DataFrame(matrix, index=['0 (Actual)', '1 (Actual)'], columns=['0 (Predicted)', '1 (Predicted)'])"
   ]
  },
  {
   "cell_type": "code",
   "execution_count": 20,
   "metadata": {
    "collapsed": false
   },
   "outputs": [],
   "source": [
    "test_some_x = X[:500]\n",
    "test_some_y = Y[:500]\n",
    "test_some_predicted = model.predict(test_some_x)"
   ]
  },
  {
   "cell_type": "code",
   "execution_count": 21,
   "metadata": {
    "collapsed": false
   },
   "outputs": [
    {
     "name": "stdout",
     "output_type": "stream",
     "text": [
      "[1 0 0 0 0 0 0 0 1 1 1 0 0 0 0 0 0 0 1 1 0 1 0 1 1 0 0 0 0 0 0 0 0 0 1 0 0\n",
      " 0 0 0 1 0 0 0 1 0 0 1 0 0 0 0 0 0 0 0 0 1 0 0 1 0 0 0 0 0 0 1 0 1 0 0 0 0\n",
      " 1 0 0 1 0 0 0 0 0 0 0 0 0 0 1 0 1 0 0 1 0 0 0 0 0 0 1 0 0 1 0 0 0 0 1 1 1\n",
      " 0 0 0 0 0 0 0 1 0 0 0 0 0 0 0 0 0 1 0 0 0 0 0 0 0 0 0 0 0 0 0 1 0 0 0 1 0\n",
      " 0 0 0 0 0 1 0 0 0 0 0 1 0 0 0 1 1 0 0 0 1 0 0 0 0 0 0 0 0 1 1 0 0 0 0 0 1\n",
      " 1 0 0 0 0 1 0 0 0 1 0 1 0 0 0 0 0 0 0 0 0 0 1 1 0 0 1 0 0 1 1 0 0 1 0 0 0\n",
      " 1 0 1 0 0 0 0 0 0 0 0 0 0 0 1 1 0 0 0 1 0 0 0 1 0 0 0 0 0 0 1 0 0 0 0 0 0\n",
      " 0 0 0 0 1 1 0 0 0 1 0 0 0 1 0 0 1 1 0 0 0 1 0 0 1 0 0 0 0 0 1 0 0 0 0 0 0\n",
      " 0 1 0 0 0 0 0 0 1 0 0 0 1 0 0 0 0 0 1 0 0 0 0 0 0 0 0 0 0 1 0 0 0 0 0 0 0\n",
      " 1 0 1 1 0 0 0 0 1 0 1 0 1 1 0 1 1 1 0 0 0 0 0 0 1 1 0 0 1 1 0 1 0 1 1 0 0\n",
      " 1 0 0 0 0 0 0 0 0 0 1 1 0 0 0 1 1 1 0 1 0 0 1 1 0 1 1 0 0 0 0 0 0 0 0 0 1\n",
      " 0 0 0 0 0 0 1 0 0 0 0 1 1 1 1 0 0 1 0 0 0 0 0 0 0 0 0 1 0 0 0 0 0 1 0 0 0\n",
      " 0 0 0 0 0 0 0 1 1 0 0 0 0 0 1 0 0 0 0 1 0 0 1 0 0 0 1 1 0 0 0 0 0 0 0 0 0\n",
      " 0 0 1 0 0 1 0 1 0 0 0 0 0 0 0 0 0 0 0]\n"
     ]
    }
   ],
   "source": [
    "print(test_some_predicted)"
   ]
  },
  {
   "cell_type": "code",
   "execution_count": 22,
   "metadata": {
    "collapsed": false
   },
   "outputs": [
    {
     "name": "stdout",
     "output_type": "stream",
     "text": [
      "[1 0 0 0 0 0 1 0 1 0 1 0 1 0 0 0 0 0 1 1 0 1 0 1 1 0 0 0 1 0 0 0 0 0 1 0 0\n",
      " 0 0 1 1 0 0 0 1 0 0 1 0 0 0 1 0 0 0 0 1 1 0 0 1 0 1 0 0 0 0 1 0 1 0 0 0 0\n",
      " 1 0 0 1 0 0 0 0 0 1 0 0 0 0 1 0 1 0 1 1 0 0 0 0 0 0 1 0 1 1 0 0 0 0 1 1 1\n",
      " 0 0 0 0 0 0 0 1 0 0 0 0 0 1 0 0 0 1 0 0 0 0 0 0 0 0 0 0 0 0 0 1 0 0 0 1 0\n",
      " 0 0 0 1 0 1 0 0 0 1 0 1 0 0 0 1 1 0 0 0 1 0 0 0 0 0 0 0 0 1 1 0 0 0 0 0 1\n",
      " 1 1 0 0 0 1 0 0 0 1 1 1 0 0 0 0 0 0 0 1 0 0 1 1 0 0 1 0 0 1 1 0 0 1 0 0 0\n",
      " 1 0 1 0 0 0 0 0 0 0 0 0 0 0 1 1 1 0 1 1 0 0 0 1 0 0 0 0 1 0 1 0 0 0 0 0 0\n",
      " 0 0 0 0 1 1 1 0 0 1 0 0 0 1 0 0 1 1 0 0 0 1 0 0 1 1 0 0 0 0 1 0 0 0 0 0 0\n",
      " 1 1 0 0 0 1 0 0 1 0 0 0 1 0 0 0 0 0 1 0 0 1 0 0 0 0 0 0 0 1 0 0 0 0 0 0 0\n",
      " 1 0 1 1 0 0 0 0 1 0 1 0 1 1 0 1 1 1 0 0 0 0 0 0 0 0 0 0 1 1 0 1 0 1 1 0 0\n",
      " 1 0 0 1 0 0 0 0 0 0 1 1 1 0 0 1 1 1 0 1 0 0 1 1 0 1 1 0 0 0 0 0 0 1 0 0 1\n",
      " 0 0 0 0 0 0 1 0 0 0 1 1 0 0 1 0 0 1 0 0 1 0 0 0 0 0 0 1 0 0 0 0 0 1 0 0 0\n",
      " 1 0 0 0 1 0 0 1 1 0 0 0 0 0 1 0 0 1 0 1 0 0 1 0 0 0 1 1 0 1 0 0 1 0 0 0 0\n",
      " 0 0 1 1 0 1 0 1 0 0 0 0 0 0 0 1 0 0 0]\n"
     ]
    }
   ],
   "source": [
    "print(test_some_y)"
   ]
  },
  {
   "cell_type": "code",
   "execution_count": 23,
   "metadata": {
    "collapsed": false
   },
   "outputs": [
    {
     "name": "stdout",
     "output_type": "stream",
     "text": [
      "486048\n"
     ]
    }
   ],
   "source": [
    "print(len(X))"
   ]
  },
  {
   "cell_type": "code",
   "execution_count": 24,
   "metadata": {
    "collapsed": true
   },
   "outputs": [],
   "source": [
    "for col in ['user_id','mail_id']:\n",
    "    test_data.drop(col, axis=1, inplace=True)"
   ]
  },
  {
   "cell_type": "code",
   "execution_count": 25,
   "metadata": {
    "collapsed": false
   },
   "outputs": [],
   "source": [
    "test_data['mail_category'] = pd.Categorical(test_data.mail_category).codes\n",
    "test_data['mail_type'] = pd.Categorical(test_data.mail_type).codes"
   ]
  },
  {
   "cell_type": "code",
   "execution_count": 26,
   "metadata": {
    "collapsed": true
   },
   "outputs": [],
   "source": [
    "test_data.hacker_confirmation = test_data.hacker_confirmation.astype('int')\n",
    "test_data.fillna(0, inplace=True)"
   ]
  },
  {
   "cell_type": "code",
   "execution_count": 27,
   "metadata": {
    "collapsed": false
   },
   "outputs": [],
   "source": [
    "#list(set(data.columns) - set(test_data.columns))\n"
   ]
  },
  {
   "cell_type": "code",
   "execution_count": 28,
   "metadata": {
    "collapsed": false
   },
   "outputs": [],
   "source": [
    "test_predicted = model.predict(test_data)"
   ]
  },
  {
   "cell_type": "code",
   "execution_count": 29,
   "metadata": {
    "collapsed": false
   },
   "outputs": [
    {
     "name": "stdout",
     "output_type": "stream",
     "text": [
      "[0 0 0 0 0 0 0 0 0 0 0 0 0 1 0 0 0 0 0 0 0 1 1 0 0 0 0 0 0 0 0 0 0 0 0 0 1\n",
      " 0 0 0 0 0 0 0 1 0 0 0 0 1 1 0 0 0 0 0 1 0 1 0 0 0 0 0 0 0 0 0 0 0 1 0 0 0\n",
      " 0 0 0 0 0 0 0 0 0 0 0 0 0 0 0 0 0 0 0 0 1 0 0 0 0 0 1 0 0 1 0 1 0 0 1 0 1\n",
      " 0 0 0 0 0 0 0 0 1 0 0 0 0 0 0 0 0 0 0 1 0 0 0 1 1 0 0 0 0 0 0 0 1 0 0 0 0\n",
      " 0 0 0 0 0 0 0 0 0 0 0 0 0 0 0 0 0 0 0 0 1 0 0 0 1 0 0 1 0 0 1 0 0 0 0 0 0\n",
      " 0 0 1 0 0 1 0 0 0 0 0 0 0 0 0 0 0 0 0 0 0 0 0 1 0 0 0 0 0 1 0 0 1 0 0 0 0\n",
      " 0 0 0 0 0 0 1 0 0 0 0 1 1 0 0 1 0 0 0 0 0 0 0 0 0 0 1 0 0 0 0 1 0 0 0 0 0\n",
      " 0 0 0 0 0 0 0 0 0 0 0 0 0 0 0 1 0 0 0 0 0 0 0 0 0 0 0 0 0 1 0 0 0 0 0 0 0\n",
      " 0 0 0 0 0 0 1 0 0 0 0 0 0 1 0 0 1 0 0 0 0 0 1 0 0 0 0 0 0 0 0 0 0 0 0 0 0\n",
      " 0 0 0 0 0 0 0 0 0 0 0 0 0 0 0 0 0 0 0 1 0 0 0 0 0 0 0 0 0 0 0 0 0 0 0 0 0\n",
      " 0 0 0 0 0 0 0 0 0 0 0 0 0 0 0 0 0 0 0 0 0 0 0 0 0 0 0 0 1 0 0 0 0 0 0 0 0\n",
      " 0 0 0 0 0 0 0 0 0 0 0 0 0 0 0 0 0 0 0 0 0 0 0 0 0 0 0 0 0 0 0 0 0 0 0 0 0\n",
      " 0 0 0 1 0 0 0 0 0 0 0 0 0 0 0 0 0 0 0 0 0 0 0 0 0 0 0 0 0 0 0 0 0 0 0 0 0\n",
      " 0 1 0 0 0 0 0 0 0 0 0 0 0 0 0 0 0 0 0 0 0 0 0 0 1 0 0 0 0 0 0 0 0 0 0 0 0\n",
      " 0 1 0 0 0 0 0 0 0 0 0 0 0 0 0 0 0 0 0 0 1 0 0 0 0 1 0 0 0 1 0 0 0 0 0 1 0\n",
      " 1 0 0 1 0 0 0 0 0 0 0 0 0 1 0 0 1 0 0 0 0 0 0 0 0 0 0 0 0 0 0 1 0 0 0 0 0\n",
      " 0 0 0 0 0 0 1 0 0 0 0 0 0 0 0 0 1 0 0 0 0 0 0 1 0 0 0 0 0 0 0 0 0 0 0 0 0\n",
      " 0 1 0 1 0 0 0 0 1 0 0 1 0 0 0 0 1 0 1 0 0 0 0 0 0 0 0 0 1 0 1 0 0 0 0 0 0\n",
      " 0 0 0 0 0 0 1 0 0 0 0 0 1 0 0 0 0 0 1 0 0 0 0 0 0 0 0 1 0 0 0 0 0 0 1 0 0\n",
      " 0 0 0 1 0 0 0 0 0 0 0 0 0 0 0 0 0 0 1 0 0 0 0 1 0 0 0 1 0 1 0 0 0 0 0 0 0\n",
      " 0 0 0 0 1 0 1 0 0 0 0 0 0 0 0 0 0 0 0 0 0 0 0 0 0 0 0 0 1 0 1 0 0 0 0 0 0\n",
      " 0 0 0 0 0 0 0 0 0 0 0 0 0 0 0 0 0 0 0 0 0 0 1 0 0 1 0 0 0 0 0 0 0 1 0 0 0\n",
      " 1 0 0 1 0 0 0 0 0 0 0 0 0 0 0 0 0 1 0 0 0 0 0 0 0 0 0 0 0 0 0 0 0 0 0 0 0\n",
      " 0 0 0 0 0 0 0 0 0 0 1 0 0 0 0 1 0 0 0 0 0 0 0 1 0 0 0 0 0 0 0 0 0 0 0 0 0\n",
      " 1 0 0 0 0 0 0 0 0 0 1 0 0 0 0 0 0 0 0 0 0 0 0 0 1 1 0 0 1 0 0 0 0 0 0 0 0\n",
      " 0 0 0 0 0 1 0 0 0 0 0 1 0 0 0 0 0 1 0 0 1 0 0 1 0 0 0 0 0 0 1 0 0 0 0 0 0\n",
      " 0 0 0 0 0 0 0 0 0 0 0 0 0 0 0 0 0 0 0 0 0 0 0 0 0 0 0 0 0 0 0 0 0 0 0 0 0\n",
      " 0]\n"
     ]
    }
   ],
   "source": [
    "print(test_predicted[:1000])"
   ]
  },
  {
   "cell_type": "code",
   "execution_count": 30,
   "metadata": {
    "collapsed": false
   },
   "outputs": [
    {
     "ename": "AttributeError",
     "evalue": "'numpy.ndarray' object has no attribute 'to_csv'",
     "output_type": "error",
     "traceback": [
      "\u001b[1;31m---------------------------------------------------------------------------\u001b[0m",
      "\u001b[1;31mAttributeError\u001b[0m                            Traceback (most recent call last)",
      "\u001b[1;32m<ipython-input-30-4580398ec4f9>\u001b[0m in \u001b[0;36m<module>\u001b[1;34m()\u001b[0m\n\u001b[1;32m----> 1\u001b[1;33m \u001b[0mtest_predicted\u001b[0m\u001b[1;33m.\u001b[0m\u001b[0mto_csv\u001b[0m\u001b[1;33m(\u001b[0m\u001b[1;34m'open_email_test_output.csv'\u001b[0m\u001b[1;33m,\u001b[0m \u001b[0mheader\u001b[0m\u001b[1;33m=\u001b[0m\u001b[0mFalse\u001b[0m\u001b[1;33m)\u001b[0m\u001b[1;33m\u001b[0m\u001b[0m\n\u001b[0m",
      "\u001b[1;31mAttributeError\u001b[0m: 'numpy.ndarray' object has no attribute 'to_csv'"
     ]
    }
   ],
   "source": [
    "#test_predicted.to_csv('open_email_test_output.csv', header=False)"
   ]
  },
  {
   "cell_type": "code",
   "execution_count": 32,
   "metadata": {
    "collapsed": false
   },
   "outputs": [],
   "source": [
    "#import numpy as np\n",
    "#np.savetxt('np_open_email_test_output.csv', test_predicted, delimiter=',')   # X is an array"
   ]
  },
  {
   "cell_type": "code",
   "execution_count": 41,
   "metadata": {
    "collapsed": false
   },
   "outputs": [],
   "source": [
    "test_predicted_df = pd.DataFrame(test_predicted)\n",
    "#test_predicted_df.head(30)     \n",
    "test_predicted_df.to_csv('df_open_email_test_output_65.csv', header=False, index=False)"
   ]
  },
  {
   "cell_type": "code",
   "execution_count": 43,
   "metadata": {
    "collapsed": false
   },
   "outputs": [
    {
     "data": {
      "text/plain": [
       "(207424, 1)"
      ]
     },
     "execution_count": 43,
     "metadata": {},
     "output_type": "execute_result"
    }
   ],
   "source": [
    "test_predicted_df.shape"
   ]
  },
  {
   "cell_type": "code",
   "execution_count": 44,
   "metadata": {
    "collapsed": false
   },
   "outputs": [
    {
     "data": {
      "text/plain": [
       "(207424, 46)"
      ]
     },
     "execution_count": 44,
     "metadata": {},
     "output_type": "execute_result"
    }
   ],
   "source": [
    "test_data.shape"
   ]
  }
 ],
 "metadata": {
  "anaconda-cloud": {},
  "kernelspec": {
   "display_name": "Python [Root]",
   "language": "python",
   "name": "Python [Root]"
  },
  "language_info": {
   "codemirror_mode": {
    "name": "ipython",
    "version": 2
   },
   "file_extension": ".py",
   "mimetype": "text/x-python",
   "name": "python",
   "nbconvert_exporter": "python",
   "pygments_lexer": "ipython2",
   "version": "2.7.12"
  }
 },
 "nbformat": 4,
 "nbformat_minor": 0
}
