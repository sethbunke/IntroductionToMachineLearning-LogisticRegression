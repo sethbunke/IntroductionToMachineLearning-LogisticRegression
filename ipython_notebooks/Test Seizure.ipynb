{
 "cells": [
  {
   "cell_type": "markdown",
   "metadata": {},
   "source": [
    "https://github.com/leopiney/nih-seizure-prediction/blob/master/work/Playground.ipynb\n",
    "https://s3.amazonaws.com/MLMastery/machine_learning_mastery_with_python_sample.pdf\n",
    "https://github.com/leopiney/nih-seizure-prediction/blob/master/work/NIH%20Seizure%20Prediction.ipynb\n",
    "https://github.com/QuantScientist/Seizure-Prediction-2016/blob/master/sh_lib_fm_seizure_prediction.ipynb\n",
    "https://www.kaggle.com/c/melbourne-university-seizure-prediction/data?sample_submission.csv\n"
   ]
  },
  {
   "cell_type": "code",
   "execution_count": 42,
   "metadata": {
    "collapsed": true
   },
   "outputs": [],
   "source": [
    "\n",
    "import scipy.io\n",
    "import numpy as np\n",
    "import matplotlib\n",
    "import matplotlib.pyplot as plt"
   ]
  },
  {
   "cell_type": "code",
   "execution_count": 3,
   "metadata": {
    "collapsed": true
   },
   "outputs": [],
   "source": [
    "def get_class_from_name(name):\n",
    "    \"\"\"\n",
    "    Gets the class from the file name.\n",
    "    \n",
    "    The class is defined by the last number written in the file name.\n",
    "    For example:\n",
    "    \n",
    "    Input: \".../1_1_1.mat\"\n",
    "    Output: 1.0\n",
    "    \n",
    "    Input: \".../1_1_0.mat\"\n",
    "    Output: 0.0\n",
    "    \"\"\"\n",
    "    try:\n",
    "        return float(name[-5])\n",
    "    except:\n",
    "        return 0.0\n",
    "\n",
    "assert get_class_from_name('/train_1/1_1_0.mat') == 0.0\n",
    "assert get_class_from_name('/train_1/1_1_1.mat') == 1.0"
   ]
  },
  {
   "cell_type": "code",
   "execution_count": 4,
   "metadata": {
    "collapsed": true
   },
   "outputs": [],
   "source": [
    "from scipy.fftpack import rfft\n",
    "\n",
    "\n",
    "def get_X_files_and_y(base_dir, train_samples=600):\n",
    "    ignored_files = ['.DS_Store', '1_45_1.mat']\n",
    "\n",
    "    X_files = np.array([])\n",
    "    y = np.array([])\n",
    "\n",
    "    for i, filename in enumerate(os.listdir(base_dir)):\n",
    "        if filename in ignored_files:\n",
    "            continue\n",
    "\n",
    "        X_files = np.append(X_files, str(filename))\n",
    "        y = np.append(y, get_class_from_name(filename))  # The number of readings\n",
    "\n",
    "        if i >= train_samples:\n",
    "            break\n",
    "    \n",
    "    return X_files, y\n",
    "\n",
    "\n",
    "def get_X_from_files(base_dir, files, show_progress=True):\n",
    "    \"\"\"\n",
    "    Given a list of filenames, returns the Standard deviation of the content of each file as a row.\n",
    "    \"\"\"\n",
    "    X = None\n",
    "    n = 128\n",
    "\n",
    "    total_files = len(files)\n",
    "\n",
    "    for i, filename in enumerate(files):\n",
    "        if show_progress and i % int(total_files / 10) == 0:\n",
    "            print(u'%{}: Loading file {}'.format(int(i * 100 / total_files), filename))\n",
    "\n",
    "        try:\n",
    "            mat_data = scipy.io.loadmat(''.join([base_dir, filename]))\n",
    "        except ValueError as ex:\n",
    "            print(u'Error loading MAT file {}: {}'.format(filename, str(ex)))\n",
    "            continue\n",
    "\n",
    "        data = mat_data['dataStruct'][0][0][0]\n",
    "        x_fft = rfft(data, n=n, axis=0)\n",
    "\n",
    "        X = np.vstack([X, x_fft]) if X is not None else x_fft\n",
    "    \n",
    "    return X"
   ]
  },
  {
   "cell_type": "code",
   "execution_count": 51,
   "metadata": {
    "collapsed": false,
    "scrolled": true
   },
   "outputs": [],
   "source": [
    "import os\n",
    "import numpy as np\n",
    "from sklearn.cross_validation import train_test_split\n",
    "\n",
    "base = r'C:\\data\\seizure\\train_1\\\\'\n",
    "base_tests = r'C:\\data\\seizure\\test_1\\\\'\n",
    "    \n",
    "X_files, y = get_X_files_and_y(base, train_samples=1000)\n",
    "X_train_files, X_test_files, y_train, y_test = train_test_split(X_files, y, test_size=0.33, random_state=42)"
   ]
  },
  {
   "cell_type": "code",
   "execution_count": 52,
   "metadata": {
    "collapsed": false
   },
   "outputs": [
    {
     "name": "stdout",
     "output_type": "stream",
     "text": [
      "1000\n",
      "1000\n"
     ]
    }
   ],
   "source": [
    "print(len(X_files))\n",
    "print(len(y))"
   ]
  },
  {
   "cell_type": "code",
   "execution_count": 53,
   "metadata": {
    "collapsed": false
   },
   "outputs": [
    {
     "name": "stdout",
     "output_type": "stream",
     "text": [
      "%0: Loading file 1_510_0.mat\n",
      "%10: Loading file 1_298_0.mat\n",
      "%20: Loading file 1_254_0.mat\n",
      "%30: Loading file 1_1058_0.mat\n",
      "%40: Loading file 1_3_1.mat\n",
      "%50: Loading file 1_133_1.mat\n",
      "%60: Loading file 1_69_1.mat\n",
      "%70: Loading file 1_629_0.mat\n",
      "%80: Loading file 1_342_0.mat\n",
      "%90: Loading file 1_140_0.mat\n",
      "Wall time: 2min 4s\n",
      "%0: Loading file 1_361_0.mat\n",
      "%10: Loading file 1_343_0.mat\n",
      "%20: Loading file 1_479_0.mat\n",
      "%30: Loading file 1_611_0.mat\n",
      "%40: Loading file 1_151_0.mat\n",
      "%50: Loading file 1_483_0.mat\n",
      "%60: Loading file 1_437_0.mat\n",
      "%70: Loading file 1_74_1.mat\n",
      "%80: Loading file 1_227_0.mat\n",
      "%90: Loading file 1_286_0.mat\n",
      "Wall time: 1min 4s\n",
      "X_train shape: (85760L, 16L) - y_train shape: (670L,)\n",
      "X_test shape: (42240L, 16L) - y_test shape: (330L,)\n"
     ]
    }
   ],
   "source": [
    "%time X_train = get_X_from_files(base_dir=base, files=X_train_files)\n",
    "%time X_test = get_X_from_files(base_dir=base, files=X_test_files)\n",
    "print(u'X_train shape: {} - y_train shape: {}'.format(X_train.shape, y_train.shape))\n",
    "print(u'X_test shape: {} - y_test shape: {}'.format(X_test.shape, y_test.shape))"
   ]
  },
  {
   "cell_type": "code",
   "execution_count": 55,
   "metadata": {
    "collapsed": false
   },
   "outputs": [
    {
     "name": "stdout",
     "output_type": "stream",
     "text": [
      "85760\n",
      "670\n",
      "--------\n",
      "42240\n",
      "330\n"
     ]
    }
   ],
   "source": [
    "print(len(X_train))\n",
    "print(len(y_train))\n",
    "print('--------')\n",
    "print(len(X_test))\n",
    "print(len(y_test))"
   ]
  },
  {
   "cell_type": "code",
   "execution_count": 49,
   "metadata": {
    "collapsed": false
   },
   "outputs": [
    {
     "data": {
      "text/plain": [
       "array([[ -522.83203125, -2230.59814453,  1213.36413574, -6526.05859375,\n",
       "        -1849.34411621,   460.59753418,  -730.86401367,  -184.24256897,\n",
       "         -376.07785034,  2654.484375  ,   867.40881348,   770.71661377,\n",
       "         2509.0925293 ,  3169.86572266,   835.84240723,   187.69282532],\n",
       "       [ 1018.17175293,  1230.95703125,  -809.96130371, -1067.27197266,\n",
       "        -2720.84667969, -2980.80371094, -1877.52319336, -1476.08032227,\n",
       "         2715.11450195,  1885.99450684,  -581.54443359,    79.69972229,\n",
       "         -655.93640137,  6191.70214844,   748.34313965, -2019.03833008],\n",
       "       [-1347.70117188,  -533.51928711,  -583.28344727, -1643.6887207 ,\n",
       "           24.52093315, -1588.49865723,  2331.15161133,  -763.27905273,\n",
       "        -1485.48095703,  -747.85113525,  2346.11181641, -1469.6229248 ,\n",
       "         2892.92529297, -1577.02380371,  5108.41601562,  -907.89154053],\n",
       "       [ -552.44030762,  -672.64904785,  -104.58300781,  1196.57897949,\n",
       "          595.27740479,   298.974823  ,  -286.58587646,    36.76357269,\n",
       "          604.27893066,  -650.30969238,   811.89367676,    90.24077606,\n",
       "          161.20527649,  -980.30737305, -1101.83935547,   741.57275391],\n",
       "       [-1585.11254883,  -353.49313354,  -309.75375366,   666.12536621,\n",
       "        -1610.81994629,  -670.75842285, -1020.39276123,   -78.79224396,\n",
       "         -273.1321106 , -1404.43432617,  -833.80596924,  -400.40039062,\n",
       "          857.16149902,  4254.05566406,  2744.24316406,   107.6860199 ]], dtype=float32)"
      ]
     },
     "execution_count": 49,
     "metadata": {},
     "output_type": "execute_result"
    }
   ],
   "source": [
    "X_train[:5]"
   ]
  },
  {
   "cell_type": "code",
   "execution_count": 50,
   "metadata": {
    "collapsed": false
   },
   "outputs": [
    {
     "data": {
      "text/plain": [
       "array([ 0.,  0.,  1.,  0.,  0.])"
      ]
     },
     "execution_count": 50,
     "metadata": {},
     "output_type": "execute_result"
    }
   ],
   "source": [
    "y_train[:5]"
   ]
  },
  {
   "cell_type": "code",
   "execution_count": 13,
   "metadata": {
    "collapsed": false
   },
   "outputs": [
    {
     "ename": "WindowsError",
     "evalue": "[Error 3] The system cannot find the path specified: 'c:\\\\data\\\\seizure\\\\train1/*.*'",
     "output_type": "error",
     "traceback": [
      "\u001b[1;31m---------------------------------------------------------------------------\u001b[0m",
      "\u001b[1;31mWindowsError\u001b[0m                              Traceback (most recent call last)",
      "\u001b[1;32m<ipython-input-13-8a5b36d239c8>\u001b[0m in \u001b[0;36m<module>\u001b[1;34m()\u001b[0m\n\u001b[0;32m      1\u001b[0m \u001b[0mbase_dir\u001b[0m \u001b[1;33m=\u001b[0m \u001b[1;34m'c:\\\\data\\\\seizure\\\\train1'\u001b[0m\u001b[1;33m\u001b[0m\u001b[0m\n\u001b[1;32m----> 2\u001b[1;33m \u001b[1;32mfor\u001b[0m \u001b[0mi\u001b[0m\u001b[1;33m,\u001b[0m \u001b[0mfilename\u001b[0m \u001b[1;32min\u001b[0m \u001b[0menumerate\u001b[0m\u001b[1;33m(\u001b[0m\u001b[0mos\u001b[0m\u001b[1;33m.\u001b[0m\u001b[0mlistdir\u001b[0m\u001b[1;33m(\u001b[0m\u001b[0mbase_dir\u001b[0m\u001b[1;33m)\u001b[0m\u001b[1;33m)\u001b[0m\u001b[1;33m:\u001b[0m\u001b[1;33m\u001b[0m\u001b[0m\n\u001b[0m\u001b[0;32m      3\u001b[0m     \u001b[1;32mprint\u001b[0m\u001b[1;33m(\u001b[0m\u001b[0mfileName\u001b[0m\u001b[1;33m)\u001b[0m\u001b[1;33m\u001b[0m\u001b[0m\n",
      "\u001b[1;31mWindowsError\u001b[0m: [Error 3] The system cannot find the path specified: 'c:\\\\data\\\\seizure\\\\train1/*.*'"
     ]
    }
   ],
   "source": [
    "# base_dir = 'c:\\\\data\\\\seizure\\\\train1'\n",
    "# for i, filename in enumerate(os.listdir(base_dir)):\n",
    "#     print(fileName)"
   ]
  },
  {
   "cell_type": "code",
   "execution_count": null,
   "metadata": {
    "collapsed": true
   },
   "outputs": [],
   "source": []
  },
  {
   "cell_type": "code",
   "execution_count": 18,
   "metadata": {
    "collapsed": false
   },
   "outputs": [
    {
     "ename": "WindowsError",
     "evalue": "[Error 3] The system cannot find the path specified: './seizure/train1/*.*'",
     "output_type": "error",
     "traceback": [
      "\u001b[1;31m---------------------------------------------------------------------------\u001b[0m",
      "\u001b[1;31mWindowsError\u001b[0m                              Traceback (most recent call last)",
      "\u001b[1;32m<ipython-input-18-8d79de181774>\u001b[0m in \u001b[0;36m<module>\u001b[1;34m()\u001b[0m\n\u001b[1;32m----> 1\u001b[1;33m \u001b[0mos\u001b[0m\u001b[1;33m.\u001b[0m\u001b[0mlistdir\u001b[0m\u001b[1;33m(\u001b[0m\u001b[1;34m'./seizure/train1'\u001b[0m\u001b[1;33m)\u001b[0m\u001b[1;33m\u001b[0m\u001b[0m\n\u001b[0m",
      "\u001b[1;31mWindowsError\u001b[0m: [Error 3] The system cannot find the path specified: './seizure/train1/*.*'"
     ]
    }
   ],
   "source": [
    "# os.listdir('./seizure/train1')"
   ]
  },
  {
   "cell_type": "code",
   "execution_count": 21,
   "metadata": {
    "collapsed": false
   },
   "outputs": [
    {
     "ename": "WindowsError",
     "evalue": "[Error 123] The filename, directory name, or volume label syntax is incorrect: 'c:data\\\\seizure\\test_1/*.*'",
     "output_type": "error",
     "traceback": [
      "\u001b[1;31m---------------------------------------------------------------------------\u001b[0m",
      "\u001b[1;31mWindowsError\u001b[0m                              Traceback (most recent call last)",
      "\u001b[1;32m<ipython-input-21-3a6dc4b39a11>\u001b[0m in \u001b[0;36m<module>\u001b[1;34m()\u001b[0m\n\u001b[0;32m      1\u001b[0m \u001b[1;32mimport\u001b[0m \u001b[0mos\u001b[0m\u001b[1;33m\u001b[0m\u001b[0m\n\u001b[0;32m      2\u001b[0m \u001b[0mstartpath\u001b[0m \u001b[1;33m=\u001b[0m \u001b[1;34m\"c:data\\seizure\\test_1\"\u001b[0m\u001b[1;33m\u001b[0m\u001b[0m\n\u001b[1;32m----> 3\u001b[1;33m \u001b[0mcorpus_path\u001b[0m \u001b[1;33m=\u001b[0m \u001b[0msorted\u001b[0m\u001b[1;33m(\u001b[0m\u001b[1;33m[\u001b[0m\u001b[0mos\u001b[0m\u001b[1;33m.\u001b[0m\u001b[0mpath\u001b[0m\u001b[1;33m.\u001b[0m\u001b[0mjoin\u001b[0m\u001b[1;33m(\u001b[0m\u001b[1;34m\"c:\"\u001b[0m\u001b[1;33m,\u001b[0m \u001b[1;34m\"data\"\u001b[0m\u001b[1;33m,\u001b[0m \u001b[0mdirectories\u001b[0m\u001b[1;33m)\u001b[0m \u001b[1;32mfor\u001b[0m \u001b[0mdirectories\u001b[0m \u001b[1;32min\u001b[0m \u001b[0mos\u001b[0m\u001b[1;33m.\u001b[0m\u001b[0mlistdir\u001b[0m\u001b[1;33m(\u001b[0m\u001b[0mstartpath\u001b[0m\u001b[1;33m)\u001b[0m\u001b[1;33m]\u001b[0m\u001b[1;33m)\u001b[0m\u001b[1;33m\u001b[0m\u001b[0m\n\u001b[0m\u001b[0;32m      4\u001b[0m \u001b[1;32mprint\u001b[0m\u001b[1;33m(\u001b[0m\u001b[0mcorpus_path\u001b[0m\u001b[1;33m)\u001b[0m\u001b[1;33m\u001b[0m\u001b[0m\n",
      "\u001b[1;31mWindowsError\u001b[0m: [Error 123] The filename, directory name, or volume label syntax is incorrect: 'c:data\\\\seizure\\test_1/*.*'"
     ]
    }
   ],
   "source": [
    "import os\n",
    "startpath = \"c:data\\seizure\\test_1\"\n",
    "corpus_path = sorted([os.path.join(\"c:\", \"data\", directories) for directories in os.listdir(startpath)])\n",
    "print(corpus_path)"
   ]
  },
  {
   "cell_type": "code",
   "execution_count": 40,
   "metadata": {
    "collapsed": false
   },
   "outputs": [],
   "source": [
    "#this works\n",
    "# from os import listdir\n",
    "# from os.path import isfile, join\n",
    "# mypath = r\"C:\\data\\seizure\\test_1\"\n",
    "# onlyfiles = [f for f in listdir(mypath) if isfile(join(mypath, f))]\n",
    "# print(onlyfiles)"
   ]
  }
 ],
 "metadata": {
  "anaconda-cloud": {},
  "kernelspec": {
   "display_name": "Python [Root]",
   "language": "python",
   "name": "Python [Root]"
  },
  "language_info": {
   "codemirror_mode": {
    "name": "ipython",
    "version": 2
   },
   "file_extension": ".py",
   "mimetype": "text/x-python",
   "name": "python",
   "nbconvert_exporter": "python",
   "pygments_lexer": "ipython2",
   "version": "2.7.12"
  }
 },
 "nbformat": 4,
 "nbformat_minor": 0
}
