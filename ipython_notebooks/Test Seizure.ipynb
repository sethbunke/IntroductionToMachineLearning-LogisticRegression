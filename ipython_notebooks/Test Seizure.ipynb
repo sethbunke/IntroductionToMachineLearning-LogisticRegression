{
 "cells": [
  {
   "cell_type": "code",
   "execution_count": 3,
   "metadata": {
    "collapsed": true
   },
   "outputs": [],
   "source": [
    "def get_class_from_name(name):\n",
    "    \"\"\"\n",
    "    Gets the class from the file name.\n",
    "    \n",
    "    The class is defined by the last number written in the file name.\n",
    "    For example:\n",
    "    \n",
    "    Input: \".../1_1_1.mat\"\n",
    "    Output: 1.0\n",
    "    \n",
    "    Input: \".../1_1_0.mat\"\n",
    "    Output: 0.0\n",
    "    \"\"\"\n",
    "    try:\n",
    "        return float(name[-5])\n",
    "    except:\n",
    "        return 0.0\n",
    "\n",
    "assert get_class_from_name('/train_1/1_1_0.mat') == 0.0\n",
    "assert get_class_from_name('/train_1/1_1_1.mat') == 1.0"
   ]
  },
  {
   "cell_type": "code",
   "execution_count": 4,
   "metadata": {
    "collapsed": true
   },
   "outputs": [],
   "source": [
    "from scipy.fftpack import rfft\n",
    "\n",
    "\n",
    "def get_X_files_and_y(base_dir, train_samples=600):\n",
    "    ignored_files = ['.DS_Store', '1_45_1.mat']\n",
    "\n",
    "    X_files = np.array([])\n",
    "    y = np.array([])\n",
    "\n",
    "    for i, filename in enumerate(os.listdir(base_dir)):\n",
    "        if filename in ignored_files:\n",
    "            continue\n",
    "\n",
    "        X_files = np.append(X_files, str(filename))\n",
    "        y = np.append(y, get_class_from_name(filename))  # The number of readings\n",
    "\n",
    "        if i >= train_samples:\n",
    "            break\n",
    "    \n",
    "    return X_files, y\n",
    "\n",
    "\n",
    "def get_X_from_files(base_dir, files, show_progress=True):\n",
    "    \"\"\"\n",
    "    Given a list of filenames, returns the Standard deviation of the content of each file as a row.\n",
    "    \"\"\"\n",
    "    X = None\n",
    "    n = 128\n",
    "\n",
    "    total_files = len(files)\n",
    "\n",
    "    for i, filename in enumerate(files):\n",
    "        if show_progress and i % int(total_files / 10) == 0:\n",
    "            print(u'%{}: Loading file {}'.format(int(i * 100 / total_files), filename))\n",
    "\n",
    "        try:\n",
    "            mat_data = scipy.io.loadmat(''.join([base_dir, filename]))\n",
    "        except ValueError as ex:\n",
    "            print(u'Error loading MAT file {}: {}'.format(filename, str(ex)))\n",
    "            continue\n",
    "\n",
    "        data = mat_data['dataStruct'][0][0][0]\n",
    "        x_fft = rfft(data, n=n, axis=0)\n",
    "\n",
    "        X = np.vstack([X, x_fft]) if X is not None else x_fft\n",
    "    \n",
    "    return X"
   ]
  },
  {
   "cell_type": "code",
   "execution_count": 36,
   "metadata": {
    "collapsed": false,
    "scrolled": true
   },
   "outputs": [],
   "source": [
    "import os\n",
    "import numpy as np\n",
    "from sklearn.cross_validation import train_test_split\n",
    "\n",
    "base = r'C:\\data\\seizure\\train_1'\n",
    "base_tests = r'C:\\data\\seizure\\test_1'\n",
    "    \n",
    "X_files, y = get_X_files_and_y(base, train_samples=250)\n",
    "X_train_files, X_test_files, y_train, y_test = train_test_split(X_files, y, test_size=0.33, random_state=42)"
   ]
  },
  {
   "cell_type": "code",
   "execution_count": 39,
   "metadata": {
    "collapsed": false
   },
   "outputs": [
    {
     "name": "stdout",
     "output_type": "stream",
     "text": [
      "251\n",
      "251\n"
     ]
    }
   ],
   "source": [
    "print(len(X_files))\n",
    "print(len(y))"
   ]
  },
  {
   "cell_type": "code",
   "execution_count": 13,
   "metadata": {
    "collapsed": false
   },
   "outputs": [
    {
     "ename": "WindowsError",
     "evalue": "[Error 3] The system cannot find the path specified: 'c:\\\\data\\\\seizure\\\\train1/*.*'",
     "output_type": "error",
     "traceback": [
      "\u001b[1;31m---------------------------------------------------------------------------\u001b[0m",
      "\u001b[1;31mWindowsError\u001b[0m                              Traceback (most recent call last)",
      "\u001b[1;32m<ipython-input-13-8a5b36d239c8>\u001b[0m in \u001b[0;36m<module>\u001b[1;34m()\u001b[0m\n\u001b[0;32m      1\u001b[0m \u001b[0mbase_dir\u001b[0m \u001b[1;33m=\u001b[0m \u001b[1;34m'c:\\\\data\\\\seizure\\\\train1'\u001b[0m\u001b[1;33m\u001b[0m\u001b[0m\n\u001b[1;32m----> 2\u001b[1;33m \u001b[1;32mfor\u001b[0m \u001b[0mi\u001b[0m\u001b[1;33m,\u001b[0m \u001b[0mfilename\u001b[0m \u001b[1;32min\u001b[0m \u001b[0menumerate\u001b[0m\u001b[1;33m(\u001b[0m\u001b[0mos\u001b[0m\u001b[1;33m.\u001b[0m\u001b[0mlistdir\u001b[0m\u001b[1;33m(\u001b[0m\u001b[0mbase_dir\u001b[0m\u001b[1;33m)\u001b[0m\u001b[1;33m)\u001b[0m\u001b[1;33m:\u001b[0m\u001b[1;33m\u001b[0m\u001b[0m\n\u001b[0m\u001b[0;32m      3\u001b[0m     \u001b[1;32mprint\u001b[0m\u001b[1;33m(\u001b[0m\u001b[0mfileName\u001b[0m\u001b[1;33m)\u001b[0m\u001b[1;33m\u001b[0m\u001b[0m\n",
      "\u001b[1;31mWindowsError\u001b[0m: [Error 3] The system cannot find the path specified: 'c:\\\\data\\\\seizure\\\\train1/*.*'"
     ]
    }
   ],
   "source": [
    "base_dir = 'c:\\\\data\\\\seizure\\\\train1'\n",
    "for i, filename in enumerate(os.listdir(base_dir)):\n",
    "    print(fileName)"
   ]
  },
  {
   "cell_type": "code",
   "execution_count": 18,
   "metadata": {
    "collapsed": false
   },
   "outputs": [
    {
     "ename": "WindowsError",
     "evalue": "[Error 3] The system cannot find the path specified: './seizure/train1/*.*'",
     "output_type": "error",
     "traceback": [
      "\u001b[1;31m---------------------------------------------------------------------------\u001b[0m",
      "\u001b[1;31mWindowsError\u001b[0m                              Traceback (most recent call last)",
      "\u001b[1;32m<ipython-input-18-8d79de181774>\u001b[0m in \u001b[0;36m<module>\u001b[1;34m()\u001b[0m\n\u001b[1;32m----> 1\u001b[1;33m \u001b[0mos\u001b[0m\u001b[1;33m.\u001b[0m\u001b[0mlistdir\u001b[0m\u001b[1;33m(\u001b[0m\u001b[1;34m'./seizure/train1'\u001b[0m\u001b[1;33m)\u001b[0m\u001b[1;33m\u001b[0m\u001b[0m\n\u001b[0m",
      "\u001b[1;31mWindowsError\u001b[0m: [Error 3] The system cannot find the path specified: './seizure/train1/*.*'"
     ]
    }
   ],
   "source": [
    "os.listdir('./seizure/train1')"
   ]
  },
  {
   "cell_type": "code",
   "execution_count": 21,
   "metadata": {
    "collapsed": false
   },
   "outputs": [
    {
     "ename": "WindowsError",
     "evalue": "[Error 123] The filename, directory name, or volume label syntax is incorrect: 'c:data\\\\seizure\\test_1/*.*'",
     "output_type": "error",
     "traceback": [
      "\u001b[1;31m---------------------------------------------------------------------------\u001b[0m",
      "\u001b[1;31mWindowsError\u001b[0m                              Traceback (most recent call last)",
      "\u001b[1;32m<ipython-input-21-3a6dc4b39a11>\u001b[0m in \u001b[0;36m<module>\u001b[1;34m()\u001b[0m\n\u001b[0;32m      1\u001b[0m \u001b[1;32mimport\u001b[0m \u001b[0mos\u001b[0m\u001b[1;33m\u001b[0m\u001b[0m\n\u001b[0;32m      2\u001b[0m \u001b[0mstartpath\u001b[0m \u001b[1;33m=\u001b[0m \u001b[1;34m\"c:data\\seizure\\test_1\"\u001b[0m\u001b[1;33m\u001b[0m\u001b[0m\n\u001b[1;32m----> 3\u001b[1;33m \u001b[0mcorpus_path\u001b[0m \u001b[1;33m=\u001b[0m \u001b[0msorted\u001b[0m\u001b[1;33m(\u001b[0m\u001b[1;33m[\u001b[0m\u001b[0mos\u001b[0m\u001b[1;33m.\u001b[0m\u001b[0mpath\u001b[0m\u001b[1;33m.\u001b[0m\u001b[0mjoin\u001b[0m\u001b[1;33m(\u001b[0m\u001b[1;34m\"c:\"\u001b[0m\u001b[1;33m,\u001b[0m \u001b[1;34m\"data\"\u001b[0m\u001b[1;33m,\u001b[0m \u001b[0mdirectories\u001b[0m\u001b[1;33m)\u001b[0m \u001b[1;32mfor\u001b[0m \u001b[0mdirectories\u001b[0m \u001b[1;32min\u001b[0m \u001b[0mos\u001b[0m\u001b[1;33m.\u001b[0m\u001b[0mlistdir\u001b[0m\u001b[1;33m(\u001b[0m\u001b[0mstartpath\u001b[0m\u001b[1;33m)\u001b[0m\u001b[1;33m]\u001b[0m\u001b[1;33m)\u001b[0m\u001b[1;33m\u001b[0m\u001b[0m\n\u001b[0m\u001b[0;32m      4\u001b[0m \u001b[1;32mprint\u001b[0m\u001b[1;33m(\u001b[0m\u001b[0mcorpus_path\u001b[0m\u001b[1;33m)\u001b[0m\u001b[1;33m\u001b[0m\u001b[0m\n",
      "\u001b[1;31mWindowsError\u001b[0m: [Error 123] The filename, directory name, or volume label syntax is incorrect: 'c:data\\\\seizure\\test_1/*.*'"
     ]
    }
   ],
   "source": [
    "import os\n",
    "startpath = \"c:data\\seizure\\test_1\"\n",
    "corpus_path = sorted([os.path.join(\"c:\", \"data\", directories) for directories in os.listdir(startpath)])\n",
    "print(corpus_path)"
   ]
  },
  {
   "cell_type": "code",
   "execution_count": 28,
   "metadata": {
    "collapsed": false
   },
   "outputs": [
    {
     "name": "stdout",
     "output_type": "stream",
     "text": [
      "['1_1.mat', '1_10.mat', '1_100.mat', '1_1000.mat', '1_1001.mat', '1_1002.mat', '1_1003.mat', '1_1004.mat', '1_1005.mat', '1_1006.mat', '1_1007.mat', '1_1008.mat', '1_1009.mat', '1_101.mat', '1_1010.mat', '1_1011.mat', '1_1012.mat', '1_1013.mat', '1_1014.mat', '1_1015.mat', '1_1016.mat', '1_1017.mat', '1_1018.mat', '1_1019.mat', '1_102.mat', '1_1020.mat', '1_1021.mat', '1_1022.mat', '1_1023.mat', '1_1024.mat', '1_1025.mat', '1_1026.mat', '1_1027.mat', '1_1028.mat', '1_1029.mat', '1_103.mat', '1_1030.mat', '1_1031.mat', '1_1032.mat', '1_1033.mat', '1_1034.mat', '1_1035.mat', '1_1036.mat', '1_1037.mat', '1_1038.mat', '1_1039.mat', '1_104.mat', '1_1040.mat', '1_1041.mat', '1_1042.mat', '1_1043.mat', '1_1044.mat', '1_1045.mat', '1_1046.mat', '1_1047.mat', '1_1048.mat', '1_1049.mat', '1_105.mat', '1_1050.mat', '1_1051.mat', '1_1052.mat', '1_1053.mat', '1_1054.mat', '1_1055.mat', '1_1056.mat', '1_1057.mat', '1_1058.mat', '1_1059.mat', '1_106.mat', '1_1060.mat', '1_1061.mat', '1_1062.mat', '1_1063.mat', '1_1064.mat', '1_1065.mat', '1_1066.mat', '1_1067.mat', '1_1068.mat', '1_1069.mat', '1_107.mat', '1_1070.mat', '1_1071.mat', '1_1072.mat', '1_1073.mat', '1_1074.mat', '1_1075.mat', '1_1076.mat', '1_1077.mat', '1_1078.mat', '1_1079.mat', '1_108.mat', '1_1080.mat', '1_1081.mat', '1_1082.mat', '1_1083.mat', '1_1084.mat', '1_1085.mat', '1_1086.mat', '1_1087.mat', '1_1088.mat', '1_1089.mat', '1_109.mat', '1_1090.mat', '1_1091.mat', '1_1092.mat', '1_1093.mat', '1_1094.mat', '1_1095.mat', '1_1096.mat', '1_1097.mat', '1_1098.mat', '1_1099.mat', '1_11.mat', '1_110.mat', '1_1100.mat', '1_1101.mat', '1_1102.mat', '1_1103.mat', '1_1104.mat', '1_1105.mat', '1_1106.mat', '1_1107.mat', '1_1108.mat', '1_1109.mat', '1_111.mat', '1_1110.mat', '1_1111.mat', '1_1112.mat', '1_1113.mat', '1_1114.mat', '1_1115.mat', '1_1116.mat', '1_1117.mat', '1_1118.mat', '1_1119.mat', '1_112.mat', '1_1120.mat', '1_1121.mat', '1_1122.mat', '1_1123.mat', '1_1124.mat', '1_1125.mat', '1_1126.mat', '1_1127.mat', '1_1128.mat', '1_1129.mat', '1_113.mat', '1_1130.mat', '1_1131.mat', '1_1132.mat', '1_1133.mat', '1_1134.mat', '1_1135.mat', '1_1136.mat', '1_1137.mat', '1_1138.mat', '1_1139.mat', '1_114.mat', '1_1140.mat', '1_1141.mat', '1_1142.mat', '1_1143.mat', '1_1144.mat', '1_1145.mat', '1_1146.mat', '1_1147.mat', '1_1148.mat', '1_1149.mat', '1_115.mat', '1_1150.mat', '1_1151.mat', '1_1152.mat', '1_1153.mat', '1_1154.mat', '1_1155.mat', '1_1156.mat', '1_1157.mat', '1_1158.mat', '1_1159.mat', '1_116.mat', '1_1160.mat', '1_1161.mat', '1_1162.mat', '1_1163.mat', '1_1164.mat', '1_1165.mat', '1_1166.mat', '1_1167.mat', '1_1168.mat', '1_1169.mat', '1_117.mat', '1_1170.mat', '1_1171.mat', '1_1172.mat', '1_1173.mat', '1_1174.mat', '1_1175.mat', '1_1176.mat', '1_1177.mat', '1_1178.mat', '1_1179.mat', '1_118.mat', '1_1180.mat', '1_1181.mat', '1_1182.mat', '1_1183.mat', '1_1184.mat', '1_1185.mat', '1_1186.mat', '1_1187.mat', '1_1188.mat', '1_1189.mat', '1_119.mat', '1_1190.mat', '1_1191.mat', '1_1192.mat', '1_1193.mat', '1_1194.mat', '1_1195.mat', '1_1196.mat', '1_1197.mat', '1_1198.mat', '1_1199.mat', '1_12.mat', '1_120.mat', '1_1200.mat', '1_1201.mat', '1_1202.mat', '1_1203.mat', '1_1204.mat', '1_1205.mat', '1_1206.mat', '1_1207.mat', '1_1208.mat', '1_1209.mat', '1_121.mat', '1_1210.mat', '1_1211.mat', '1_1212.mat', '1_1213.mat', '1_1214.mat', '1_1215.mat', '1_1216.mat', '1_1217.mat', '1_1218.mat', '1_1219.mat', '1_122.mat', '1_1220.mat', '1_1221.mat', '1_1222.mat', '1_1223.mat', '1_1224.mat', '1_1225.mat', '1_1226.mat', '1_1227.mat', '1_1228.mat', '1_1229.mat', '1_123.mat', '1_1230.mat', '1_1231.mat', '1_1232.mat', '1_1233.mat', '1_1234.mat', '1_1235.mat', '1_1236.mat', '1_1237.mat', '1_1238.mat', '1_1239.mat', '1_124.mat', '1_1240.mat', '1_1241.mat', '1_1242.mat', '1_1243.mat', '1_1244.mat', '1_1245.mat', '1_1246.mat', '1_1247.mat', '1_1248.mat', '1_1249.mat', '1_125.mat', '1_1250.mat', '1_1251.mat', '1_1252.mat', '1_1253.mat', '1_1254.mat', '1_1255.mat', '1_1256.mat', '1_1257.mat', '1_1258.mat', '1_1259.mat', '1_126.mat', '1_1260.mat', '1_1261.mat', '1_1262.mat', '1_1263.mat', '1_1264.mat', '1_1265.mat', '1_1266.mat', '1_1267.mat', '1_1268.mat', '1_1269.mat', '1_127.mat', '1_1270.mat', '1_1271.mat', '1_1272.mat', '1_1273.mat', '1_1274.mat', '1_1275.mat', '1_1276.mat', '1_1277.mat', '1_1278.mat', '1_1279.mat', '1_128.mat', '1_1280.mat', '1_1281.mat', '1_1282.mat', '1_1283.mat', '1_1284.mat', '1_1285.mat', '1_1286.mat', '1_1287.mat', '1_1288.mat', '1_1289.mat', '1_129.mat', '1_1290.mat', '1_1291.mat', '1_1292.mat', '1_1293.mat', '1_1294.mat', '1_1295.mat', '1_1296.mat', '1_1297.mat', '1_1298.mat', '1_1299.mat', '1_13.mat', '1_130.mat', '1_1300.mat', '1_1301.mat', '1_1302.mat', '1_1303.mat', '1_1304.mat', '1_1305.mat', '1_1306.mat', '1_1307.mat', '1_1308.mat', '1_1309.mat', '1_131.mat', '1_1310.mat', '1_1311.mat', '1_1312.mat', '1_1313.mat', '1_1314.mat', '1_1315.mat', '1_1316.mat', '1_1317.mat', '1_1318.mat', '1_1319.mat', '1_132.mat', '1_1320.mat', '1_1321.mat', '1_1322.mat', '1_1323.mat', '1_1324.mat', '1_1325.mat', '1_1326.mat', '1_1327.mat', '1_1328.mat', '1_1329.mat', '1_133.mat', '1_1330.mat', '1_1331.mat', '1_1332.mat', '1_1333.mat', '1_1334.mat', '1_1335.mat', '1_1336.mat', '1_1337.mat', '1_1338.mat', '1_1339.mat', '1_134.mat', '1_1340.mat', '1_1341.mat', '1_1342.mat', '1_1343.mat', '1_1344.mat', '1_1345.mat', '1_1346.mat', '1_1347.mat', '1_1348.mat', '1_1349.mat', '1_135.mat', '1_1350.mat', '1_1351.mat', '1_1352.mat', '1_1353.mat', '1_1354.mat', '1_1355.mat', '1_1356.mat', '1_1357.mat', '1_1358.mat', '1_1359.mat', '1_136.mat', '1_1360.mat', '1_1361.mat', '1_1362.mat', '1_1363.mat', '1_1364.mat', '1_1365.mat', '1_1366.mat', '1_1367.mat', '1_1368.mat', '1_1369.mat', '1_137.mat', '1_1370.mat', '1_1371.mat', '1_1372.mat', '1_1373.mat', '1_1374.mat', '1_1375.mat', '1_1376.mat', '1_1377.mat', '1_1378.mat', '1_1379.mat', '1_138.mat', '1_1380.mat', '1_1381.mat', '1_1382.mat', '1_1383.mat', '1_1384.mat', '1_1385.mat', '1_1386.mat', '1_1387.mat', '1_1388.mat', '1_1389.mat', '1_139.mat', '1_1390.mat', '1_1391.mat', '1_1392.mat', '1_1393.mat', '1_1394.mat', '1_1395.mat', '1_1396.mat', '1_1397.mat', '1_1398.mat', '1_1399.mat', '1_14.mat', '1_140.mat', '1_1400.mat', '1_1401.mat', '1_1402.mat', '1_1403.mat', '1_1404.mat', '1_1405.mat', '1_1406.mat', '1_1407.mat', '1_1408.mat', '1_1409.mat', '1_141.mat', '1_1410.mat', '1_1411.mat', '1_1412.mat', '1_1413.mat', '1_1414.mat', '1_1415.mat', '1_1416.mat', '1_1417.mat', '1_1418.mat', '1_1419.mat', '1_142.mat', '1_1420.mat', '1_1421.mat', '1_1422.mat', '1_1423.mat', '1_1424.mat', '1_1425.mat', '1_1426.mat', '1_1427.mat', '1_1428.mat', '1_1429.mat', '1_143.mat', '1_1430.mat', '1_1431.mat', '1_1432.mat', '1_1433.mat', '1_1434.mat', '1_1435.mat', '1_1436.mat', '1_1437.mat', '1_1438.mat', '1_1439.mat', '1_144.mat', '1_1440.mat', '1_1441.mat', '1_1442.mat', '1_1443.mat', '1_1444.mat', '1_1445.mat', '1_1446.mat', '1_1447.mat', '1_1448.mat', '1_1449.mat', '1_145.mat', '1_1450.mat', '1_1451.mat', '1_1452.mat', '1_1453.mat', '1_1454.mat', '1_1455.mat', '1_1456.mat', '1_1457.mat', '1_1458.mat', '1_1459.mat', '1_146.mat', '1_1460.mat', '1_1461.mat', '1_1462.mat', '1_1463.mat', '1_1464.mat', '1_1465.mat', '1_1466.mat', '1_1467.mat', '1_1468.mat', '1_1469.mat', '1_147.mat', '1_1470.mat', '1_1471.mat', '1_1472.mat', '1_1473.mat', '1_1474.mat', '1_1475.mat', '1_1476.mat', '1_1477.mat', '1_1478.mat', '1_1479.mat', '1_148.mat', '1_1480.mat', '1_1481.mat', '1_1482.mat', '1_1483.mat', '1_1484.mat', '1_1485.mat', '1_1486.mat', '1_1487.mat', '1_1488.mat', '1_1489.mat', '1_149.mat', '1_1490.mat', '1_1491.mat', '1_1492.mat', '1_1493.mat', '1_1494.mat', '1_1495.mat', '1_1496.mat', '1_1497.mat', '1_1498.mat', '1_1499.mat', '1_15.mat', '1_150.mat', '1_1500.mat', '1_1501.mat', '1_1502.mat', '1_1503.mat', '1_1504.mat', '1_1505.mat', '1_1506.mat', '1_1507.mat', '1_1508.mat', '1_1509.mat', '1_151.mat', '1_1510.mat', '1_1511.mat', '1_1512.mat', '1_1513.mat', '1_1514.mat', '1_1515.mat', '1_1516.mat', '1_1517.mat', '1_1518.mat', '1_1519.mat', '1_152.mat', '1_1520.mat', '1_1521.mat', '1_1522.mat', '1_1523.mat', '1_1524.mat', '1_1525.mat', '1_1526.mat', '1_1527.mat', '1_1528.mat', '1_1529.mat', '1_153.mat', '1_1530.mat', '1_1531.mat', '1_1532.mat', '1_1533.mat', '1_1534.mat', '1_1535.mat', '1_1536.mat', '1_1537.mat', '1_1538.mat', '1_1539.mat', '1_154.mat', '1_1540.mat', '1_1541.mat', '1_1542.mat', '1_1543.mat', '1_1544.mat', '1_1545.mat', '1_1546.mat', '1_1547.mat', '1_1548.mat', '1_1549.mat', '1_155.mat', '1_1550.mat', '1_1551.mat', '1_1552.mat', '1_1553.mat', '1_1554.mat', '1_1555.mat', '1_1556.mat', '1_1557.mat', '1_1558.mat', '1_1559.mat', '1_156.mat', '1_1560.mat', '1_1561.mat', '1_1562.mat', '1_1563.mat', '1_1564.mat', '1_1565.mat', '1_1566.mat', '1_1567.mat', '1_1568.mat', '1_1569.mat', '1_157.mat', '1_1570.mat', '1_1571.mat', '1_1572.mat', '1_1573.mat', '1_1574.mat', '1_1575.mat', '1_1576.mat', '1_1577.mat', '1_1578.mat', '1_1579.mat', '1_158.mat', '1_1580.mat', '1_1581.mat', '1_1582.mat', '1_1583.mat', '1_1584.mat', '1_159.mat', '1_16.mat', '1_160.mat', '1_161.mat', '1_162.mat', '1_163.mat', '1_164.mat', '1_165.mat', '1_166.mat', '1_167.mat', '1_168.mat', '1_169.mat', '1_17.mat', '1_170.mat', '1_171.mat', '1_172.mat', '1_173.mat', '1_174.mat', '1_175.mat', '1_176.mat', '1_177.mat', '1_178.mat', '1_179.mat', '1_18.mat', '1_180.mat', '1_181.mat', '1_182.mat', '1_183.mat', '1_184.mat', '1_185.mat', '1_186.mat', '1_187.mat', '1_188.mat', '1_189.mat', '1_19.mat', '1_190.mat', '1_191.mat', '1_192.mat', '1_193.mat', '1_194.mat', '1_195.mat', '1_196.mat', '1_197.mat', '1_198.mat', '1_199.mat', '1_2.mat', '1_20.mat', '1_200.mat', '1_201.mat', '1_202.mat', '1_203.mat', '1_204.mat', '1_205.mat', '1_206.mat', '1_207.mat', '1_208.mat', '1_209.mat', '1_21.mat', '1_210.mat', '1_211.mat', '1_212.mat', '1_213.mat', '1_214.mat', '1_215.mat', '1_216.mat', '1_217.mat', '1_218.mat', '1_219.mat', '1_22.mat', '1_220.mat', '1_221.mat', '1_222.mat', '1_223.mat', '1_224.mat', '1_225.mat', '1_226.mat', '1_227.mat', '1_228.mat', '1_229.mat', '1_23.mat', '1_230.mat', '1_231.mat', '1_232.mat', '1_233.mat', '1_234.mat', '1_235.mat', '1_236.mat', '1_237.mat', '1_238.mat', '1_239.mat', '1_24.mat', '1_240.mat', '1_241.mat', '1_242.mat', '1_243.mat', '1_244.mat', '1_245.mat', '1_246.mat', '1_247.mat', '1_248.mat', '1_249.mat', '1_25.mat', '1_250.mat', '1_251.mat', '1_252.mat', '1_253.mat', '1_254.mat', '1_255.mat', '1_256.mat', '1_257.mat', '1_258.mat', '1_259.mat', '1_26.mat', '1_260.mat', '1_261.mat', '1_262.mat', '1_263.mat', '1_264.mat', '1_265.mat', '1_266.mat', '1_267.mat', '1_268.mat', '1_269.mat', '1_27.mat', '1_270.mat', '1_271.mat', '1_272.mat', '1_273.mat', '1_274.mat', '1_275.mat', '1_276.mat', '1_277.mat', '1_278.mat', '1_279.mat', '1_28.mat', '1_280.mat', '1_281.mat', '1_282.mat', '1_283.mat', '1_284.mat', '1_285.mat', '1_286.mat', '1_287.mat', '1_288.mat', '1_289.mat', '1_29.mat', '1_290.mat', '1_291.mat', '1_292.mat', '1_293.mat', '1_294.mat', '1_295.mat', '1_296.mat', '1_297.mat', '1_298.mat', '1_299.mat', '1_3.mat', '1_30.mat', '1_300.mat', '1_301.mat', '1_302.mat', '1_303.mat', '1_304.mat', '1_305.mat', '1_306.mat', '1_307.mat', '1_308.mat', '1_309.mat', '1_31.mat', '1_310.mat', '1_311.mat', '1_312.mat', '1_313.mat', '1_314.mat', '1_315.mat', '1_316.mat', '1_317.mat', '1_318.mat', '1_319.mat', '1_32.mat', '1_320.mat', '1_321.mat', '1_322.mat', '1_323.mat', '1_324.mat', '1_325.mat', '1_326.mat', '1_327.mat', '1_328.mat', '1_329.mat', '1_33.mat', '1_330.mat', '1_331.mat', '1_332.mat', '1_333.mat', '1_334.mat', '1_335.mat', '1_336.mat', '1_337.mat', '1_338.mat', '1_339.mat', '1_34.mat', '1_340.mat', '1_341.mat', '1_342.mat', '1_343.mat', '1_344.mat', '1_345.mat', '1_346.mat', '1_347.mat', '1_348.mat', '1_349.mat', '1_35.mat', '1_350.mat', '1_351.mat', '1_352.mat', '1_353.mat', '1_354.mat', '1_355.mat', '1_356.mat', '1_357.mat', '1_358.mat', '1_359.mat', '1_36.mat', '1_360.mat', '1_361.mat', '1_362.mat', '1_363.mat', '1_364.mat', '1_365.mat', '1_366.mat', '1_367.mat', '1_368.mat', '1_369.mat', '1_37.mat', '1_370.mat', '1_371.mat', '1_372.mat', '1_373.mat', '1_374.mat', '1_375.mat', '1_376.mat', '1_377.mat', '1_378.mat', '1_379.mat', '1_38.mat', '1_380.mat', '1_381.mat', '1_382.mat', '1_383.mat', '1_384.mat', '1_385.mat', '1_386.mat', '1_387.mat', '1_388.mat', '1_389.mat', '1_39.mat', '1_390.mat', '1_391.mat', '1_392.mat', '1_393.mat', '1_394.mat', '1_395.mat', '1_396.mat', '1_397.mat', '1_398.mat', '1_399.mat', '1_4.mat', '1_40.mat', '1_400.mat', '1_401.mat', '1_402.mat', '1_403.mat', '1_404.mat', '1_405.mat', '1_406.mat', '1_407.mat', '1_408.mat', '1_409.mat', '1_41.mat', '1_410.mat', '1_411.mat', '1_412.mat', '1_413.mat', '1_414.mat', '1_415.mat', '1_416.mat', '1_417.mat', '1_418.mat', '1_419.mat', '1_42.mat', '1_420.mat', '1_421.mat', '1_422.mat', '1_423.mat', '1_424.mat', '1_425.mat', '1_426.mat', '1_427.mat', '1_428.mat', '1_429.mat', '1_43.mat', '1_430.mat', '1_431.mat', '1_432.mat', '1_433.mat', '1_434.mat', '1_435.mat', '1_436.mat', '1_437.mat', '1_438.mat', '1_439.mat', '1_44.mat', '1_440.mat', '1_441.mat', '1_442.mat', '1_443.mat', '1_444.mat', '1_445.mat', '1_446.mat', '1_447.mat', '1_448.mat', '1_449.mat', '1_45.mat', '1_450.mat', '1_451.mat', '1_452.mat', '1_453.mat', '1_454.mat', '1_455.mat', '1_456.mat', '1_457.mat', '1_458.mat', '1_459.mat', '1_46.mat', '1_460.mat', '1_461.mat', '1_462.mat', '1_463.mat', '1_464.mat', '1_465.mat', '1_466.mat', '1_467.mat', '1_468.mat', '1_469.mat', '1_47.mat', '1_470.mat', '1_471.mat', '1_472.mat', '1_473.mat', '1_474.mat', '1_475.mat', '1_476.mat', '1_477.mat', '1_478.mat', '1_479.mat', '1_48.mat', '1_480.mat', '1_481.mat', '1_482.mat', '1_483.mat', '1_484.mat', '1_485.mat', '1_486.mat', '1_487.mat', '1_488.mat', '1_489.mat', '1_49.mat', '1_490.mat', '1_491.mat', '1_492.mat', '1_493.mat', '1_494.mat', '1_495.mat', '1_496.mat', '1_497.mat', '1_498.mat', '1_499.mat', '1_5.mat', '1_50.mat', '1_500.mat', '1_501.mat', '1_502.mat', '1_503.mat', '1_504.mat', '1_505.mat', '1_506.mat', '1_507.mat', '1_508.mat', '1_509.mat', '1_51.mat', '1_510.mat', '1_511.mat', '1_512.mat', '1_513.mat', '1_514.mat', '1_515.mat', '1_516.mat', '1_517.mat', '1_518.mat', '1_519.mat', '1_52.mat', '1_520.mat', '1_521.mat', '1_522.mat', '1_523.mat', '1_524.mat', '1_525.mat', '1_526.mat', '1_527.mat', '1_528.mat', '1_529.mat', '1_53.mat', '1_530.mat', '1_531.mat', '1_532.mat', '1_533.mat', '1_534.mat', '1_535.mat', '1_536.mat', '1_537.mat', '1_538.mat', '1_539.mat', '1_54.mat', '1_540.mat', '1_541.mat', '1_542.mat', '1_543.mat', '1_544.mat', '1_545.mat', '1_546.mat', '1_547.mat', '1_548.mat', '1_549.mat', '1_55.mat', '1_550.mat', '1_551.mat', '1_552.mat', '1_553.mat', '1_554.mat', '1_555.mat', '1_556.mat', '1_557.mat', '1_558.mat', '1_559.mat', '1_56.mat', '1_560.mat', '1_561.mat', '1_562.mat', '1_563.mat', '1_564.mat', '1_565.mat', '1_566.mat', '1_567.mat', '1_568.mat', '1_569.mat', '1_57.mat', '1_570.mat', '1_571.mat', '1_572.mat', '1_573.mat', '1_574.mat', '1_575.mat', '1_576.mat', '1_577.mat', '1_578.mat', '1_579.mat', '1_58.mat', '1_580.mat', '1_581.mat', '1_582.mat', '1_583.mat', '1_584.mat', '1_585.mat', '1_586.mat', '1_587.mat', '1_588.mat', '1_589.mat', '1_59.mat', '1_590.mat', '1_591.mat', '1_592.mat', '1_593.mat', '1_594.mat', '1_595.mat', '1_596.mat', '1_597.mat', '1_598.mat', '1_599.mat', '1_6.mat', '1_60.mat', '1_600.mat', '1_601.mat', '1_602.mat', '1_603.mat', '1_604.mat', '1_605.mat', '1_606.mat', '1_607.mat', '1_608.mat', '1_609.mat', '1_61.mat', '1_610.mat', '1_611.mat', '1_612.mat', '1_613.mat', '1_614.mat', '1_615.mat', '1_616.mat', '1_617.mat', '1_618.mat', '1_619.mat', '1_62.mat', '1_620.mat', '1_621.mat', '1_622.mat', '1_623.mat', '1_624.mat', '1_625.mat', '1_626.mat', '1_627.mat', '1_628.mat', '1_629.mat', '1_63.mat', '1_630.mat', '1_631.mat', '1_632.mat', '1_633.mat', '1_634.mat', '1_635.mat', '1_636.mat', '1_637.mat', '1_638.mat', '1_639.mat', '1_64.mat', '1_640.mat', '1_641.mat', '1_642.mat', '1_643.mat', '1_644.mat', '1_645.mat', '1_646.mat', '1_647.mat', '1_648.mat', '1_649.mat', '1_65.mat', '1_650.mat', '1_651.mat', '1_652.mat', '1_653.mat', '1_654.mat', '1_655.mat', '1_656.mat', '1_657.mat', '1_658.mat', '1_659.mat', '1_66.mat', '1_660.mat', '1_661.mat', '1_662.mat', '1_663.mat', '1_664.mat', '1_665.mat', '1_666.mat', '1_667.mat', '1_668.mat', '1_669.mat', '1_67.mat', '1_670.mat', '1_671.mat', '1_672.mat', '1_673.mat', '1_674.mat', '1_675.mat', '1_676.mat', '1_677.mat', '1_678.mat', '1_679.mat', '1_68.mat', '1_680.mat', '1_681.mat', '1_682.mat', '1_683.mat', '1_684.mat', '1_685.mat', '1_686.mat', '1_687.mat', '1_688.mat', '1_689.mat', '1_69.mat', '1_690.mat', '1_691.mat', '1_692.mat', '1_693.mat', '1_694.mat', '1_695.mat', '1_696.mat', '1_697.mat', '1_698.mat', '1_699.mat', '1_7.mat', '1_70.mat', '1_700.mat', '1_701.mat', '1_702.mat', '1_703.mat', '1_704.mat', '1_705.mat', '1_706.mat', '1_707.mat', '1_708.mat', '1_709.mat', '1_71.mat', '1_710.mat', '1_711.mat', '1_712.mat', '1_713.mat', '1_714.mat', '1_715.mat', '1_716.mat', '1_717.mat', '1_718.mat', '1_719.mat', '1_72.mat', '1_720.mat', '1_721.mat', '1_722.mat', '1_723.mat', '1_724.mat', '1_725.mat', '1_726.mat', '1_727.mat', '1_728.mat', '1_729.mat', '1_73.mat', '1_730.mat', '1_731.mat', '1_732.mat', '1_733.mat', '1_734.mat', '1_735.mat', '1_736.mat', '1_737.mat', '1_738.mat', '1_739.mat', '1_74.mat', '1_740.mat', '1_741.mat', '1_742.mat', '1_743.mat', '1_744.mat', '1_745.mat', '1_746.mat', '1_747.mat', '1_748.mat', '1_749.mat', '1_75.mat', '1_750.mat', '1_751.mat', '1_752.mat', '1_753.mat', '1_754.mat', '1_755.mat', '1_756.mat', '1_757.mat', '1_758.mat', '1_759.mat', '1_76.mat', '1_760.mat', '1_761.mat', '1_762.mat', '1_763.mat', '1_764.mat', '1_765.mat', '1_766.mat', '1_767.mat', '1_768.mat', '1_769.mat', '1_77.mat', '1_770.mat', '1_771.mat', '1_772.mat', '1_773.mat', '1_774.mat', '1_775.mat', '1_776.mat', '1_777.mat', '1_778.mat', '1_779.mat', '1_78.mat', '1_780.mat', '1_781.mat', '1_782.mat', '1_783.mat', '1_784.mat', '1_785.mat', '1_786.mat', '1_787.mat', '1_788.mat', '1_789.mat', '1_79.mat', '1_790.mat', '1_791.mat', '1_792.mat', '1_793.mat', '1_794.mat', '1_795.mat', '1_796.mat', '1_797.mat', '1_798.mat', '1_799.mat', '1_8.mat', '1_80.mat', '1_800.mat', '1_801.mat', '1_802.mat', '1_803.mat', '1_804.mat', '1_805.mat', '1_806.mat', '1_807.mat', '1_808.mat', '1_809.mat', '1_81.mat', '1_810.mat', '1_811.mat', '1_812.mat', '1_813.mat', '1_814.mat', '1_815.mat', '1_816.mat', '1_817.mat', '1_818.mat', '1_819.mat', '1_82.mat', '1_820.mat', '1_821.mat', '1_822.mat', '1_823.mat', '1_824.mat', '1_825.mat', '1_826.mat', '1_827.mat', '1_828.mat', '1_829.mat', '1_83.mat', '1_830.mat', '1_831.mat', '1_832.mat', '1_833.mat', '1_834.mat', '1_835.mat', '1_836.mat', '1_837.mat', '1_838.mat', '1_839.mat', '1_84.mat', '1_840.mat', '1_841.mat', '1_842.mat', '1_843.mat', '1_844.mat', '1_845.mat', '1_846.mat', '1_847.mat', '1_848.mat', '1_849.mat', '1_85.mat', '1_850.mat', '1_851.mat', '1_852.mat', '1_853.mat', '1_854.mat', '1_855.mat', '1_856.mat', '1_857.mat', '1_858.mat', '1_859.mat', '1_86.mat', '1_860.mat', '1_861.mat', '1_862.mat', '1_863.mat', '1_864.mat', '1_865.mat', '1_866.mat', '1_867.mat', '1_868.mat', '1_869.mat', '1_87.mat', '1_870.mat', '1_871.mat', '1_872.mat', '1_873.mat', '1_874.mat', '1_875.mat', '1_876.mat', '1_877.mat', '1_878.mat', '1_879.mat', '1_88.mat', '1_880.mat', '1_881.mat', '1_882.mat', '1_883.mat', '1_884.mat', '1_885.mat', '1_886.mat', '1_887.mat', '1_888.mat', '1_889.mat', '1_89.mat', '1_890.mat', '1_891.mat', '1_892.mat', '1_893.mat', '1_894.mat', '1_895.mat', '1_896.mat', '1_897.mat', '1_898.mat', '1_899.mat', '1_9.mat', '1_90.mat', '1_900.mat', '1_901.mat', '1_902.mat', '1_903.mat', '1_904.mat', '1_905.mat', '1_906.mat', '1_907.mat', '1_908.mat', '1_909.mat', '1_91.mat', '1_910.mat', '1_911.mat', '1_912.mat', '1_913.mat', '1_914.mat', '1_915.mat', '1_916.mat', '1_917.mat', '1_918.mat', '1_919.mat', '1_92.mat', '1_920.mat', '1_921.mat', '1_922.mat', '1_923.mat', '1_924.mat', '1_925.mat', '1_926.mat', '1_927.mat', '1_928.mat', '1_929.mat', '1_93.mat', '1_930.mat', '1_931.mat', '1_932.mat', '1_933.mat', '1_934.mat', '1_935.mat', '1_936.mat', '1_937.mat', '1_938.mat', '1_939.mat', '1_94.mat', '1_940.mat', '1_941.mat', '1_942.mat', '1_943.mat', '1_944.mat', '1_945.mat', '1_946.mat', '1_947.mat', '1_948.mat', '1_949.mat', '1_95.mat', '1_950.mat', '1_951.mat', '1_952.mat', '1_953.mat', '1_954.mat', '1_955.mat', '1_956.mat', '1_957.mat', '1_958.mat', '1_959.mat', '1_96.mat', '1_960.mat', '1_961.mat', '1_962.mat', '1_963.mat', '1_964.mat', '1_965.mat', '1_966.mat', '1_967.mat', '1_968.mat', '1_969.mat', '1_97.mat', '1_970.mat', '1_971.mat', '1_972.mat', '1_973.mat', '1_974.mat', '1_975.mat', '1_976.mat', '1_977.mat', '1_978.mat', '1_979.mat', '1_98.mat', '1_980.mat', '1_981.mat', '1_982.mat', '1_983.mat', '1_984.mat', '1_985.mat', '1_986.mat', '1_987.mat', '1_988.mat', '1_989.mat', '1_99.mat', '1_990.mat', '1_991.mat', '1_992.mat', '1_993.mat', '1_994.mat', '1_995.mat', '1_996.mat', '1_997.mat', '1_998.mat', '1_999.mat']\n"
     ]
    }
   ],
   "source": [
    "from os import listdir\n",
    "from os.path import isfile, join\n",
    "mypath = r\"C:\\data\\seizure\\test_1\"\n",
    "onlyfiles = [f for f in listdir(mypath) if isfile(join(mypath, f))]\n",
    "print(onlyfiles)"
   ]
  }
 ],
 "metadata": {
  "anaconda-cloud": {},
  "kernelspec": {
   "display_name": "Python [Root]",
   "language": "python",
   "name": "Python [Root]"
  },
  "language_info": {
   "codemirror_mode": {
    "name": "ipython",
    "version": 2
   },
   "file_extension": ".py",
   "mimetype": "text/x-python",
   "name": "python",
   "nbconvert_exporter": "python",
   "pygments_lexer": "ipython2",
   "version": "2.7.12"
  }
 },
 "nbformat": 4,
 "nbformat_minor": 0
}
